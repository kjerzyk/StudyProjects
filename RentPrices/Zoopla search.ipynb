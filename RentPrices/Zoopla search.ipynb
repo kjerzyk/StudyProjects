{
 "cells": [
  {
   "cell_type": "markdown",
   "metadata": {},
   "source": [
    "https://www.zoopla.co.uk/to-rent/property/london/clapham/?identifier=london%2Fclapham&furnished_state=unfurnished&include_shared_accommodation=false&page_size=100&q=Clapham%2C%20London&search_source=refine&radius=1&price_frequency=per_month\n",
    "\n",
    "- furnished_state = unfurnished/furnished\n",
    "- include_shared_accomodation = false/true\n",
    "- price_frequency = per_month /per_week\n",
    "- q - location, example: Clapham%2C%20London returns: Clapham, London\n",
    "- restults_sort = newest_listings\n",
    "- radius - 1 mile\n",
    "- page_size = number of results per page - 10,25,50,100"
   ]
  },
  {
   "cell_type": "code",
   "execution_count": 1,
   "metadata": {},
   "outputs": [],
   "source": [
    "#Importing packages\n",
    "from bs4 import BeautifulSoup\n",
    "import pandas as pd\n",
    "import time\n",
    "import re\n",
    "import numpy as np\n",
    "import seaborn as sns\n",
    "import matplotlib.pyplot as plt\n",
    "import requests\n",
    "%matplotlib inline"
   ]
  },
  {
   "cell_type": "code",
   "execution_count": 2,
   "metadata": {},
   "outputs": [],
   "source": [
    "#To ignore FutureWarnings\n",
    "import warnings\n",
    "warnings.simplefilter(action='ignore', category=FutureWarning)"
   ]
  },
  {
   "cell_type": "markdown",
   "metadata": {},
   "source": [
    "### Function below takes in a link from Zoopla and returns a dataframe of flats in the given area."
   ]
  },
  {
   "cell_type": "code",
   "execution_count": 28,
   "metadata": {
    "pixiedust": {
     "displayParams": {}
    }
   },
   "outputs": [],
   "source": [
    "def zoopla_parser(first_page_link):\n",
    "    #Creating lists to hold info extracted from each page\n",
    "    rent=[]\n",
    "    bedrooms=[]\n",
    "    bathrooms = []\n",
    "    receptions = []\n",
    "    link=[]\n",
    "    description=[]\n",
    "    location=[]\n",
    "    available=[]\n",
    "    \n",
    "    #Regex formula to find and separate the monthly cost in form of a number - \n",
    "    #eliminate pound sign, comma and the weekly cost in parenthesis\n",
    "    \n",
    "    reg = re.compile(r'£(\\d*)?,?(\\d*)\\w*')\n",
    "    \n",
    "    #Accessing the first page and saving number pages for the search\n",
    "    first_page = requests.get(first_page_link)\n",
    "    c=first_page.content\n",
    "    s = BeautifulSoup(c, 'html.parser')\n",
    "    \n",
    "    #Last page is listed as 2nd last position:\n",
    "    num_of_pages = int(s.find('div', {'class':'paginate bg-muted'}).findAll('a')[-2].text) \n",
    "    \n",
    "    for i in range(1,num_of_pages):\n",
    "        page_link= first_page_link+'&pn='+str(i)\n",
    "        page = requests.get(page_link)\n",
    "        c = page.content\n",
    "        s = BeautifulSoup(c, 'html.parser')\n",
    "            \n",
    "        #Get the content of each page:    \n",
    "        listing = s.find('ul', {'class': 'listing-results clearfix js-gtm-list'}).findAll('div', {'class':'listing-results-right clearfix'})\n",
    "        for flat in listing:\n",
    "            #Using regex to select monthly rent and appending it to rent list\n",
    "            try:\n",
    "                res = reg.search(flat.find('a', {'class':'listing-results-price text-price'}).text.strip())\n",
    "                rent.append(int(res.group(1)+res.group(2)))\n",
    "            except:\n",
    "                rent.append(None)\n",
    "            #Finding number of bedrooms in specific span and appending to list\n",
    "            try:\n",
    "                bedrooms.append(int(flat.find('span', {'class':'num-icon num-beds'}).text.strip()))\n",
    "            except:\n",
    "                bedrooms.append(None)\n",
    "            #Finding number of bathroom in span and appending to list\n",
    "            try:\n",
    "                bathrooms.append(int(flat.find('span', {'class':'num-icon num-baths'}).text.strip()))\n",
    "            except:\n",
    "                bathrooms.append(None)\n",
    "            #Finding number of reception rooms and appending to list:\n",
    "            try:\n",
    "                receptions.append(int(flat.find('span', {'class':'num-icon num-reception'}).text.strip()))\n",
    "            except:\n",
    "                receptions.append(None)\n",
    "            #Finding link and flat description:\n",
    "            link.append('https://www.zoopla.co.uk'+flat.find('h2').find('a')['href'])\n",
    "        \n",
    "            description.append(flat.find('h2').find('a').text.strip())\n",
    "        \n",
    "            #Location:\n",
    "            try:\n",
    "                location.append(flat.findAll('span', {'class': None})[-1].text.strip())\n",
    "            except:\n",
    "                location.append(None)\n",
    "            #Available:\n",
    "            try:\n",
    "                available.append(flat.find('p', {'class':'available-from'}).text.strip())\n",
    "            except:\n",
    "                available.append(None)\n",
    "        \n",
    "        if i%5==0:\n",
    "            print('Page '+str(i)+' done') #Printing when every 5th page is done.    \n",
    "            \n",
    "        time.sleep(1)   \n",
    "    \n",
    "    #Return a dataframe containing all information \n",
    "    global df\n",
    "    df = pd.DataFrame({'Rent':rent,\n",
    "                  'Bedrooms': bedrooms,\n",
    "                  'Bathrooms': bathrooms,\n",
    "                  'Receptions': receptions,\n",
    "                  'Description': description,\n",
    "                  'Location': location,\n",
    "                  'Available': available,\n",
    "                  'Link': link})\n",
    "    return(df)"
   ]
  },
  {
   "cell_type": "code",
   "execution_count": 29,
   "metadata": {
    "scrolled": true
   },
   "outputs": [
    {
     "name": "stdout",
     "output_type": "stream",
     "text": [
      "Page 5 done\n",
      "Page 10 done\n",
      "Page 15 done\n",
      "Page 20 done\n",
      "Page 25 done\n",
      "Page 30 done\n",
      "Page 35 done\n",
      "Page 40 done\n",
      "Page 45 done\n"
     ]
    },
    {
     "data": {
      "text/html": [
       "<div>\n",
       "<style scoped>\n",
       "    .dataframe tbody tr th:only-of-type {\n",
       "        vertical-align: middle;\n",
       "    }\n",
       "\n",
       "    .dataframe tbody tr th {\n",
       "        vertical-align: top;\n",
       "    }\n",
       "\n",
       "    .dataframe thead th {\n",
       "        text-align: right;\n",
       "    }\n",
       "</style>\n",
       "<table border=\"1\" class=\"dataframe\">\n",
       "  <thead>\n",
       "    <tr style=\"text-align: right;\">\n",
       "      <th></th>\n",
       "      <th>Rent</th>\n",
       "      <th>Bedrooms</th>\n",
       "      <th>Bathrooms</th>\n",
       "      <th>Receptions</th>\n",
       "      <th>Description</th>\n",
       "      <th>Location</th>\n",
       "      <th>Available</th>\n",
       "      <th>Link</th>\n",
       "    </tr>\n",
       "  </thead>\n",
       "  <tbody>\n",
       "    <tr>\n",
       "      <th>0</th>\n",
       "      <td>108333.0</td>\n",
       "      <td>6.0</td>\n",
       "      <td>6.0</td>\n",
       "      <td>2.0</td>\n",
       "      <td>6 bed semi-detached house to rent</td>\n",
       "      <td>The Boltons, Chelsea SW10</td>\n",
       "      <td>Available from 28th Mar 2019</td>\n",
       "      <td>https://www.zoopla.co.uk/to-rent/details/50432877</td>\n",
       "    </tr>\n",
       "    <tr>\n",
       "      <th>1</th>\n",
       "      <td>2817.0</td>\n",
       "      <td>2.0</td>\n",
       "      <td>1.0</td>\n",
       "      <td>1.0</td>\n",
       "      <td>2 bed flat to rent</td>\n",
       "      <td>Cromwell Place, London SW7</td>\n",
       "      <td>Available immediately</td>\n",
       "      <td>https://www.zoopla.co.uk/to-rent/details/48184260</td>\n",
       "    </tr>\n",
       "    <tr>\n",
       "      <th>2</th>\n",
       "      <td>1850.0</td>\n",
       "      <td>2.0</td>\n",
       "      <td>1.0</td>\n",
       "      <td>NaN</td>\n",
       "      <td>2 bed flat to rent</td>\n",
       "      <td>Alexandra Drive, Wimbledon SW19</td>\n",
       "      <td>Available from 15th Feb 2019</td>\n",
       "      <td>https://www.zoopla.co.uk/to-rent/details/50432788</td>\n",
       "    </tr>\n",
       "    <tr>\n",
       "      <th>3</th>\n",
       "      <td>2350.0</td>\n",
       "      <td>2.0</td>\n",
       "      <td>2.0</td>\n",
       "      <td>NaN</td>\n",
       "      <td>2 bed flat to rent</td>\n",
       "      <td>St. Georges Square, London SW1V</td>\n",
       "      <td>Available from  7th Mar 2019</td>\n",
       "      <td>https://www.zoopla.co.uk/to-rent/details/50432732</td>\n",
       "    </tr>\n",
       "    <tr>\n",
       "      <th>4</th>\n",
       "      <td>1350.0</td>\n",
       "      <td>1.0</td>\n",
       "      <td>1.0</td>\n",
       "      <td>NaN</td>\n",
       "      <td>1 bed flat to rent</td>\n",
       "      <td>Victoria Drive, Wimbledon SW19</td>\n",
       "      <td>Available immediately</td>\n",
       "      <td>https://www.zoopla.co.uk/to-rent/details/50432704</td>\n",
       "    </tr>\n",
       "    <tr>\n",
       "      <th>5</th>\n",
       "      <td>1018.0</td>\n",
       "      <td>NaN</td>\n",
       "      <td>1.0</td>\n",
       "      <td>NaN</td>\n",
       "      <td>Studio to rent</td>\n",
       "      <td>Holdernesse Road, London SW17</td>\n",
       "      <td>Available immediately</td>\n",
       "      <td>https://www.zoopla.co.uk/to-rent/details/50432666</td>\n",
       "    </tr>\n",
       "    <tr>\n",
       "      <th>6</th>\n",
       "      <td>3033.0</td>\n",
       "      <td>1.0</td>\n",
       "      <td>1.0</td>\n",
       "      <td>1.0</td>\n",
       "      <td>1 bed flat to rent</td>\n",
       "      <td>Christchurch Street, Chelsea, London SW3</td>\n",
       "      <td>None</td>\n",
       "      <td>https://www.zoopla.co.uk/to-rent/details/47889947</td>\n",
       "    </tr>\n",
       "    <tr>\n",
       "      <th>7</th>\n",
       "      <td>2492.0</td>\n",
       "      <td>2.0</td>\n",
       "      <td>1.0</td>\n",
       "      <td>1.0</td>\n",
       "      <td>2 bed flat to rent</td>\n",
       "      <td>Lambrook Terrace, Fulham, London SW6</td>\n",
       "      <td>None</td>\n",
       "      <td>https://www.zoopla.co.uk/to-rent/details/50432430</td>\n",
       "    </tr>\n",
       "    <tr>\n",
       "      <th>8</th>\n",
       "      <td>1400.0</td>\n",
       "      <td>1.0</td>\n",
       "      <td>NaN</td>\n",
       "      <td>NaN</td>\n",
       "      <td>1 bed flat to rent</td>\n",
       "      <td>Wincott Street, London SE11</td>\n",
       "      <td>Available from  2nd Apr 2019</td>\n",
       "      <td>https://www.zoopla.co.uk/to-rent/details/41491502</td>\n",
       "    </tr>\n",
       "    <tr>\n",
       "      <th>9</th>\n",
       "      <td>3200.0</td>\n",
       "      <td>4.0</td>\n",
       "      <td>2.0</td>\n",
       "      <td>2.0</td>\n",
       "      <td>4 bed semi-detached house to rent</td>\n",
       "      <td>Haslemere Avenue, London SW18</td>\n",
       "      <td>Available from 24th Apr 2019</td>\n",
       "      <td>https://www.zoopla.co.uk/to-rent/details/50432271</td>\n",
       "    </tr>\n",
       "    <tr>\n",
       "      <th>10</th>\n",
       "      <td>1210.0</td>\n",
       "      <td>NaN</td>\n",
       "      <td>1.0</td>\n",
       "      <td>NaN</td>\n",
       "      <td>Studio to rent</td>\n",
       "      <td>Elvaston Place, South Kensington SW7</td>\n",
       "      <td>Available from 11th Feb 2019</td>\n",
       "      <td>https://www.zoopla.co.uk/to-rent/details/50432222</td>\n",
       "    </tr>\n",
       "    <tr>\n",
       "      <th>11</th>\n",
       "      <td>6500.0</td>\n",
       "      <td>2.0</td>\n",
       "      <td>2.0</td>\n",
       "      <td>1.0</td>\n",
       "      <td>2 bed flat to rent</td>\n",
       "      <td>Borough Road, London SE1</td>\n",
       "      <td>Available immediately</td>\n",
       "      <td>https://www.zoopla.co.uk/to-rent/details/50432041</td>\n",
       "    </tr>\n",
       "    <tr>\n",
       "      <th>12</th>\n",
       "      <td>1600.0</td>\n",
       "      <td>1.0</td>\n",
       "      <td>1.0</td>\n",
       "      <td>1.0</td>\n",
       "      <td>1 bed flat to rent</td>\n",
       "      <td>Battersea Park Road, Battersea SW8</td>\n",
       "      <td>Available from  9th Feb 2019</td>\n",
       "      <td>https://www.zoopla.co.uk/to-rent/details/50432033</td>\n",
       "    </tr>\n",
       "    <tr>\n",
       "      <th>13</th>\n",
       "      <td>1650.0</td>\n",
       "      <td>3.0</td>\n",
       "      <td>1.0</td>\n",
       "      <td>NaN</td>\n",
       "      <td>3 bed flat to rent</td>\n",
       "      <td>Ebenezer Walk, Streatham SW16</td>\n",
       "      <td>Available from 18th Feb 2019</td>\n",
       "      <td>https://www.zoopla.co.uk/to-rent/details/50431910</td>\n",
       "    </tr>\n",
       "    <tr>\n",
       "      <th>14</th>\n",
       "      <td>1820.0</td>\n",
       "      <td>1.0</td>\n",
       "      <td>1.0</td>\n",
       "      <td>1.0</td>\n",
       "      <td>1 bed flat to rent</td>\n",
       "      <td>Juniper Drive, London SW18</td>\n",
       "      <td>Available from  4th Mar 2019</td>\n",
       "      <td>https://www.zoopla.co.uk/to-rent/details/50431882</td>\n",
       "    </tr>\n",
       "    <tr>\n",
       "      <th>15</th>\n",
       "      <td>1750.0</td>\n",
       "      <td>1.0</td>\n",
       "      <td>1.0</td>\n",
       "      <td>NaN</td>\n",
       "      <td>1 bed flat to rent</td>\n",
       "      <td>Cotton Row, Battersea SW11</td>\n",
       "      <td>Available from  9th Apr 2019</td>\n",
       "      <td>https://www.zoopla.co.uk/to-rent/details/50431883</td>\n",
       "    </tr>\n",
       "    <tr>\n",
       "      <th>16</th>\n",
       "      <td>1127.0</td>\n",
       "      <td>NaN</td>\n",
       "      <td>1.0</td>\n",
       "      <td>NaN</td>\n",
       "      <td>Studio to rent</td>\n",
       "      <td>Claverton Street, London SW1V</td>\n",
       "      <td>Available immediately</td>\n",
       "      <td>https://www.zoopla.co.uk/to-rent/details/50431837</td>\n",
       "    </tr>\n",
       "    <tr>\n",
       "      <th>17</th>\n",
       "      <td>6933.0</td>\n",
       "      <td>3.0</td>\n",
       "      <td>3.0</td>\n",
       "      <td>1.0</td>\n",
       "      <td>3 bed flat to rent</td>\n",
       "      <td>Campden Hill Road, London W8</td>\n",
       "      <td>Available immediately</td>\n",
       "      <td>https://www.zoopla.co.uk/to-rent/details/50431447</td>\n",
       "    </tr>\n",
       "    <tr>\n",
       "      <th>18</th>\n",
       "      <td>1999.0</td>\n",
       "      <td>4.0</td>\n",
       "      <td>1.0</td>\n",
       "      <td>NaN</td>\n",
       "      <td>4 bed flat to rent</td>\n",
       "      <td>Inville Road, Missenden, Walworth SE17</td>\n",
       "      <td>Available immediately</td>\n",
       "      <td>https://www.zoopla.co.uk/to-rent/details/50431306</td>\n",
       "    </tr>\n",
       "    <tr>\n",
       "      <th>19</th>\n",
       "      <td>1450.0</td>\n",
       "      <td>3.0</td>\n",
       "      <td>1.0</td>\n",
       "      <td>NaN</td>\n",
       "      <td>3 bed flat to rent</td>\n",
       "      <td>Auckland Hill, West Norwood SE27</td>\n",
       "      <td>Available from 10th Feb 2019</td>\n",
       "      <td>https://www.zoopla.co.uk/to-rent/details/50431230</td>\n",
       "    </tr>\n",
       "    <tr>\n",
       "      <th>20</th>\n",
       "      <td>3683.0</td>\n",
       "      <td>3.0</td>\n",
       "      <td>2.0</td>\n",
       "      <td>1.0</td>\n",
       "      <td>3 bed flat to rent</td>\n",
       "      <td>Warren House, Beckford Close, Kensington, Lond...</td>\n",
       "      <td>Available immediately</td>\n",
       "      <td>https://www.zoopla.co.uk/to-rent/details/50431185</td>\n",
       "    </tr>\n",
       "    <tr>\n",
       "      <th>21</th>\n",
       "      <td>3250.0</td>\n",
       "      <td>2.0</td>\n",
       "      <td>2.0</td>\n",
       "      <td>NaN</td>\n",
       "      <td>2 bed flat to rent</td>\n",
       "      <td>Guildhouse Street, Pimlico SW1V</td>\n",
       "      <td>Available immediately</td>\n",
       "      <td>https://www.zoopla.co.uk/to-rent/details/50431198</td>\n",
       "    </tr>\n",
       "    <tr>\n",
       "      <th>22</th>\n",
       "      <td>1625.0</td>\n",
       "      <td>1.0</td>\n",
       "      <td>1.0</td>\n",
       "      <td>1.0</td>\n",
       "      <td>1 bed flat to rent</td>\n",
       "      <td>Earsby Street, West Kensington, London W14</td>\n",
       "      <td>Available immediately</td>\n",
       "      <td>https://www.zoopla.co.uk/to-rent/details/50431170</td>\n",
       "    </tr>\n",
       "    <tr>\n",
       "      <th>23</th>\n",
       "      <td>4225.0</td>\n",
       "      <td>2.0</td>\n",
       "      <td>1.0</td>\n",
       "      <td>1.0</td>\n",
       "      <td>2 bed flat to rent</td>\n",
       "      <td>Modern 2 Bed, Fulham Road, London SW3</td>\n",
       "      <td>Available immediately</td>\n",
       "      <td>https://www.zoopla.co.uk/to-rent/details/50431147</td>\n",
       "    </tr>\n",
       "    <tr>\n",
       "      <th>24</th>\n",
       "      <td>2050.0</td>\n",
       "      <td>2.0</td>\n",
       "      <td>1.0</td>\n",
       "      <td>2.0</td>\n",
       "      <td>2 bed flat to rent</td>\n",
       "      <td>Emmanuel Road, Balham SW12</td>\n",
       "      <td>Available from  9th Feb 2019</td>\n",
       "      <td>https://www.zoopla.co.uk/to-rent/details/50431049</td>\n",
       "    </tr>\n",
       "    <tr>\n",
       "      <th>25</th>\n",
       "      <td>1450.0</td>\n",
       "      <td>2.0</td>\n",
       "      <td>1.0</td>\n",
       "      <td>1.0</td>\n",
       "      <td>2 bed flat to rent</td>\n",
       "      <td>Peckham High Street, London SE15</td>\n",
       "      <td>Available immediately</td>\n",
       "      <td>https://www.zoopla.co.uk/to-rent/details/50431039</td>\n",
       "    </tr>\n",
       "    <tr>\n",
       "      <th>26</th>\n",
       "      <td>3900.0</td>\n",
       "      <td>2.0</td>\n",
       "      <td>2.0</td>\n",
       "      <td>1.0</td>\n",
       "      <td>2 bed flat to rent</td>\n",
       "      <td>Southwark Bridge Road, Southwark SE1</td>\n",
       "      <td>Available immediately</td>\n",
       "      <td>https://www.zoopla.co.uk/to-rent/details/50431038</td>\n",
       "    </tr>\n",
       "    <tr>\n",
       "      <th>27</th>\n",
       "      <td>3250.0</td>\n",
       "      <td>2.0</td>\n",
       "      <td>2.0</td>\n",
       "      <td>1.0</td>\n",
       "      <td>2 bed flat to rent</td>\n",
       "      <td>Fulham Road, Pelham Court, London SW3</td>\n",
       "      <td>Available immediately</td>\n",
       "      <td>https://www.zoopla.co.uk/to-rent/details/50430946</td>\n",
       "    </tr>\n",
       "    <tr>\n",
       "      <th>28</th>\n",
       "      <td>3207.0</td>\n",
       "      <td>1.0</td>\n",
       "      <td>1.0</td>\n",
       "      <td>1.0</td>\n",
       "      <td>1 bed flat to rent</td>\n",
       "      <td>Hill Street, London W1J</td>\n",
       "      <td>Available immediately</td>\n",
       "      <td>https://www.zoopla.co.uk/to-rent/details/50430947</td>\n",
       "    </tr>\n",
       "    <tr>\n",
       "      <th>29</th>\n",
       "      <td>3142.0</td>\n",
       "      <td>1.0</td>\n",
       "      <td>1.0</td>\n",
       "      <td>1.0</td>\n",
       "      <td>1 bed flat to rent</td>\n",
       "      <td>Palace Wharf Apartments, Rainville Road, Londo...</td>\n",
       "      <td>Available from 30th Mar 2019</td>\n",
       "      <td>https://www.zoopla.co.uk/to-rent/details/50430949</td>\n",
       "    </tr>\n",
       "    <tr>\n",
       "      <th>...</th>\n",
       "      <td>...</td>\n",
       "      <td>...</td>\n",
       "      <td>...</td>\n",
       "      <td>...</td>\n",
       "      <td>...</td>\n",
       "      <td>...</td>\n",
       "      <td>...</td>\n",
       "      <td>...</td>\n",
       "    </tr>\n",
       "    <tr>\n",
       "      <th>4570</th>\n",
       "      <td>7800.0</td>\n",
       "      <td>NaN</td>\n",
       "      <td>NaN</td>\n",
       "      <td>NaN</td>\n",
       "      <td>Parking/garage to rent</td>\n",
       "      <td>Brook Mews, London W1K</td>\n",
       "      <td>None</td>\n",
       "      <td>https://www.zoopla.co.uk/to-rent/details/41678839</td>\n",
       "    </tr>\n",
       "    <tr>\n",
       "      <th>4571</th>\n",
       "      <td>1950.0</td>\n",
       "      <td>2.0</td>\n",
       "      <td>1.0</td>\n",
       "      <td>1.0</td>\n",
       "      <td>2 bed terraced house to rent</td>\n",
       "      <td>Cecil Road, London SW19</td>\n",
       "      <td>None</td>\n",
       "      <td>https://www.zoopla.co.uk/to-rent/details/41664898</td>\n",
       "    </tr>\n",
       "    <tr>\n",
       "      <th>4572</th>\n",
       "      <td>1450.0</td>\n",
       "      <td>2.0</td>\n",
       "      <td>1.0</td>\n",
       "      <td>1.0</td>\n",
       "      <td>2 bed flat to rent</td>\n",
       "      <td>Streatham High Road, Streatham SW16</td>\n",
       "      <td>None</td>\n",
       "      <td>https://www.zoopla.co.uk/to-rent/details/42714840</td>\n",
       "    </tr>\n",
       "    <tr>\n",
       "      <th>4573</th>\n",
       "      <td>3000.0</td>\n",
       "      <td>3.0</td>\n",
       "      <td>1.0</td>\n",
       "      <td>1.0</td>\n",
       "      <td>3 bed flat to rent</td>\n",
       "      <td>Cromwell Road, Earls Court SW5</td>\n",
       "      <td>None</td>\n",
       "      <td>https://www.zoopla.co.uk/to-rent/details/42714886</td>\n",
       "    </tr>\n",
       "    <tr>\n",
       "      <th>4574</th>\n",
       "      <td>1647.0</td>\n",
       "      <td>1.0</td>\n",
       "      <td>1.0</td>\n",
       "      <td>1.0</td>\n",
       "      <td>1 bed flat to rent</td>\n",
       "      <td>Trinity Church Square, Borough SE1</td>\n",
       "      <td>None</td>\n",
       "      <td>https://www.zoopla.co.uk/to-rent/details/41577793</td>\n",
       "    </tr>\n",
       "    <tr>\n",
       "      <th>4575</th>\n",
       "      <td>4117.0</td>\n",
       "      <td>2.0</td>\n",
       "      <td>2.0</td>\n",
       "      <td>1.0</td>\n",
       "      <td>2 bed flat to rent</td>\n",
       "      <td>Lexham Gardens, London W8</td>\n",
       "      <td>None</td>\n",
       "      <td>https://www.zoopla.co.uk/to-rent/details/41518159</td>\n",
       "    </tr>\n",
       "    <tr>\n",
       "      <th>4576</th>\n",
       "      <td>1950.0</td>\n",
       "      <td>1.0</td>\n",
       "      <td>1.0</td>\n",
       "      <td>1.0</td>\n",
       "      <td>1 bed flat to rent</td>\n",
       "      <td>Wrights Lane, Kensington, London W8</td>\n",
       "      <td>None</td>\n",
       "      <td>https://www.zoopla.co.uk/to-rent/details/41267376</td>\n",
       "    </tr>\n",
       "    <tr>\n",
       "      <th>4577</th>\n",
       "      <td>3250.0</td>\n",
       "      <td>2.0</td>\n",
       "      <td>NaN</td>\n",
       "      <td>NaN</td>\n",
       "      <td>2 bed flat to rent</td>\n",
       "      <td>Thornton Place, Clapham Common North Side SW4</td>\n",
       "      <td>None</td>\n",
       "      <td>https://www.zoopla.co.uk/to-rent/details/41187577</td>\n",
       "    </tr>\n",
       "    <tr>\n",
       "      <th>4578</th>\n",
       "      <td>1500.0</td>\n",
       "      <td>1.0</td>\n",
       "      <td>1.0</td>\n",
       "      <td>1.0</td>\n",
       "      <td>1 bed flat to rent</td>\n",
       "      <td>Falcon Road, Battersea SW11</td>\n",
       "      <td>Available immediately</td>\n",
       "      <td>https://www.zoopla.co.uk/to-rent/details/15753023</td>\n",
       "    </tr>\n",
       "    <tr>\n",
       "      <th>4579</th>\n",
       "      <td>1595.0</td>\n",
       "      <td>2.0</td>\n",
       "      <td>1.0</td>\n",
       "      <td>1.0</td>\n",
       "      <td>2 bed flat to rent</td>\n",
       "      <td>Streatham High Road, Streatham SW16</td>\n",
       "      <td>Available immediately</td>\n",
       "      <td>https://www.zoopla.co.uk/to-rent/details/41136232</td>\n",
       "    </tr>\n",
       "    <tr>\n",
       "      <th>4580</th>\n",
       "      <td>12133.0</td>\n",
       "      <td>3.0</td>\n",
       "      <td>3.0</td>\n",
       "      <td>NaN</td>\n",
       "      <td>3 bed flat to rent</td>\n",
       "      <td>Cheval Place, London SW7</td>\n",
       "      <td>None</td>\n",
       "      <td>https://www.zoopla.co.uk/to-rent/details/48360849</td>\n",
       "    </tr>\n",
       "    <tr>\n",
       "      <th>4581</th>\n",
       "      <td>6478.0</td>\n",
       "      <td>2.0</td>\n",
       "      <td>2.0</td>\n",
       "      <td>NaN</td>\n",
       "      <td>2 bed flat to rent</td>\n",
       "      <td>Harrington Road, London SW7</td>\n",
       "      <td>None</td>\n",
       "      <td>https://www.zoopla.co.uk/to-rent/details/48360850</td>\n",
       "    </tr>\n",
       "    <tr>\n",
       "      <th>4582</th>\n",
       "      <td>28167.0</td>\n",
       "      <td>3.0</td>\n",
       "      <td>3.0</td>\n",
       "      <td>1.0</td>\n",
       "      <td>3 bed flat to rent</td>\n",
       "      <td>Brompton Road, London SW3</td>\n",
       "      <td>None</td>\n",
       "      <td>https://www.zoopla.co.uk/to-rent/details/40671457</td>\n",
       "    </tr>\n",
       "    <tr>\n",
       "      <th>4583</th>\n",
       "      <td>86667.0</td>\n",
       "      <td>6.0</td>\n",
       "      <td>4.0</td>\n",
       "      <td>2.0</td>\n",
       "      <td>6 bed flat to rent</td>\n",
       "      <td>Knightsbridge, London SW1X</td>\n",
       "      <td>Available immediately</td>\n",
       "      <td>https://www.zoopla.co.uk/to-rent/details/40670657</td>\n",
       "    </tr>\n",
       "    <tr>\n",
       "      <th>4584</th>\n",
       "      <td>6067.0</td>\n",
       "      <td>2.0</td>\n",
       "      <td>NaN</td>\n",
       "      <td>NaN</td>\n",
       "      <td>2 bed flat to rent</td>\n",
       "      <td>Down Street, Mayfair W1J</td>\n",
       "      <td>None</td>\n",
       "      <td>https://www.zoopla.co.uk/to-rent/details/40655996</td>\n",
       "    </tr>\n",
       "    <tr>\n",
       "      <th>4585</th>\n",
       "      <td>1625.0</td>\n",
       "      <td>NaN</td>\n",
       "      <td>NaN</td>\n",
       "      <td>NaN</td>\n",
       "      <td>Studio to rent</td>\n",
       "      <td>Fulham Road, South Kensington SW3</td>\n",
       "      <td>Available immediately</td>\n",
       "      <td>https://www.zoopla.co.uk/to-rent/details/47143358</td>\n",
       "    </tr>\n",
       "    <tr>\n",
       "      <th>4586</th>\n",
       "      <td>1625.0</td>\n",
       "      <td>NaN</td>\n",
       "      <td>NaN</td>\n",
       "      <td>NaN</td>\n",
       "      <td>Studio to rent</td>\n",
       "      <td>Fulham Road, Chelsea, London SW3</td>\n",
       "      <td>None</td>\n",
       "      <td>https://www.zoopla.co.uk/to-rent/details/40609192</td>\n",
       "    </tr>\n",
       "    <tr>\n",
       "      <th>4587</th>\n",
       "      <td>2817.0</td>\n",
       "      <td>2.0</td>\n",
       "      <td>2.0</td>\n",
       "      <td>1.0</td>\n",
       "      <td>2 bed flat to rent</td>\n",
       "      <td>Bina Gardens, South Kensington SW5</td>\n",
       "      <td>Available immediately</td>\n",
       "      <td>https://www.zoopla.co.uk/to-rent/details/47916621</td>\n",
       "    </tr>\n",
       "    <tr>\n",
       "      <th>4588</th>\n",
       "      <td>2817.0</td>\n",
       "      <td>3.0</td>\n",
       "      <td>2.0</td>\n",
       "      <td>1.0</td>\n",
       "      <td>3 bed flat to rent</td>\n",
       "      <td>Rodenhurst Road, London SW4</td>\n",
       "      <td>None</td>\n",
       "      <td>https://www.zoopla.co.uk/to-rent/details/45869164</td>\n",
       "    </tr>\n",
       "    <tr>\n",
       "      <th>4589</th>\n",
       "      <td>433.0</td>\n",
       "      <td>NaN</td>\n",
       "      <td>NaN</td>\n",
       "      <td>NaN</td>\n",
       "      <td>Parking/garage to rent</td>\n",
       "      <td>Wilton Mews, London SW1X</td>\n",
       "      <td>None</td>\n",
       "      <td>https://www.zoopla.co.uk/to-rent/details/40525138</td>\n",
       "    </tr>\n",
       "    <tr>\n",
       "      <th>4590</th>\n",
       "      <td>86667.0</td>\n",
       "      <td>6.0</td>\n",
       "      <td>NaN</td>\n",
       "      <td>NaN</td>\n",
       "      <td>6 bed flat to rent</td>\n",
       "      <td>Wellington Court, Knightsbridge SW1X</td>\n",
       "      <td>None</td>\n",
       "      <td>https://www.zoopla.co.uk/to-rent/details/40471876</td>\n",
       "    </tr>\n",
       "    <tr>\n",
       "      <th>4591</th>\n",
       "      <td>4767.0</td>\n",
       "      <td>2.0</td>\n",
       "      <td>2.0</td>\n",
       "      <td>1.0</td>\n",
       "      <td>2 bed flat to rent</td>\n",
       "      <td>Hill Street, London W1J</td>\n",
       "      <td>None</td>\n",
       "      <td>https://www.zoopla.co.uk/to-rent/details/40448317</td>\n",
       "    </tr>\n",
       "    <tr>\n",
       "      <th>4592</th>\n",
       "      <td>7583.0</td>\n",
       "      <td>2.0</td>\n",
       "      <td>2.0</td>\n",
       "      <td>NaN</td>\n",
       "      <td>2 bed flat to rent</td>\n",
       "      <td>Harrington Road, London SW7</td>\n",
       "      <td>None</td>\n",
       "      <td>https://www.zoopla.co.uk/to-rent/details/48360839</td>\n",
       "    </tr>\n",
       "    <tr>\n",
       "      <th>4593</th>\n",
       "      <td>281667.0</td>\n",
       "      <td>5.0</td>\n",
       "      <td>5.0</td>\n",
       "      <td>NaN</td>\n",
       "      <td>5 bed flat to rent</td>\n",
       "      <td>Park Lane, London W1K</td>\n",
       "      <td>None</td>\n",
       "      <td>https://www.zoopla.co.uk/to-rent/details/48360832</td>\n",
       "    </tr>\n",
       "    <tr>\n",
       "      <th>4594</th>\n",
       "      <td>175500.0</td>\n",
       "      <td>5.0</td>\n",
       "      <td>5.0</td>\n",
       "      <td>NaN</td>\n",
       "      <td>5 bed flat to rent</td>\n",
       "      <td>Park Lane, London W1K</td>\n",
       "      <td>None</td>\n",
       "      <td>https://www.zoopla.co.uk/to-rent/details/48360833</td>\n",
       "    </tr>\n",
       "    <tr>\n",
       "      <th>4595</th>\n",
       "      <td>8017.0</td>\n",
       "      <td>4.0</td>\n",
       "      <td>3.0</td>\n",
       "      <td>2.0</td>\n",
       "      <td>4 bed flat to rent</td>\n",
       "      <td>Marloes Road, London W8</td>\n",
       "      <td>Available immediately</td>\n",
       "      <td>https://www.zoopla.co.uk/to-rent/details/40170604</td>\n",
       "    </tr>\n",
       "    <tr>\n",
       "      <th>4596</th>\n",
       "      <td>2730.0</td>\n",
       "      <td>1.0</td>\n",
       "      <td>1.0</td>\n",
       "      <td>1.0</td>\n",
       "      <td>1 bed property to rent</td>\n",
       "      <td>Hill Street, London W1J</td>\n",
       "      <td>None</td>\n",
       "      <td>https://www.zoopla.co.uk/to-rent/details/41231922</td>\n",
       "    </tr>\n",
       "    <tr>\n",
       "      <th>4597</th>\n",
       "      <td>2708.0</td>\n",
       "      <td>1.0</td>\n",
       "      <td>1.0</td>\n",
       "      <td>1.0</td>\n",
       "      <td>1 bed flat to rent</td>\n",
       "      <td>Pelham Court, London SW3</td>\n",
       "      <td>Available immediately</td>\n",
       "      <td>https://www.zoopla.co.uk/to-rent/details/40053928</td>\n",
       "    </tr>\n",
       "    <tr>\n",
       "      <th>4598</th>\n",
       "      <td>2297.0</td>\n",
       "      <td>1.0</td>\n",
       "      <td>1.0</td>\n",
       "      <td>1.0</td>\n",
       "      <td>1 bed flat to rent</td>\n",
       "      <td>Sloane Avenue, London SW3</td>\n",
       "      <td>None</td>\n",
       "      <td>https://www.zoopla.co.uk/to-rent/details/39927700</td>\n",
       "    </tr>\n",
       "    <tr>\n",
       "      <th>4599</th>\n",
       "      <td>2578.0</td>\n",
       "      <td>1.0</td>\n",
       "      <td>1.0</td>\n",
       "      <td>1.0</td>\n",
       "      <td>1 bed flat to rent</td>\n",
       "      <td>Neil Gwynn House, London SW3</td>\n",
       "      <td>Available immediately</td>\n",
       "      <td>https://www.zoopla.co.uk/to-rent/details/39927647</td>\n",
       "    </tr>\n",
       "  </tbody>\n",
       "</table>\n",
       "<p>4600 rows × 8 columns</p>\n",
       "</div>"
      ],
      "text/plain": [
       "          Rent  Bedrooms  Bathrooms  Receptions  \\\n",
       "0     108333.0       6.0        6.0         2.0   \n",
       "1       2817.0       2.0        1.0         1.0   \n",
       "2       1850.0       2.0        1.0         NaN   \n",
       "3       2350.0       2.0        2.0         NaN   \n",
       "4       1350.0       1.0        1.0         NaN   \n",
       "5       1018.0       NaN        1.0         NaN   \n",
       "6       3033.0       1.0        1.0         1.0   \n",
       "7       2492.0       2.0        1.0         1.0   \n",
       "8       1400.0       1.0        NaN         NaN   \n",
       "9       3200.0       4.0        2.0         2.0   \n",
       "10      1210.0       NaN        1.0         NaN   \n",
       "11      6500.0       2.0        2.0         1.0   \n",
       "12      1600.0       1.0        1.0         1.0   \n",
       "13      1650.0       3.0        1.0         NaN   \n",
       "14      1820.0       1.0        1.0         1.0   \n",
       "15      1750.0       1.0        1.0         NaN   \n",
       "16      1127.0       NaN        1.0         NaN   \n",
       "17      6933.0       3.0        3.0         1.0   \n",
       "18      1999.0       4.0        1.0         NaN   \n",
       "19      1450.0       3.0        1.0         NaN   \n",
       "20      3683.0       3.0        2.0         1.0   \n",
       "21      3250.0       2.0        2.0         NaN   \n",
       "22      1625.0       1.0        1.0         1.0   \n",
       "23      4225.0       2.0        1.0         1.0   \n",
       "24      2050.0       2.0        1.0         2.0   \n",
       "25      1450.0       2.0        1.0         1.0   \n",
       "26      3900.0       2.0        2.0         1.0   \n",
       "27      3250.0       2.0        2.0         1.0   \n",
       "28      3207.0       1.0        1.0         1.0   \n",
       "29      3142.0       1.0        1.0         1.0   \n",
       "...        ...       ...        ...         ...   \n",
       "4570    7800.0       NaN        NaN         NaN   \n",
       "4571    1950.0       2.0        1.0         1.0   \n",
       "4572    1450.0       2.0        1.0         1.0   \n",
       "4573    3000.0       3.0        1.0         1.0   \n",
       "4574    1647.0       1.0        1.0         1.0   \n",
       "4575    4117.0       2.0        2.0         1.0   \n",
       "4576    1950.0       1.0        1.0         1.0   \n",
       "4577    3250.0       2.0        NaN         NaN   \n",
       "4578    1500.0       1.0        1.0         1.0   \n",
       "4579    1595.0       2.0        1.0         1.0   \n",
       "4580   12133.0       3.0        3.0         NaN   \n",
       "4581    6478.0       2.0        2.0         NaN   \n",
       "4582   28167.0       3.0        3.0         1.0   \n",
       "4583   86667.0       6.0        4.0         2.0   \n",
       "4584    6067.0       2.0        NaN         NaN   \n",
       "4585    1625.0       NaN        NaN         NaN   \n",
       "4586    1625.0       NaN        NaN         NaN   \n",
       "4587    2817.0       2.0        2.0         1.0   \n",
       "4588    2817.0       3.0        2.0         1.0   \n",
       "4589     433.0       NaN        NaN         NaN   \n",
       "4590   86667.0       6.0        NaN         NaN   \n",
       "4591    4767.0       2.0        2.0         1.0   \n",
       "4592    7583.0       2.0        2.0         NaN   \n",
       "4593  281667.0       5.0        5.0         NaN   \n",
       "4594  175500.0       5.0        5.0         NaN   \n",
       "4595    8017.0       4.0        3.0         2.0   \n",
       "4596    2730.0       1.0        1.0         1.0   \n",
       "4597    2708.0       1.0        1.0         1.0   \n",
       "4598    2297.0       1.0        1.0         1.0   \n",
       "4599    2578.0       1.0        1.0         1.0   \n",
       "\n",
       "                            Description  \\\n",
       "0     6 bed semi-detached house to rent   \n",
       "1                    2 bed flat to rent   \n",
       "2                    2 bed flat to rent   \n",
       "3                    2 bed flat to rent   \n",
       "4                    1 bed flat to rent   \n",
       "5                        Studio to rent   \n",
       "6                    1 bed flat to rent   \n",
       "7                    2 bed flat to rent   \n",
       "8                    1 bed flat to rent   \n",
       "9     4 bed semi-detached house to rent   \n",
       "10                       Studio to rent   \n",
       "11                   2 bed flat to rent   \n",
       "12                   1 bed flat to rent   \n",
       "13                   3 bed flat to rent   \n",
       "14                   1 bed flat to rent   \n",
       "15                   1 bed flat to rent   \n",
       "16                       Studio to rent   \n",
       "17                   3 bed flat to rent   \n",
       "18                   4 bed flat to rent   \n",
       "19                   3 bed flat to rent   \n",
       "20                   3 bed flat to rent   \n",
       "21                   2 bed flat to rent   \n",
       "22                   1 bed flat to rent   \n",
       "23                   2 bed flat to rent   \n",
       "24                   2 bed flat to rent   \n",
       "25                   2 bed flat to rent   \n",
       "26                   2 bed flat to rent   \n",
       "27                   2 bed flat to rent   \n",
       "28                   1 bed flat to rent   \n",
       "29                   1 bed flat to rent   \n",
       "...                                 ...   \n",
       "4570             Parking/garage to rent   \n",
       "4571       2 bed terraced house to rent   \n",
       "4572                 2 bed flat to rent   \n",
       "4573                 3 bed flat to rent   \n",
       "4574                 1 bed flat to rent   \n",
       "4575                 2 bed flat to rent   \n",
       "4576                 1 bed flat to rent   \n",
       "4577                 2 bed flat to rent   \n",
       "4578                 1 bed flat to rent   \n",
       "4579                 2 bed flat to rent   \n",
       "4580                 3 bed flat to rent   \n",
       "4581                 2 bed flat to rent   \n",
       "4582                 3 bed flat to rent   \n",
       "4583                 6 bed flat to rent   \n",
       "4584                 2 bed flat to rent   \n",
       "4585                     Studio to rent   \n",
       "4586                     Studio to rent   \n",
       "4587                 2 bed flat to rent   \n",
       "4588                 3 bed flat to rent   \n",
       "4589             Parking/garage to rent   \n",
       "4590                 6 bed flat to rent   \n",
       "4591                 2 bed flat to rent   \n",
       "4592                 2 bed flat to rent   \n",
       "4593                 5 bed flat to rent   \n",
       "4594                 5 bed flat to rent   \n",
       "4595                 4 bed flat to rent   \n",
       "4596             1 bed property to rent   \n",
       "4597                 1 bed flat to rent   \n",
       "4598                 1 bed flat to rent   \n",
       "4599                 1 bed flat to rent   \n",
       "\n",
       "                                               Location  \\\n",
       "0                             The Boltons, Chelsea SW10   \n",
       "1                            Cromwell Place, London SW7   \n",
       "2                       Alexandra Drive, Wimbledon SW19   \n",
       "3                       St. Georges Square, London SW1V   \n",
       "4                        Victoria Drive, Wimbledon SW19   \n",
       "5                         Holdernesse Road, London SW17   \n",
       "6              Christchurch Street, Chelsea, London SW3   \n",
       "7                  Lambrook Terrace, Fulham, London SW6   \n",
       "8                           Wincott Street, London SE11   \n",
       "9                         Haslemere Avenue, London SW18   \n",
       "10                 Elvaston Place, South Kensington SW7   \n",
       "11                             Borough Road, London SE1   \n",
       "12                   Battersea Park Road, Battersea SW8   \n",
       "13                        Ebenezer Walk, Streatham SW16   \n",
       "14                           Juniper Drive, London SW18   \n",
       "15                           Cotton Row, Battersea SW11   \n",
       "16                        Claverton Street, London SW1V   \n",
       "17                         Campden Hill Road, London W8   \n",
       "18               Inville Road, Missenden, Walworth SE17   \n",
       "19                     Auckland Hill, West Norwood SE27   \n",
       "20    Warren House, Beckford Close, Kensington, Lond...   \n",
       "21                      Guildhouse Street, Pimlico SW1V   \n",
       "22           Earsby Street, West Kensington, London W14   \n",
       "23                Modern 2 Bed, Fulham Road, London SW3   \n",
       "24                           Emmanuel Road, Balham SW12   \n",
       "25                     Peckham High Street, London SE15   \n",
       "26                 Southwark Bridge Road, Southwark SE1   \n",
       "27                Fulham Road, Pelham Court, London SW3   \n",
       "28                              Hill Street, London W1J   \n",
       "29    Palace Wharf Apartments, Rainville Road, Londo...   \n",
       "...                                                 ...   \n",
       "4570                             Brook Mews, London W1K   \n",
       "4571                            Cecil Road, London SW19   \n",
       "4572                Streatham High Road, Streatham SW16   \n",
       "4573                     Cromwell Road, Earls Court SW5   \n",
       "4574                 Trinity Church Square, Borough SE1   \n",
       "4575                          Lexham Gardens, London W8   \n",
       "4576                Wrights Lane, Kensington, London W8   \n",
       "4577      Thornton Place, Clapham Common North Side SW4   \n",
       "4578                        Falcon Road, Battersea SW11   \n",
       "4579                Streatham High Road, Streatham SW16   \n",
       "4580                           Cheval Place, London SW7   \n",
       "4581                        Harrington Road, London SW7   \n",
       "4582                          Brompton Road, London SW3   \n",
       "4583                         Knightsbridge, London SW1X   \n",
       "4584                           Down Street, Mayfair W1J   \n",
       "4585                  Fulham Road, South Kensington SW3   \n",
       "4586                   Fulham Road, Chelsea, London SW3   \n",
       "4587                 Bina Gardens, South Kensington SW5   \n",
       "4588                        Rodenhurst Road, London SW4   \n",
       "4589                           Wilton Mews, London SW1X   \n",
       "4590               Wellington Court, Knightsbridge SW1X   \n",
       "4591                            Hill Street, London W1J   \n",
       "4592                        Harrington Road, London SW7   \n",
       "4593                              Park Lane, London W1K   \n",
       "4594                              Park Lane, London W1K   \n",
       "4595                            Marloes Road, London W8   \n",
       "4596                            Hill Street, London W1J   \n",
       "4597                           Pelham Court, London SW3   \n",
       "4598                          Sloane Avenue, London SW3   \n",
       "4599                       Neil Gwynn House, London SW3   \n",
       "\n",
       "                         Available  \\\n",
       "0     Available from 28th Mar 2019   \n",
       "1            Available immediately   \n",
       "2     Available from 15th Feb 2019   \n",
       "3     Available from  7th Mar 2019   \n",
       "4            Available immediately   \n",
       "5            Available immediately   \n",
       "6                             None   \n",
       "7                             None   \n",
       "8     Available from  2nd Apr 2019   \n",
       "9     Available from 24th Apr 2019   \n",
       "10    Available from 11th Feb 2019   \n",
       "11           Available immediately   \n",
       "12    Available from  9th Feb 2019   \n",
       "13    Available from 18th Feb 2019   \n",
       "14    Available from  4th Mar 2019   \n",
       "15    Available from  9th Apr 2019   \n",
       "16           Available immediately   \n",
       "17           Available immediately   \n",
       "18           Available immediately   \n",
       "19    Available from 10th Feb 2019   \n",
       "20           Available immediately   \n",
       "21           Available immediately   \n",
       "22           Available immediately   \n",
       "23           Available immediately   \n",
       "24    Available from  9th Feb 2019   \n",
       "25           Available immediately   \n",
       "26           Available immediately   \n",
       "27           Available immediately   \n",
       "28           Available immediately   \n",
       "29    Available from 30th Mar 2019   \n",
       "...                            ...   \n",
       "4570                          None   \n",
       "4571                          None   \n",
       "4572                          None   \n",
       "4573                          None   \n",
       "4574                          None   \n",
       "4575                          None   \n",
       "4576                          None   \n",
       "4577                          None   \n",
       "4578         Available immediately   \n",
       "4579         Available immediately   \n",
       "4580                          None   \n",
       "4581                          None   \n",
       "4582                          None   \n",
       "4583         Available immediately   \n",
       "4584                          None   \n",
       "4585         Available immediately   \n",
       "4586                          None   \n",
       "4587         Available immediately   \n",
       "4588                          None   \n",
       "4589                          None   \n",
       "4590                          None   \n",
       "4591                          None   \n",
       "4592                          None   \n",
       "4593                          None   \n",
       "4594                          None   \n",
       "4595         Available immediately   \n",
       "4596                          None   \n",
       "4597         Available immediately   \n",
       "4598                          None   \n",
       "4599         Available immediately   \n",
       "\n",
       "                                                   Link  \n",
       "0     https://www.zoopla.co.uk/to-rent/details/50432877  \n",
       "1     https://www.zoopla.co.uk/to-rent/details/48184260  \n",
       "2     https://www.zoopla.co.uk/to-rent/details/50432788  \n",
       "3     https://www.zoopla.co.uk/to-rent/details/50432732  \n",
       "4     https://www.zoopla.co.uk/to-rent/details/50432704  \n",
       "5     https://www.zoopla.co.uk/to-rent/details/50432666  \n",
       "6     https://www.zoopla.co.uk/to-rent/details/47889947  \n",
       "7     https://www.zoopla.co.uk/to-rent/details/50432430  \n",
       "8     https://www.zoopla.co.uk/to-rent/details/41491502  \n",
       "9     https://www.zoopla.co.uk/to-rent/details/50432271  \n",
       "10    https://www.zoopla.co.uk/to-rent/details/50432222  \n",
       "11    https://www.zoopla.co.uk/to-rent/details/50432041  \n",
       "12    https://www.zoopla.co.uk/to-rent/details/50432033  \n",
       "13    https://www.zoopla.co.uk/to-rent/details/50431910  \n",
       "14    https://www.zoopla.co.uk/to-rent/details/50431882  \n",
       "15    https://www.zoopla.co.uk/to-rent/details/50431883  \n",
       "16    https://www.zoopla.co.uk/to-rent/details/50431837  \n",
       "17    https://www.zoopla.co.uk/to-rent/details/50431447  \n",
       "18    https://www.zoopla.co.uk/to-rent/details/50431306  \n",
       "19    https://www.zoopla.co.uk/to-rent/details/50431230  \n",
       "20    https://www.zoopla.co.uk/to-rent/details/50431185  \n",
       "21    https://www.zoopla.co.uk/to-rent/details/50431198  \n",
       "22    https://www.zoopla.co.uk/to-rent/details/50431170  \n",
       "23    https://www.zoopla.co.uk/to-rent/details/50431147  \n",
       "24    https://www.zoopla.co.uk/to-rent/details/50431049  \n",
       "25    https://www.zoopla.co.uk/to-rent/details/50431039  \n",
       "26    https://www.zoopla.co.uk/to-rent/details/50431038  \n",
       "27    https://www.zoopla.co.uk/to-rent/details/50430946  \n",
       "28    https://www.zoopla.co.uk/to-rent/details/50430947  \n",
       "29    https://www.zoopla.co.uk/to-rent/details/50430949  \n",
       "...                                                 ...  \n",
       "4570  https://www.zoopla.co.uk/to-rent/details/41678839  \n",
       "4571  https://www.zoopla.co.uk/to-rent/details/41664898  \n",
       "4572  https://www.zoopla.co.uk/to-rent/details/42714840  \n",
       "4573  https://www.zoopla.co.uk/to-rent/details/42714886  \n",
       "4574  https://www.zoopla.co.uk/to-rent/details/41577793  \n",
       "4575  https://www.zoopla.co.uk/to-rent/details/41518159  \n",
       "4576  https://www.zoopla.co.uk/to-rent/details/41267376  \n",
       "4577  https://www.zoopla.co.uk/to-rent/details/41187577  \n",
       "4578  https://www.zoopla.co.uk/to-rent/details/15753023  \n",
       "4579  https://www.zoopla.co.uk/to-rent/details/41136232  \n",
       "4580  https://www.zoopla.co.uk/to-rent/details/48360849  \n",
       "4581  https://www.zoopla.co.uk/to-rent/details/48360850  \n",
       "4582  https://www.zoopla.co.uk/to-rent/details/40671457  \n",
       "4583  https://www.zoopla.co.uk/to-rent/details/40670657  \n",
       "4584  https://www.zoopla.co.uk/to-rent/details/40655996  \n",
       "4585  https://www.zoopla.co.uk/to-rent/details/47143358  \n",
       "4586  https://www.zoopla.co.uk/to-rent/details/40609192  \n",
       "4587  https://www.zoopla.co.uk/to-rent/details/47916621  \n",
       "4588  https://www.zoopla.co.uk/to-rent/details/45869164  \n",
       "4589  https://www.zoopla.co.uk/to-rent/details/40525138  \n",
       "4590  https://www.zoopla.co.uk/to-rent/details/40471876  \n",
       "4591  https://www.zoopla.co.uk/to-rent/details/40448317  \n",
       "4592  https://www.zoopla.co.uk/to-rent/details/48360839  \n",
       "4593  https://www.zoopla.co.uk/to-rent/details/48360832  \n",
       "4594  https://www.zoopla.co.uk/to-rent/details/48360833  \n",
       "4595  https://www.zoopla.co.uk/to-rent/details/40170604  \n",
       "4596  https://www.zoopla.co.uk/to-rent/details/41231922  \n",
       "4597  https://www.zoopla.co.uk/to-rent/details/40053928  \n",
       "4598  https://www.zoopla.co.uk/to-rent/details/39927700  \n",
       "4599  https://www.zoopla.co.uk/to-rent/details/39927647  \n",
       "\n",
       "[4600 rows x 8 columns]"
      ]
     },
     "execution_count": 29,
     "metadata": {},
     "output_type": "execute_result"
    }
   ],
   "source": [
    "zoopla_parser('https://www.zoopla.co.uk/to-rent/property/london/clapham/?identifier=london%2Fclapham&furnished_state=unfurnished&include_shared_accommodation=false&page_size=100&q=Clapham%2C%20London&search_source=refine&radius=3&price_frequency=per_month')"
   ]
  },
  {
   "cell_type": "code",
   "execution_count": 32,
   "metadata": {},
   "outputs": [
    {
     "data": {
      "text/plain": [
       "\"\\nreg = re.compile(r'£(\\\\d*),?(\\\\d*) (\\\\w*)')\\n\\nrent=[]\\nbedrooms=[]\\nbathrooms = []\\nreceptions = []\\nlink=[]\\ndescription=[]\\nlocation=[]\\navailable=[]\\n\\n\\n    \\nfor i in range(1,50):\\n    page_link='https://www.zoopla.co.uk/to-rent/property/east-sussex/brighton/?&include_shared_accommodation=false&page_size=100&price_frequency=per_month&q=Brighton%2C%20East%20Sussex&radius=3&results_sort=newest_listings&search_source=refine&pn={}'.format(i)\\n    page = requests.get(page_link)\\n    c= page.content\\n    soup = BeautifulSoup(c, 'html.parser')\\n    if i%5==0:\\n        print('Page '+str(i)+' done')\\n    \\n    try:\\n        listing = soup.find('ul', {'class': 'listing-results clearfix js-gtm-list'}).findAll('div', {'class':'listing-results-right clearfix'})\\n        for flat in listing:\\n            #Using regex to select monthly rent and appending it to rent list\\n            try:\\n                res = reg.search(flat.find('a', {'class':'listing-results-price text-price'}).text.strip())\\n                rent.append(int(res.group(1)+res.group(2)))\\n            except:\\n                rent.append(None)\\n            #Finding number of bedrooms in specific span and appending to list\\n            try:\\n                bedrooms.append(int(flat.find('span', {'class':'num-icon num-beds'}).text.strip()))\\n            except:\\n                bedrooms.append(None)\\n            #Finding number of bathroom in span and appending to list\\n            try:\\n                bathrooms.append(int(flat.find('span', {'class':'num-icon num-baths'}).text.strip()))\\n            except:\\n                bathrooms.append(None)\\n            #Finding number of reception rooms and appending to list:\\n            try:\\n                receptions.append(int(flat.find('span', {'class':'num-icon num-reception'}).text.strip()))\\n            except:\\n                receptions.append(None)\\n            #Finding link and flat description:\\n            link.append('https://www.zoopla.co.uk'+flat.find('h2').find('a')['href'])\\n        \\n            description.append(flat.find('h2').find('a').text.strip())\\n        \\n            #Location:\\n            try:\\n                location.append(flat.findAll('span', {'class': None})[-1].text.strip())\\n            except:\\n                location.append(None)\\n            #Available:\\n            try:\\n                available.append(flat.find('p', {'class':'available-from'}).text.strip())\\n            except:\\n                available.append(None)\\n        time.sleep(1)\\n    except:\\n        break\\n\""
      ]
     },
     "execution_count": 32,
     "metadata": {},
     "output_type": "execute_result"
    }
   ],
   "source": [
    "#FUNCTION WORKS! \n",
    "\n",
    "#Regex formula to find and separate the monthly cost in form of a number - \n",
    "#eliminate pound sign, comma and the weekly cost in parenthesis\n",
    "'''\n",
    "reg = re.compile(r'£(\\d*),?(\\d*) (\\w*)')\n",
    "\n",
    "rent=[]\n",
    "bedrooms=[]\n",
    "bathrooms = []\n",
    "receptions = []\n",
    "link=[]\n",
    "description=[]\n",
    "location=[]\n",
    "available=[]\n",
    "\n",
    "\n",
    "    \n",
    "for i in range(1,50):\n",
    "    page_link='https://www.zoopla.co.uk/to-rent/property/east-sussex/brighton/?&include_shared_accommodation=false&page_size=100&price_frequency=per_month&q=Brighton%2C%20East%20Sussex&radius=3&results_sort=newest_listings&search_source=refine&pn={}'.format(i)\n",
    "    page = requests.get(page_link)\n",
    "    c= page.content\n",
    "    soup = BeautifulSoup(c, 'html.parser')\n",
    "    if i%5==0:\n",
    "        print('Page '+str(i)+' done')\n",
    "    \n",
    "    try:\n",
    "        listing = soup.find('ul', {'class': 'listing-results clearfix js-gtm-list'}).findAll('div', {'class':'listing-results-right clearfix'})\n",
    "        for flat in listing:\n",
    "            #Using regex to select monthly rent and appending it to rent list\n",
    "            try:\n",
    "                res = reg.search(flat.find('a', {'class':'listing-results-price text-price'}).text.strip())\n",
    "                rent.append(int(res.group(1)+res.group(2)))\n",
    "            except:\n",
    "                rent.append(None)\n",
    "            #Finding number of bedrooms in specific span and appending to list\n",
    "            try:\n",
    "                bedrooms.append(int(flat.find('span', {'class':'num-icon num-beds'}).text.strip()))\n",
    "            except:\n",
    "                bedrooms.append(None)\n",
    "            #Finding number of bathroom in span and appending to list\n",
    "            try:\n",
    "                bathrooms.append(int(flat.find('span', {'class':'num-icon num-baths'}).text.strip()))\n",
    "            except:\n",
    "                bathrooms.append(None)\n",
    "            #Finding number of reception rooms and appending to list:\n",
    "            try:\n",
    "                receptions.append(int(flat.find('span', {'class':'num-icon num-reception'}).text.strip()))\n",
    "            except:\n",
    "                receptions.append(None)\n",
    "            #Finding link and flat description:\n",
    "            link.append('https://www.zoopla.co.uk'+flat.find('h2').find('a')['href'])\n",
    "        \n",
    "            description.append(flat.find('h2').find('a').text.strip())\n",
    "        \n",
    "            #Location:\n",
    "            try:\n",
    "                location.append(flat.findAll('span', {'class': None})[-1].text.strip())\n",
    "            except:\n",
    "                location.append(None)\n",
    "            #Available:\n",
    "            try:\n",
    "                available.append(flat.find('p', {'class':'available-from'}).text.strip())\n",
    "            except:\n",
    "                available.append(None)\n",
    "        time.sleep(1)\n",
    "    except:\n",
    "        break\n",
    "'''"
   ]
  },
  {
   "cell_type": "code",
   "execution_count": 33,
   "metadata": {},
   "outputs": [
    {
     "data": {
      "text/plain": [
       "\"df = pd.DataFrame({'Rent':rent,\\n                  'Bedrooms': bedrooms,\\n                  'Bathrooms': bathrooms,\\n                  'Receptions': receptions,\\n                  'Description': description,\\n                  'Location': location,\\n                  'Available': available,\\n                  'Link': link})\\n\""
      ]
     },
     "execution_count": 33,
     "metadata": {},
     "output_type": "execute_result"
    }
   ],
   "source": [
    "'''df = pd.DataFrame({'Rent':rent,\n",
    "                  'Bedrooms': bedrooms,\n",
    "                  'Bathrooms': bathrooms,\n",
    "                  'Receptions': receptions,\n",
    "                  'Description': description,\n",
    "                  'Location': location,\n",
    "                  'Available': available,\n",
    "                  'Link': link})\n",
    "'''"
   ]
  },
  {
   "cell_type": "code",
   "execution_count": 34,
   "metadata": {},
   "outputs": [],
   "source": [
    "df.to_csv('clapham.csv', index=False)"
   ]
  },
  {
   "cell_type": "code",
   "execution_count": 120,
   "metadata": {},
   "outputs": [],
   "source": [
    "df = pd.read_csv('clapham.csv')"
   ]
  },
  {
   "cell_type": "code",
   "execution_count": 121,
   "metadata": {
    "scrolled": true
   },
   "outputs": [
    {
     "name": "stdout",
     "output_type": "stream",
     "text": [
      "Rent              3\n",
      "Bedrooms        196\n",
      "Bathrooms       813\n",
      "Receptions     1481\n",
      "Description       0\n",
      "Location          0\n",
      "Available      1057\n",
      "Link              0\n",
      "dtype: int64\n"
     ]
    }
   ],
   "source": [
    "print(df.isnull().sum())"
   ]
  },
  {
   "cell_type": "markdown",
   "metadata": {},
   "source": [
    "For listings that are missing rent there's not much we can do - they need to be removed. \n",
    "Listings with missing number of bedrooms, bathrooms and receptions we'll try to come up with a solution:"
   ]
  },
  {
   "cell_type": "code",
   "execution_count": 78,
   "metadata": {},
   "outputs": [],
   "source": [
    "def clean_data(dataframe=df):\n",
    "    global df\n",
    "    #Removing any listings with missing Rent:\n",
    "    df = df[df['Rent'].notnull()]\n",
    "    \n",
    "\n",
    "    #To make the analysis easier: anything that has a flat (or studio) in it will be assigned to 'flat', \n",
    "    #anything else will be assigned to 'house' or 'terraced house' if it has 'terrace' in the name. \n",
    "    # Entries that are room/flat shared need to be removed - we don't want shared properties.\n",
    "    \n",
    "    for index,row in df.iterrows():\n",
    "        if 'room' in row['Description'].lower() or 'shared' in row['Description'].lower():\n",
    "            df.drop(index, inplace=True)\n",
    "        elif 'studio' in row['Description'].lower():\n",
    "            df.loc[index, 'Bedrooms'] = 0\n",
    "       \n",
    "    for index,row in df.iterrows():\n",
    "        if 'flat' in row['Description'].lower() or 'studio' in row['Description'].lower():\n",
    "            df.set_value(index, 'Description', 'flat')\n",
    "        elif 'terraced' in row['Description'].lower():\n",
    "            df.set_value(index, 'Description', 'terraced')\n",
    "        else:\n",
    "            df.set_value(index, 'Description', 'house')\n",
    "            \n",
    "    #Removing any listings with more than 4 bedrooms - no one needs that many.\n",
    "    df=df[df['Bedrooms']<5] \n",
    "    \n",
    "    #Removing any listings with more than 4 bathrooms \n",
    "    df=df[df['Bathrooms']<5]\n",
    "    \n",
    "    #Most flats only have 1 reception so any missing value in Receptions will be filled with rounded mean\n",
    "    df['Receptions'].fillna(round(df['Receptions'].mean()), inplace=True)\n",
    "    \n",
    "    \n",
    "    #Remove listings with rent over £6000 - no one can afford that:\n",
    "    df=df[df['Rent']<=6000]\n",
    "    \n",
    "    #Reset index after deleting many rows\n",
    "    df.reset_index(drop=True, inplace=True)"
   ]
  },
  {
   "cell_type": "code",
   "execution_count": 124,
   "metadata": {},
   "outputs": [
    {
     "name": "stderr",
     "output_type": "stream",
     "text": [
      "/Users/jankierzyk/anaconda3/lib/python3.7/site-packages/pandas/core/indexing.py:543: SettingWithCopyWarning: \n",
      "A value is trying to be set on a copy of a slice from a DataFrame.\n",
      "Try using .loc[row_indexer,col_indexer] = value instead\n",
      "\n",
      "See the caveats in the documentation: http://pandas.pydata.org/pandas-docs/stable/indexing.html#indexing-view-versus-copy\n",
      "  self.obj[item] = s\n"
     ]
    }
   ],
   "source": [
    "clean_data(df)"
   ]
  },
  {
   "cell_type": "code",
   "execution_count": 125,
   "metadata": {
    "scrolled": true
   },
   "outputs": [
    {
     "name": "stdout",
     "output_type": "stream",
     "text": [
      "<class 'pandas.core.frame.DataFrame'>\n",
      "RangeIndex: 3004 entries, 0 to 3003\n",
      "Data columns (total 8 columns):\n",
      "Rent           3004 non-null float64\n",
      "Bedrooms       3004 non-null float64\n",
      "Bathrooms      3004 non-null float64\n",
      "Receptions     3004 non-null float64\n",
      "Description    3004 non-null object\n",
      "Location       3004 non-null object\n",
      "Available      2450 non-null object\n",
      "Link           3004 non-null object\n",
      "dtypes: float64(4), object(4)\n",
      "memory usage: 187.8+ KB\n"
     ]
    }
   ],
   "source": [
    "df.info()"
   ]
  },
  {
   "cell_type": "code",
   "execution_count": 126,
   "metadata": {
    "scrolled": true
   },
   "outputs": [
    {
     "data": {
      "image/png": "[encoded data removed]",
      "text/plain": [
       "<Figure size 432x288 with 1 Axes>"
      ]
     },
     "metadata": {},
     "output_type": "display_data"
    }
   ],
   "source": [
    "sns.set_style('whitegrid')\n",
    "sns.distplot(df['Rent'], kde=False, bins=20);"
   ]
  },
  {
   "cell_type": "code",
   "execution_count": 130,
   "metadata": {},
   "outputs": [
    {
     "data": {
      "text/plain": [
       "2.0    1581\n",
       "1.0     762\n",
       "3.0     365\n",
       "4.0     159\n",
       "0.0     137\n",
       "Name: Bedrooms, dtype: int64"
      ]
     },
     "execution_count": 130,
     "metadata": {},
     "output_type": "execute_result"
    }
   ],
   "source": [
    "df.Bedrooms.value_counts()"
   ]
  },
  {
   "cell_type": "code",
   "execution_count": 83,
   "metadata": {},
   "outputs": [
    {
     "data": {
      "text/plain": [
       "1.0    1684\n",
       "2.0    1231\n",
       "3.0      82\n",
       "4.0       7\n",
       "Name: Bathrooms, dtype: int64"
      ]
     },
     "execution_count": 83,
     "metadata": {},
     "output_type": "execute_result"
    }
   ],
   "source": [
    "df.Bathrooms.value_counts()"
   ]
  },
  {
   "cell_type": "code",
   "execution_count": 84,
   "metadata": {},
   "outputs": [
    {
     "data": {
      "text/plain": [
       "1.0    2862\n",
       "2.0     134\n",
       "3.0       8\n",
       "Name: Receptions, dtype: int64"
      ]
     },
     "execution_count": 84,
     "metadata": {},
     "output_type": "execute_result"
    }
   ],
   "source": [
    "df.Receptions.value_counts()"
   ]
  },
  {
   "cell_type": "code",
   "execution_count": 85,
   "metadata": {
    "scrolled": true
   },
   "outputs": [
    {
     "data": {
      "text/plain": [
       "flat        2599\n",
       "house        275\n",
       "terraced     130\n",
       "Name: Description, dtype: int64"
      ]
     },
     "execution_count": 85,
     "metadata": {},
     "output_type": "execute_result"
    }
   ],
   "source": [
    "df.Description.value_counts()"
   ]
  },
  {
   "cell_type": "code",
   "execution_count": 86,
   "metadata": {
    "scrolled": false
   },
   "outputs": [
    {
     "data": {
      "text/plain": [
       "Bedrooms  Bathrooms\n",
       "0.0       1.0          1527.992647\n",
       "          2.0          1300.000000\n",
       "1.0       1.0          2288.315718\n",
       "          2.0          3224.956522\n",
       "          3.0          5200.000000\n",
       "2.0       1.0          2517.405488\n",
       "          2.0          3512.497274\n",
       "          3.0          3275.625000\n",
       "3.0       1.0          2078.792593\n",
       "          2.0          3527.338624\n",
       "          3.0          4374.384615\n",
       "          4.0          4250.000000\n",
       "4.0       1.0          2350.000000\n",
       "          2.0          3389.930693\n",
       "          3.0          3994.500000\n",
       "          4.0          4940.000000\n",
       "Name: Rent, dtype: float64"
      ]
     },
     "execution_count": 86,
     "metadata": {},
     "output_type": "execute_result"
    }
   ],
   "source": [
    "df.groupby(['Bedrooms', 'Bathrooms'])['Rent'].mean()"
   ]
  },
  {
   "cell_type": "code",
   "execution_count": 91,
   "metadata": {
    "scrolled": true
   },
   "outputs": [
    {
     "data": {
      "image/png": "[encoded data removed]",
      "text/plain": [
       "<Figure size 1080x360 with 1 Axes>"
      ]
     },
     "metadata": {},
     "output_type": "display_data"
    }
   ],
   "source": [
    "plt.figure(figsize=(15,5))\n",
    "sns.violinplot(x='Bedrooms', y='Rent', data=df, palette='pastel')\n",
    "plt.title('Rent depending on number of bedrooms');"
   ]
  },
  {
   "cell_type": "code",
   "execution_count": 92,
   "metadata": {},
   "outputs": [
    {
     "data": {
      "image/png": "[encoded data removed]",
      "text/plain": [
       "<Figure size 720x360 with 1 Axes>"
      ]
     },
     "metadata": {},
     "output_type": "display_data"
    }
   ],
   "source": [
    "plt.figure(figsize=(10,5))\n",
    "sns.violinplot(x='Description', y='Rent', data=df)\n",
    "plt.title('Rent depending on type of accomodation');"
   ]
  },
  {
   "cell_type": "markdown",
   "metadata": {},
   "source": [
    "## Let's now analyse flats that are available immediately and flats that you need to wait for:\n"
   ]
  },
  {
   "cell_type": "code",
   "execution_count": 93,
   "metadata": {},
   "outputs": [],
   "source": [
    "#Creating new dataframes filtering on availability\n",
    "available_now = df[df['Available']=='Available immediately']\n",
    "available_later = df[df['Available']!='Available immediately']"
   ]
  },
  {
   "cell_type": "code",
   "execution_count": 94,
   "metadata": {},
   "outputs": [
    {
     "name": "stdout",
     "output_type": "stream",
     "text": [
      "available_now: 1847\n",
      "available later: 1157\n"
     ]
    }
   ],
   "source": [
    "print('available_now: ' +str(available_now.shape[0]))\n",
    "print('available later: '+str(available_later.shape[0]))"
   ]
  },
  {
   "cell_type": "code",
   "execution_count": 95,
   "metadata": {
    "scrolled": false
   },
   "outputs": [
    {
     "data": {
      "image/png": "[encoded data removed]",
      "text/plain": [
       "<Figure size 936x432 with 2 Axes>"
      ]
     },
     "metadata": {},
     "output_type": "display_data"
    }
   ],
   "source": [
    "#Creating boxplots for flats available now and later\n",
    "fig, ax =plt.subplots(2,1,figsize=(13,6),constrained_layout=True)\n",
    "sns.boxplot(x='Bedrooms', y='Rent', data=available_now, ax=ax[0])\n",
    "sns.boxplot(x='Bedrooms', y='Rent', data=available_later, ax=ax[1])\n",
    "ax[0].set_title('Places available now')\n",
    "ax[1].set_title('Places available later')\n",
    "plt.show()"
   ]
  },
  {
   "cell_type": "code",
   "execution_count": 99,
   "metadata": {},
   "outputs": [
    {
     "data": {
      "image/png": "[encoded data removed]",
      "text/plain": [
       "<Figure size 1080x360 with 1 Axes>"
      ]
     },
     "metadata": {},
     "output_type": "display_data"
    }
   ],
   "source": [
    "plt.figure(figsize=(15,5))\n",
    "sns.boxplot(x='Bedrooms', y='Rent', hue='Bathrooms', data=df, palette='pastel')\n",
    "plt.title('Number of bedrooms and bathrooms vs Rent')\n",
    "plt.legend(bbox_to_anchor=(1.0,1));"
   ]
  },
  {
   "cell_type": "markdown",
   "metadata": {},
   "source": [
    "### How number of receptions influences the rent price"
   ]
  },
  {
   "cell_type": "code",
   "execution_count": 100,
   "metadata": {
    "scrolled": true
   },
   "outputs": [
    {
     "data": {
      "image/png": "[encoded data removed]",
      "text/plain": [
       "<Figure size 720x360 with 1 Axes>"
      ]
     },
     "metadata": {},
     "output_type": "display_data"
    }
   ],
   "source": [
    "plt.figure(figsize=(10,5))\n",
    "sns.boxplot(x='Receptions', y='Rent',data=df, palette='pastel');"
   ]
  },
  {
   "cell_type": "code",
   "execution_count": 101,
   "metadata": {},
   "outputs": [
    {
     "data": {
      "text/plain": [
       "count                        3004\n",
       "unique                       1636\n",
       "top       Hill Street, London W1J\n",
       "freq                          149\n",
       "Name: Location, dtype: object"
      ]
     },
     "execution_count": 101,
     "metadata": {},
     "output_type": "execute_result"
    }
   ],
   "source": [
    "df.Location.describe()"
   ]
  },
  {
   "cell_type": "code",
   "execution_count": 102,
   "metadata": {
    "scrolled": true
   },
   "outputs": [
    {
     "data": {
      "text/html": [
       "<div>\n",
       "<style scoped>\n",
       "    .dataframe tbody tr th:only-of-type {\n",
       "        vertical-align: middle;\n",
       "    }\n",
       "\n",
       "    .dataframe tbody tr th {\n",
       "        vertical-align: top;\n",
       "    }\n",
       "\n",
       "    .dataframe thead th {\n",
       "        text-align: right;\n",
       "    }\n",
       "</style>\n",
       "<table border=\"1\" class=\"dataframe\">\n",
       "  <thead>\n",
       "    <tr style=\"text-align: right;\">\n",
       "      <th></th>\n",
       "      <th>Rent</th>\n",
       "      <th>Bedrooms</th>\n",
       "      <th>Bathrooms</th>\n",
       "      <th>Receptions</th>\n",
       "    </tr>\n",
       "  </thead>\n",
       "  <tbody>\n",
       "    <tr>\n",
       "      <th>Rent</th>\n",
       "      <td>1.000000</td>\n",
       "      <td>0.342511</td>\n",
       "      <td>0.533608</td>\n",
       "      <td>0.127790</td>\n",
       "    </tr>\n",
       "    <tr>\n",
       "      <th>Bedrooms</th>\n",
       "      <td>0.342511</td>\n",
       "      <td>1.000000</td>\n",
       "      <td>0.530213</td>\n",
       "      <td>0.297818</td>\n",
       "    </tr>\n",
       "    <tr>\n",
       "      <th>Bathrooms</th>\n",
       "      <td>0.533608</td>\n",
       "      <td>0.530213</td>\n",
       "      <td>1.000000</td>\n",
       "      <td>0.165290</td>\n",
       "    </tr>\n",
       "    <tr>\n",
       "      <th>Receptions</th>\n",
       "      <td>0.127790</td>\n",
       "      <td>0.297818</td>\n",
       "      <td>0.165290</td>\n",
       "      <td>1.000000</td>\n",
       "    </tr>\n",
       "  </tbody>\n",
       "</table>\n",
       "</div>"
      ],
      "text/plain": [
       "                Rent  Bedrooms  Bathrooms  Receptions\n",
       "Rent        1.000000  0.342511   0.533608    0.127790\n",
       "Bedrooms    0.342511  1.000000   0.530213    0.297818\n",
       "Bathrooms   0.533608  0.530213   1.000000    0.165290\n",
       "Receptions  0.127790  0.297818   0.165290    1.000000"
      ]
     },
     "execution_count": 102,
     "metadata": {},
     "output_type": "execute_result"
    }
   ],
   "source": [
    "df.corr()"
   ]
  },
  {
   "cell_type": "code",
   "execution_count": 133,
   "metadata": {},
   "outputs": [
    {
     "data": {
      "text/plain": [
       "<matplotlib.axes._subplots.AxesSubplot at 0x1a24deb358>"
      ]
     },
     "execution_count": 133,
     "metadata": {},
     "output_type": "execute_result"
    },
    {
     "data": {
      "image/png": "[encoded data removed]",
      "text/plain": [
       "<Figure size 432x288 with 2 Axes>"
      ]
     },
     "metadata": {},
     "output_type": "display_data"
    }
   ],
   "source": [
    "sns.heatmap(df.corr(), annot=True)"
   ]
  },
  {
   "cell_type": "markdown",
   "metadata": {},
   "source": [
    "### Linear Regression"
   ]
  },
  {
   "cell_type": "code",
   "execution_count": 104,
   "metadata": {},
   "outputs": [],
   "source": [
    "from sklearn.linear_model import LinearRegression"
   ]
  },
  {
   "cell_type": "code",
   "execution_count": 105,
   "metadata": {},
   "outputs": [],
   "source": [
    "lr = LinearRegression()"
   ]
  },
  {
   "cell_type": "code",
   "execution_count": 106,
   "metadata": {},
   "outputs": [],
   "source": [
    "from sklearn.model_selection import train_test_split"
   ]
  },
  {
   "cell_type": "code",
   "execution_count": 107,
   "metadata": {},
   "outputs": [
    {
     "data": {
      "text/plain": [
       "Index(['Rent', 'Bedrooms', 'Bathrooms', 'Receptions', 'Description',\n",
       "       'Location', 'Available', 'Link'],\n",
       "      dtype='object')"
      ]
     },
     "execution_count": 107,
     "metadata": {},
     "output_type": "execute_result"
    }
   ],
   "source": [
    "df.columns"
   ]
  },
  {
   "cell_type": "code",
   "execution_count": 108,
   "metadata": {},
   "outputs": [],
   "source": [
    "X = df[['Bedrooms', 'Bathrooms', 'Receptions']]\n",
    "y=df['Rent']\n",
    "X_train, X_test, y_train, y_test = train_test_split(X, y, test_size=0.3, random_state=42)"
   ]
  },
  {
   "cell_type": "code",
   "execution_count": 109,
   "metadata": {},
   "outputs": [
    {
     "data": {
      "text/plain": [
       "LinearRegression(copy_X=True, fit_intercept=True, n_jobs=None,\n",
       "         normalize=False)"
      ]
     },
     "execution_count": 109,
     "metadata": {},
     "output_type": "execute_result"
    }
   ],
   "source": [
    "lr.fit(X_train, y_train)"
   ]
  },
  {
   "cell_type": "code",
   "execution_count": 110,
   "metadata": {},
   "outputs": [],
   "source": [
    "predict = lr.predict(X_test)"
   ]
  },
  {
   "cell_type": "code",
   "execution_count": 111,
   "metadata": {},
   "outputs": [],
   "source": [
    "from sklearn.metrics import classification_report"
   ]
  },
  {
   "cell_type": "code",
   "execution_count": 112,
   "metadata": {
    "scrolled": true
   },
   "outputs": [
    {
     "data": {
      "text/plain": [
       "array([  96.40704087, 1034.70572189,  222.23368123])"
      ]
     },
     "execution_count": 112,
     "metadata": {},
     "output_type": "execute_result"
    }
   ],
   "source": [
    "lr.coef_"
   ]
  },
  {
   "cell_type": "code",
   "execution_count": 113,
   "metadata": {},
   "outputs": [
    {
     "data": {
      "text/plain": [
       "<matplotlib.axes._subplots.AxesSubplot at 0x1a257ff160>"
      ]
     },
     "execution_count": 113,
     "metadata": {},
     "output_type": "execute_result"
    },
    {
     "data": {
      "image/png": "[encoded data removed]",
      "text/plain": [
       "<Figure size 432x288 with 1 Axes>"
      ]
     },
     "metadata": {},
     "output_type": "display_data"
    }
   ],
   "source": [
    "sns.scatterplot(y_test, predict)"
   ]
  },
  {
   "cell_type": "code",
   "execution_count": 114,
   "metadata": {},
   "outputs": [
    {
     "data": {
      "text/plain": [
       "825.6192006975028"
      ]
     },
     "execution_count": 114,
     "metadata": {},
     "output_type": "execute_result"
    }
   ],
   "source": [
    "#Mean Absolute Error\n",
    "from sklearn.metrics import mean_absolute_error\n",
    "mean_absolute_error(y_test, predict)"
   ]
  },
  {
   "cell_type": "code",
   "execution_count": 115,
   "metadata": {},
   "outputs": [
    {
     "data": {
      "text/plain": [
       "1011885.9316917219"
      ]
     },
     "execution_count": 115,
     "metadata": {},
     "output_type": "execute_result"
    }
   ],
   "source": [
    "#Mean Squared Error\n",
    "from sklearn.metrics import mean_squared_error\n",
    "mean_squared_error(y_test, predict)"
   ]
  },
  {
   "cell_type": "code",
   "execution_count": 116,
   "metadata": {},
   "outputs": [
    {
     "data": {
      "text/plain": [
       "1005.9254106004689"
      ]
     },
     "execution_count": 116,
     "metadata": {},
     "output_type": "execute_result"
    }
   ],
   "source": [
    "#Root Mean Squared Error\n",
    "np.sqrt(mean_squared_error(y_test, predict))"
   ]
  },
  {
   "cell_type": "code",
   "execution_count": 117,
   "metadata": {},
   "outputs": [
    {
     "data": {
      "text/plain": [
       "<matplotlib.axes._subplots.AxesSubplot at 0x1a2675e278>"
      ]
     },
     "execution_count": 117,
     "metadata": {},
     "output_type": "execute_result"
    },
    {
     "data": {
      "image/png": "[encoded data removed]",
      "text/plain": [
       "<Figure size 432x288 with 1 Axes>"
      ]
     },
     "metadata": {},
     "output_type": "display_data"
    }
   ],
   "source": [
    "sns.distplot(y_test - predict, bins=40, kde=False)"
   ]
  },
  {
   "cell_type": "code",
   "execution_count": 118,
   "metadata": {},
   "outputs": [
    {
     "data": {
      "text/html": [
       "<div>\n",
       "<style scoped>\n",
       "    .dataframe tbody tr th:only-of-type {\n",
       "        vertical-align: middle;\n",
       "    }\n",
       "\n",
       "    .dataframe tbody tr th {\n",
       "        vertical-align: top;\n",
       "    }\n",
       "\n",
       "    .dataframe thead th {\n",
       "        text-align: right;\n",
       "    }\n",
       "</style>\n",
       "<table border=\"1\" class=\"dataframe\">\n",
       "  <thead>\n",
       "    <tr style=\"text-align: right;\">\n",
       "      <th></th>\n",
       "      <th>Coefficient</th>\n",
       "    </tr>\n",
       "  </thead>\n",
       "  <tbody>\n",
       "    <tr>\n",
       "      <th>Bedrooms</th>\n",
       "      <td>96.407041</td>\n",
       "    </tr>\n",
       "    <tr>\n",
       "      <th>Bathrooms</th>\n",
       "      <td>1034.705722</td>\n",
       "    </tr>\n",
       "    <tr>\n",
       "      <th>Receptions</th>\n",
       "      <td>222.233681</td>\n",
       "    </tr>\n",
       "  </tbody>\n",
       "</table>\n",
       "</div>"
      ],
      "text/plain": [
       "            Coefficient\n",
       "Bedrooms      96.407041\n",
       "Bathrooms   1034.705722\n",
       "Receptions   222.233681"
      ]
     },
     "execution_count": 118,
     "metadata": {},
     "output_type": "execute_result"
    }
   ],
   "source": [
    "pd.DataFrame(lr.coef_, X.columns, columns=['Coefficient'])"
   ]
  },
  {
   "cell_type": "markdown",
   "metadata": {},
   "source": [
    "## To do: \n",
    "- check other areas, compare them\n"
   ]
  },
  {
   "cell_type": "code",
   "execution_count": null,
   "metadata": {},
   "outputs": [],
   "source": []
  }
 ],
 "metadata": {
  "kernelspec": {
   "display_name": "Python 3",
   "language": "python",
   "name": "python3"
  },
  "language_info": {
   "codemirror_mode": {
    "name": "ipython",
    "version": 3
   },
   "file_extension": ".py",
   "mimetype": "text/x-python",
   "name": "python",
   "nbconvert_exporter": "python",
   "pygments_lexer": "ipython3",
   "version": "3.7.2"
  }
 },
 "nbformat": 4,
 "nbformat_minor": 2
}
