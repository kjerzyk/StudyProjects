{
 "cells": [
  {
   "cell_type": "markdown",
   "metadata": {},
   "source": [
    "https://www.zoopla.co.uk/to-rent/property/london/clapham/?identifier=london%2Fclapham&furnished_state=unfurnished&include_shared_accommodation=false&page_size=100&q=Clapham%2C%20London&search_source=refine&radius=1&price_frequency=per_month&pn=1\n",
    "\n",
    "furnished_state = unfurnished/furnished\n",
    "include_shared_accomodation = false/true\n",
    "price_frequency = per_month /per_week\n",
    "q - location. \n",
    "restults_sort = newest_listings\n",
    "radius - 1 mile\n",
    "page_size = number of results per page - 10,25,50,100"
   ]
  },
  {
   "cell_type": "code",
   "execution_count": 1,
   "metadata": {},
   "outputs": [],
   "source": [
    "import urllib.request \n",
    "from bs4 import BeautifulSoup\n",
    "import pandas as pd\n",
    "import time\n",
    "import re\n",
    "import numpy as np\n",
    "import seaborn as sns\n",
    "import matplotlib.pyplot as plt\n",
    "%matplotlib inline"
   ]
  },
  {
   "cell_type": "code",
   "execution_count": 181,
   "metadata": {},
   "outputs": [],
   "source": [
    "#To ignore FutureWarnings\n",
    "import warnings\n",
    "warnings.simplefilter(action='ignore', category=FutureWarning)"
   ]
  },
  {
   "cell_type": "code",
   "execution_count": 2,
   "metadata": {},
   "outputs": [
    {
     "name": "stdout",
     "output_type": "stream",
     "text": [
      "Page 1 done\n",
      "Page 2 done\n",
      "Page 3 done\n",
      "Page 4 done\n",
      "Page 5 done\n",
      "Page 6 done\n",
      "Page 7 done\n",
      "Page 8 done\n",
      "Page 9 done\n",
      "Page 10 done\n",
      "Page 11 done\n",
      "Page 12 done\n",
      "Page 13 done\n",
      "Page 14 done\n",
      "Page 15 done\n",
      "Page 16 done\n",
      "Page 17 done\n",
      "Page 18 done\n",
      "Page 19 done\n",
      "Page 20 done\n",
      "Page 21 done\n",
      "Page 22 done\n",
      "Page 23 done\n",
      "Page 24 done\n",
      "Page 25 done\n",
      "Page 26 done\n",
      "Page 27 done\n",
      "Page 28 done\n",
      "Page 29 done\n",
      "Page 30 done\n",
      "Page 31 done\n",
      "Page 32 done\n",
      "Page 33 done\n",
      "Page 34 done\n",
      "Page 35 done\n",
      "Page 36 done\n",
      "Page 37 done\n",
      "Page 38 done\n",
      "Page 39 done\n",
      "Page 40 done\n",
      "Page 41 done\n",
      "Page 42 done\n",
      "Page 43 done\n",
      "Page 44 done\n",
      "Page 45 done\n",
      "Page 46 done\n",
      "Page 47 done\n",
      "Page 48 done\n",
      "Page 49 done\n",
      "Page 50 done\n",
      "Page 51 done\n",
      "Page 52 done\n",
      "Page 53 done\n",
      "Page 54 done\n",
      "Page 55 done\n",
      "Page 56 done\n",
      "Page 57 done\n",
      "Page 58 done\n",
      "Page 59 done\n"
     ]
    }
   ],
   "source": [
    "#Regex formula to find and separate the monthly cost in form of a number - \n",
    "#eliminate pound sign, comma and the weekly cost in parenthesis\n",
    "\n",
    "reg = re.compile(r'£([0-9]{0,2}),?([0-9]{1,3}) \\w+')\n",
    "rent=[]\n",
    "bedrooms=[]\n",
    "bathrooms = []\n",
    "receptions = []\n",
    "link=[]\n",
    "description=[]\n",
    "location=[]\n",
    "available=[]\n",
    "\n",
    "\n",
    "for i in range(1,60):\n",
    "    page_link='https://www.zoopla.co.uk/to-rent/property/battersea/?identifier=battersea&page_size=100&q=Battersea%2C%20London&search_source=refine&radius=1&price_frequency=per_month&pn={}'.format(i)\n",
    "    page = urllib.request.urlopen(page_link)\n",
    "    soup = BeautifulSoup(page, 'html.parser')\n",
    "    print('Page '+str(i)+' done')\n",
    "    \n",
    "    try:\n",
    "        listing = soup.find('ul', {'class': 'listing-results clearfix js-gtm-list'}).findAll('div', {'class':'listing-results-right clearfix'})\n",
    "        for flat in listing:\n",
    "            #Using regex to select monthly rent and appending it to rent list\n",
    "            try:\n",
    "                res = reg.search(flat.find('a', {'class':'listing-results-price text-price'}).text.strip())\n",
    "                rent.append(int(res.group(1)+res.group(2)))\n",
    "            except:\n",
    "                rent.append(None)\n",
    "            #Finding number of bedrooms in specific span and appending to list\n",
    "            try:\n",
    "                bedrooms.append(int(flat.find('span', {'class':'num-icon num-beds'}).text.strip()))\n",
    "            except:\n",
    "                bedrooms.append(None)\n",
    "            #Finding number of bathroom in span and appending to list\n",
    "            try:\n",
    "                bathrooms.append(int(flat.find('span', {'class':'num-icon num-baths'}).text.strip()))\n",
    "            except:\n",
    "                bathrooms.append(None)\n",
    "            #Finding number of reception rooms and appending to list:\n",
    "            try:\n",
    "                receptions.append(int(flat.find('span', {'class':'num-icon num-reception'}).text.strip()))\n",
    "            except:\n",
    "                receptions.append(None)\n",
    "            #Finding link and flat description:\n",
    "            link.append('https://www.zoopla.co.uk'+flat.find('h2').find('a')['href'])\n",
    "        \n",
    "            description.append(flat.find('h2').find('a').text.strip())\n",
    "        \n",
    "            #Location:\n",
    "            try:\n",
    "                location.append(flat.findAll('span', {'class': None})[-1].text.strip())\n",
    "            except:\n",
    "                location.append(None)\n",
    "            #Available:\n",
    "            try:\n",
    "                available.append(flat.find('p', {'class':'available-from'}).text.strip())\n",
    "            except:\n",
    "                available.append(None)\n",
    "        time.sleep(1)\n",
    "    except:\n",
    "        break"
   ]
  },
  {
   "cell_type": "code",
   "execution_count": 138,
   "metadata": {},
   "outputs": [],
   "source": [
    "df = pd.DataFrame({'Rent':rent,\n",
    "                  'Bedrooms': bedrooms,\n",
    "                  'Bathrooms': bathrooms,\n",
    "                  'Receptions': receptions,\n",
    "                  'Description': description,\n",
    "                  'Location': location,\n",
    "                  'Available': available,\n",
    "                  'Link': link})"
   ]
  },
  {
   "cell_type": "code",
   "execution_count": 139,
   "metadata": {},
   "outputs": [],
   "source": [
    "df.to_csv('battersea.csv', index=False)"
   ]
  },
  {
   "cell_type": "code",
   "execution_count": 140,
   "metadata": {},
   "outputs": [],
   "source": [
    "df = pd.read_csv('battersea.csv')"
   ]
  },
  {
   "cell_type": "code",
   "execution_count": 141,
   "metadata": {},
   "outputs": [
    {
     "data": {
      "text/html": [
       "<div>\n",
       "<style scoped>\n",
       "    .dataframe tbody tr th:only-of-type {\n",
       "        vertical-align: middle;\n",
       "    }\n",
       "\n",
       "    .dataframe tbody tr th {\n",
       "        vertical-align: top;\n",
       "    }\n",
       "\n",
       "    .dataframe thead th {\n",
       "        text-align: right;\n",
       "    }\n",
       "</style>\n",
       "<table border=\"1\" class=\"dataframe\">\n",
       "  <thead>\n",
       "    <tr style=\"text-align: right;\">\n",
       "      <th></th>\n",
       "      <th>Rent</th>\n",
       "      <th>Bedrooms</th>\n",
       "      <th>Bathrooms</th>\n",
       "      <th>Receptions</th>\n",
       "      <th>Description</th>\n",
       "      <th>Location</th>\n",
       "      <th>Available</th>\n",
       "      <th>Link</th>\n",
       "    </tr>\n",
       "  </thead>\n",
       "  <tbody>\n",
       "    <tr>\n",
       "      <th>0</th>\n",
       "      <td>2709.0</td>\n",
       "      <td>2.0</td>\n",
       "      <td>1.0</td>\n",
       "      <td>1.0</td>\n",
       "      <td>2 bed flat to rent</td>\n",
       "      <td>Rosary Gardens, Kensington SW7</td>\n",
       "      <td>NaN</td>\n",
       "      <td>https://www.zoopla.co.uk/to-rent/details/50407892</td>\n",
       "    </tr>\n",
       "    <tr>\n",
       "      <th>1</th>\n",
       "      <td>1816.0</td>\n",
       "      <td>NaN</td>\n",
       "      <td>1.0</td>\n",
       "      <td>1.0</td>\n",
       "      <td>Studio to rent</td>\n",
       "      <td>2 Exchange Gardens, London SW8</td>\n",
       "      <td>Available immediately</td>\n",
       "      <td>https://www.zoopla.co.uk/to-rent/details/50407875</td>\n",
       "    </tr>\n",
       "    <tr>\n",
       "      <th>2</th>\n",
       "      <td>9533.0</td>\n",
       "      <td>3.0</td>\n",
       "      <td>3.0</td>\n",
       "      <td>1.0</td>\n",
       "      <td>3 bed maisonette to rent</td>\n",
       "      <td>Cranley Gardens, London SW7</td>\n",
       "      <td>Available from 12th Feb 2019</td>\n",
       "      <td>https://www.zoopla.co.uk/to-rent/details/50407811</td>\n",
       "    </tr>\n",
       "    <tr>\n",
       "      <th>3</th>\n",
       "      <td>2058.0</td>\n",
       "      <td>2.0</td>\n",
       "      <td>1.0</td>\n",
       "      <td>1.0</td>\n",
       "      <td>2 bed flat to rent</td>\n",
       "      <td>Old Brompton Road, London SW5</td>\n",
       "      <td>Available from 24th Feb 2019</td>\n",
       "      <td>https://www.zoopla.co.uk/to-rent/details/50407741</td>\n",
       "    </tr>\n",
       "    <tr>\n",
       "      <th>4</th>\n",
       "      <td>3640.0</td>\n",
       "      <td>2.0</td>\n",
       "      <td>2.0</td>\n",
       "      <td>1.0</td>\n",
       "      <td>2 bed flat to rent</td>\n",
       "      <td>Haydn Tower, Nine Elms Point, London SW8</td>\n",
       "      <td>Available immediately</td>\n",
       "      <td>https://www.zoopla.co.uk/to-rent/details/50407736</td>\n",
       "    </tr>\n",
       "  </tbody>\n",
       "</table>\n",
       "</div>"
      ],
      "text/plain": [
       "     Rent  Bedrooms  Bathrooms  Receptions               Description  \\\n",
       "0  2709.0       2.0        1.0         1.0        2 bed flat to rent   \n",
       "1  1816.0       NaN        1.0         1.0            Studio to rent   \n",
       "2  9533.0       3.0        3.0         1.0  3 bed maisonette to rent   \n",
       "3  2058.0       2.0        1.0         1.0        2 bed flat to rent   \n",
       "4  3640.0       2.0        2.0         1.0        2 bed flat to rent   \n",
       "\n",
       "                                   Location                     Available  \\\n",
       "0            Rosary Gardens, Kensington SW7                           NaN   \n",
       "1            2 Exchange Gardens, London SW8         Available immediately   \n",
       "2               Cranley Gardens, London SW7  Available from 12th Feb 2019   \n",
       "3             Old Brompton Road, London SW5  Available from 24th Feb 2019   \n",
       "4  Haydn Tower, Nine Elms Point, London SW8         Available immediately   \n",
       "\n",
       "                                                Link  \n",
       "0  https://www.zoopla.co.uk/to-rent/details/50407892  \n",
       "1  https://www.zoopla.co.uk/to-rent/details/50407875  \n",
       "2  https://www.zoopla.co.uk/to-rent/details/50407811  \n",
       "3  https://www.zoopla.co.uk/to-rent/details/50407741  \n",
       "4  https://www.zoopla.co.uk/to-rent/details/50407736  "
      ]
     },
     "execution_count": 141,
     "metadata": {},
     "output_type": "execute_result"
    }
   ],
   "source": [
    "df.head()"
   ]
  },
  {
   "cell_type": "code",
   "execution_count": 142,
   "metadata": {},
   "outputs": [
    {
     "data": {
      "text/html": [
       "<div>\n",
       "<style scoped>\n",
       "    .dataframe tbody tr th:only-of-type {\n",
       "        vertical-align: middle;\n",
       "    }\n",
       "\n",
       "    .dataframe tbody tr th {\n",
       "        vertical-align: top;\n",
       "    }\n",
       "\n",
       "    .dataframe thead th {\n",
       "        text-align: right;\n",
       "    }\n",
       "</style>\n",
       "<table border=\"1\" class=\"dataframe\">\n",
       "  <thead>\n",
       "    <tr style=\"text-align: right;\">\n",
       "      <th></th>\n",
       "      <th>Rent</th>\n",
       "      <th>Bedrooms</th>\n",
       "      <th>Bathrooms</th>\n",
       "      <th>Receptions</th>\n",
       "    </tr>\n",
       "  </thead>\n",
       "  <tbody>\n",
       "    <tr>\n",
       "      <th>count</th>\n",
       "      <td>5858.000000</td>\n",
       "      <td>5496.000000</td>\n",
       "      <td>4782.000000</td>\n",
       "      <td>4176.000000</td>\n",
       "    </tr>\n",
       "    <tr>\n",
       "      <th>mean</th>\n",
       "      <td>4485.623080</td>\n",
       "      <td>2.172489</td>\n",
       "      <td>1.679841</td>\n",
       "      <td>1.137692</td>\n",
       "    </tr>\n",
       "    <tr>\n",
       "      <th>std</th>\n",
       "      <td>7295.157216</td>\n",
       "      <td>1.254835</td>\n",
       "      <td>0.917974</td>\n",
       "      <td>0.448504</td>\n",
       "    </tr>\n",
       "    <tr>\n",
       "      <th>min</th>\n",
       "      <td>87.000000</td>\n",
       "      <td>1.000000</td>\n",
       "      <td>1.000000</td>\n",
       "      <td>1.000000</td>\n",
       "    </tr>\n",
       "    <tr>\n",
       "      <th>25%</th>\n",
       "      <td>1993.000000</td>\n",
       "      <td>1.000000</td>\n",
       "      <td>1.000000</td>\n",
       "      <td>1.000000</td>\n",
       "    </tr>\n",
       "    <tr>\n",
       "      <th>50%</th>\n",
       "      <td>2817.000000</td>\n",
       "      <td>2.000000</td>\n",
       "      <td>1.000000</td>\n",
       "      <td>1.000000</td>\n",
       "    </tr>\n",
       "    <tr>\n",
       "      <th>75%</th>\n",
       "      <td>4000.000000</td>\n",
       "      <td>3.000000</td>\n",
       "      <td>2.000000</td>\n",
       "      <td>1.000000</td>\n",
       "    </tr>\n",
       "    <tr>\n",
       "      <th>max</th>\n",
       "      <td>86667.000000</td>\n",
       "      <td>34.000000</td>\n",
       "      <td>9.000000</td>\n",
       "      <td>7.000000</td>\n",
       "    </tr>\n",
       "  </tbody>\n",
       "</table>\n",
       "</div>"
      ],
      "text/plain": [
       "               Rent     Bedrooms    Bathrooms   Receptions\n",
       "count   5858.000000  5496.000000  4782.000000  4176.000000\n",
       "mean    4485.623080     2.172489     1.679841     1.137692\n",
       "std     7295.157216     1.254835     0.917974     0.448504\n",
       "min       87.000000     1.000000     1.000000     1.000000\n",
       "25%     1993.000000     1.000000     1.000000     1.000000\n",
       "50%     2817.000000     2.000000     1.000000     1.000000\n",
       "75%     4000.000000     3.000000     2.000000     1.000000\n",
       "max    86667.000000    34.000000     9.000000     7.000000"
      ]
     },
     "execution_count": 142,
     "metadata": {},
     "output_type": "execute_result"
    }
   ],
   "source": [
    "df.describe()"
   ]
  },
  {
   "cell_type": "code",
   "execution_count": 143,
   "metadata": {
    "scrolled": false
   },
   "outputs": [
    {
     "name": "stdout",
     "output_type": "stream",
     "text": [
      "<class 'pandas.core.frame.DataFrame'>\n",
      "RangeIndex: 5859 entries, 0 to 5858\n",
      "Data columns (total 8 columns):\n",
      "Rent           5858 non-null float64\n",
      "Bedrooms       5496 non-null float64\n",
      "Bathrooms      4782 non-null float64\n",
      "Receptions     4176 non-null float64\n",
      "Description    5859 non-null object\n",
      "Location       5859 non-null object\n",
      "Available      3994 non-null object\n",
      "Link           5859 non-null object\n",
      "dtypes: float64(4), object(4)\n",
      "memory usage: 366.3+ KB\n"
     ]
    }
   ],
   "source": [
    "df.info()"
   ]
  },
  {
   "cell_type": "code",
   "execution_count": 144,
   "metadata": {},
   "outputs": [],
   "source": [
    "#Dropping rows where Rent if a missing value:\n",
    "df = df[df['Rent'].notnull()]"
   ]
  },
  {
   "cell_type": "markdown",
   "metadata": {},
   "source": [
    "If the flat is a studio - rather than have missing value in the Bedrooms column it should have 0"
   ]
  },
  {
   "cell_type": "code",
   "execution_count": 150,
   "metadata": {},
   "outputs": [
    {
     "name": "stderr",
     "output_type": "stream",
     "text": [
      "/Users/jankierzyk/anaconda3/lib/python3.7/site-packages/ipykernel_launcher.py:3: FutureWarning: set_value is deprecated and will be removed in a future release. Please use .at[] or .iat[] accessors instead\n",
      "  This is separate from the ipykernel package so we can avoid doing imports until\n"
     ]
    }
   ],
   "source": [
    "for index,row in df.iterrows():\n",
    "    if 'studio' in row['Description'].lower():\n",
    "        df.set_value(index, ['Bedrooms'], 0)"
   ]
  },
  {
   "cell_type": "code",
   "execution_count": 152,
   "metadata": {},
   "outputs": [],
   "source": [
    "#Removing entries where 2 or more values in Bedrooms, Bathrooms, Receptions columns are missing.\n",
    "df = df.dropna(thresh=2, subset=['Bedrooms', 'Bathrooms', 'Receptions'])"
   ]
  },
  {
   "cell_type": "code",
   "execution_count": 153,
   "metadata": {},
   "outputs": [
    {
     "data": {
      "text/plain": [
       "2.0     2208\n",
       "1.0     1186\n",
       "3.0      684\n",
       "0.0      269\n",
       "4.0      265\n",
       "5.0      100\n",
       "7.0       47\n",
       "6.0       32\n",
       "8.0        5\n",
       "34.0       1\n",
       "28.0       1\n",
       "15.0       1\n",
       "9.0        1\n",
       "Name: Bedrooms, dtype: int64"
      ]
     },
     "execution_count": 153,
     "metadata": {},
     "output_type": "execute_result"
    }
   ],
   "source": [
    "df.Bedrooms.value_counts()"
   ]
  },
  {
   "cell_type": "code",
   "execution_count": 154,
   "metadata": {},
   "outputs": [],
   "source": [
    "#Removing flats where number of bedrooms is higher than 5\n",
    "df = df[df['Bedrooms']<=5]"
   ]
  },
  {
   "cell_type": "code",
   "execution_count": 155,
   "metadata": {},
   "outputs": [
    {
     "name": "stdout",
     "output_type": "stream",
     "text": [
      "<class 'pandas.core.frame.DataFrame'>\n",
      "Int64Index: 4712 entries, 0 to 5858\n",
      "Data columns (total 8 columns):\n",
      "Rent           4712 non-null float64\n",
      "Bedrooms       4712 non-null float64\n",
      "Bathrooms      4692 non-null float64\n",
      "Receptions     4095 non-null float64\n",
      "Description    4712 non-null object\n",
      "Location       4712 non-null object\n",
      "Available      3183 non-null object\n",
      "Link           4712 non-null object\n",
      "dtypes: float64(4), object(4)\n",
      "memory usage: 331.3+ KB\n"
     ]
    }
   ],
   "source": [
    "df.info()"
   ]
  },
  {
   "cell_type": "code",
   "execution_count": 156,
   "metadata": {},
   "outputs": [
    {
     "data": {
      "text/plain": [
       "1.0    2406\n",
       "2.0    1827\n",
       "3.0     367\n",
       "4.0      71\n",
       "5.0      19\n",
       "6.0       2\n",
       "Name: Bathrooms, dtype: int64"
      ]
     },
     "execution_count": 156,
     "metadata": {},
     "output_type": "execute_result"
    }
   ],
   "source": [
    "df.Bathrooms.value_counts()"
   ]
  },
  {
   "cell_type": "code",
   "execution_count": 157,
   "metadata": {},
   "outputs": [],
   "source": [
    "#Removing flats where number of bathrooms is higher than 4:\n",
    "df=df[df['Bathrooms']<=4]"
   ]
  },
  {
   "cell_type": "code",
   "execution_count": 158,
   "metadata": {},
   "outputs": [
    {
     "data": {
      "text/plain": [
       "1.0    3686\n",
       "2.0     333\n",
       "3.0      30\n",
       "4.0       6\n",
       "Name: Receptions, dtype: int64"
      ]
     },
     "execution_count": 158,
     "metadata": {},
     "output_type": "execute_result"
    }
   ],
   "source": [
    "#Looking at receptions count but the values seem fine\n",
    "df.Receptions.value_counts()"
   ]
  },
  {
   "cell_type": "code",
   "execution_count": 194,
   "metadata": {},
   "outputs": [
    {
     "data": {
      "text/plain": [
       "flat        3565\n",
       "house        278\n",
       "terraced     102\n",
       "Name: Description, dtype: int64"
      ]
     },
     "execution_count": 194,
     "metadata": {},
     "output_type": "execute_result"
    }
   ],
   "source": [
    "df.Description.value_counts()"
   ]
  },
  {
   "cell_type": "markdown",
   "metadata": {},
   "source": [
    "Looking at descriptions - most popular types are 'flat', 'house' and 'terraced house'. To make the analysis easier: anything that has a flat (or studio) in it will be assigned to 'flat', anything else will be assigned to 'house' or 'terraced house' if it has 'terrace' in the name. \n",
    "Entries that are room/flat shared need to be removed"
   ]
  },
  {
   "cell_type": "code",
   "execution_count": 132,
   "metadata": {},
   "outputs": [],
   "source": [
    "for index,row in df.iterrows():\n",
    "    if 'room' in row['Description'].lower() or 'shared' in row['Description'].lower():\n",
    "        df.drop(index, inplace=True)"
   ]
  },
  {
   "cell_type": "code",
   "execution_count": 133,
   "metadata": {},
   "outputs": [],
   "source": [
    "for index,row in df.iterrows():\n",
    "    if 'studio' in row['Description'].lower():\n",
    "        df.set_value[index, 'Bedrooms'] = 0"
   ]
  },
  {
   "cell_type": "code",
   "execution_count": 134,
   "metadata": {},
   "outputs": [
    {
     "data": {
      "text/plain": [
       "2.0    2196\n",
       "1.0    1152\n",
       "3.0     679\n",
       "4.0     262\n",
       "5.0      81\n",
       "Name: Bedrooms, dtype: int64"
      ]
     },
     "execution_count": 134,
     "metadata": {},
     "output_type": "execute_result"
    }
   ],
   "source": [
    "df.Bedrooms.value_counts()"
   ]
  },
  {
   "cell_type": "code",
   "execution_count": 160,
   "metadata": {
    "scrolled": true
   },
   "outputs": [
    {
     "name": "stderr",
     "output_type": "stream",
     "text": [
      "/Users/jankierzyk/anaconda3/lib/python3.7/site-packages/ipykernel_launcher.py:4: FutureWarning: set_value is deprecated and will be removed in a future release. Please use .at[] or .iat[] accessors instead\n",
      "  after removing the cwd from sys.path.\n",
      "/Users/jankierzyk/anaconda3/lib/python3.7/site-packages/ipykernel_launcher.py:8: FutureWarning: set_value is deprecated and will be removed in a future release. Please use .at[] or .iat[] accessors instead\n",
      "  \n",
      "/Users/jankierzyk/anaconda3/lib/python3.7/site-packages/ipykernel_launcher.py:6: FutureWarning: set_value is deprecated and will be removed in a future release. Please use .at[] or .iat[] accessors instead\n",
      "  \n"
     ]
    }
   ],
   "source": [
    "#Replacing every flat description with 'flat', house that has a terrace with 'terraced' and any other value with 'house'\n",
    "for index,row in df.iterrows():\n",
    "    if 'flat' in row['Description'].lower() or 'studio' in row['Description'].lower():\n",
    "        df.set_value(index, 'Description', 'flat')\n",
    "    elif 'terraced' in row['Description'].lower():\n",
    "        df.set_value(index, 'Description', 'terraced')\n",
    "    else:\n",
    "        df.set_value(index, 'Description', 'house')"
   ]
  },
  {
   "cell_type": "code",
   "execution_count": 161,
   "metadata": {},
   "outputs": [
    {
     "data": {
      "text/plain": [
       "flat        4038\n",
       "house        462\n",
       "terraced     171\n",
       "Name: Description, dtype: int64"
      ]
     },
     "execution_count": 161,
     "metadata": {},
     "output_type": "execute_result"
    }
   ],
   "source": [
    "df.Description.value_counts()"
   ]
  },
  {
   "cell_type": "code",
   "execution_count": 162,
   "metadata": {},
   "outputs": [],
   "source": [
    "#Resetting index\n",
    "df.reset_index(drop=True, inplace=True)"
   ]
  },
  {
   "cell_type": "code",
   "execution_count": 165,
   "metadata": {},
   "outputs": [
    {
     "data": {
      "text/plain": [
       "Rent              0\n",
       "Bedrooms          0\n",
       "Bathrooms         0\n",
       "Receptions      616\n",
       "Description       0\n",
       "Location          0\n",
       "Available      1512\n",
       "Link              0\n",
       "dtype: int64"
      ]
     },
     "execution_count": 165,
     "metadata": {},
     "output_type": "execute_result"
    }
   ],
   "source": [
    "df.isna().sum()"
   ]
  },
  {
   "cell_type": "code",
   "execution_count": 166,
   "metadata": {
    "scrolled": true
   },
   "outputs": [
    {
     "data": {
      "text/plain": [
       "<matplotlib.axes._subplots.AxesSubplot at 0x1a17e2b2b0>"
      ]
     },
     "execution_count": 166,
     "metadata": {},
     "output_type": "execute_result"
    },
    {
     "data": {
      "image/png": "[encoded data removed]",
      "text/plain": [
       "<Figure size 432x288 with 1 Axes>"
      ]
     },
     "metadata": {
      "needs_background": "light"
     },
     "output_type": "display_data"
    }
   ],
   "source": [
    "sns.distplot(df['Rent'], kde=False, bins=40)"
   ]
  },
  {
   "cell_type": "code",
   "execution_count": 167,
   "metadata": {
    "scrolled": true
   },
   "outputs": [
    {
     "data": {
      "text/plain": [
       "count     4671.000000\n",
       "mean      3790.398630\n",
       "std       4199.340882\n",
       "min        299.000000\n",
       "25%       2000.000000\n",
       "50%       2817.000000\n",
       "75%       3900.000000\n",
       "max      86450.000000\n",
       "Name: Rent, dtype: float64"
      ]
     },
     "execution_count": 167,
     "metadata": {},
     "output_type": "execute_result"
    }
   ],
   "source": [
    "df.Rent.describe()"
   ]
  },
  {
   "cell_type": "markdown",
   "metadata": {},
   "source": [
    "Max of over 20 000 a month looks like an outlier - it's worth getting rid of. To make data easier to work with let's set upper limit to £5000."
   ]
  },
  {
   "cell_type": "code",
   "execution_count": 168,
   "metadata": {},
   "outputs": [],
   "source": [
    "df=df[df['Rent']<5000]"
   ]
  },
  {
   "cell_type": "code",
   "execution_count": 175,
   "metadata": {},
   "outputs": [
    {
     "data": {
      "text/plain": [
       "<matplotlib.axes._subplots.AxesSubplot at 0x1a1851d358>"
      ]
     },
     "execution_count": 175,
     "metadata": {},
     "output_type": "execute_result"
    },
    {
     "data": {
      "image/png": "[encoded data removed]",
      "text/plain": [
       "<Figure size 432x288 with 1 Axes>"
      ]
     },
     "metadata": {},
     "output_type": "display_data"
    }
   ],
   "source": [
    "sns.set_style('whitegrid')\n",
    "sns.distplot(df['Rent'], kde=False, bins=20)"
   ]
  },
  {
   "cell_type": "markdown",
   "metadata": {},
   "source": [
    "Looks like a normal distribution with most flats falling between £1500-3000"
   ]
  },
  {
   "cell_type": "code",
   "execution_count": 188,
   "metadata": {
    "scrolled": true
   },
   "outputs": [
    {
     "data": {
      "image/png": "[encoded data removed]",
      "text/plain": [
       "<Figure size 1080x360 with 1 Axes>"
      ]
     },
     "metadata": {},
     "output_type": "display_data"
    }
   ],
   "source": [
    "plt.figure(figsize=(15,5))\n",
    "sns.violinplot(x='Bedrooms', y='Rent', data=df, palette='pastel')\n",
    "plt.title('Rent depending on number of bedrooms');"
   ]
  },
  {
   "cell_type": "code",
   "execution_count": 193,
   "metadata": {},
   "outputs": [
    {
     "data": {
      "text/plain": [
       "Text(0.5, 1.0, 'Rent depending on type of accomodation')"
      ]
     },
     "execution_count": 193,
     "metadata": {},
     "output_type": "execute_result"
    },
    {
     "data": {
      "image/png": "[encoded data removed]",
      "text/plain": [
       "<Figure size 720x360 with 1 Axes>"
      ]
     },
     "metadata": {},
     "output_type": "display_data"
    }
   ],
   "source": [
    "plt.figure(figsize=(10,5))\n",
    "sns.violinplot(x='Description', y='Rent', data=df)\n",
    "plt.title('Rent depending on type of accomodation')"
   ]
  },
  {
   "cell_type": "markdown",
   "metadata": {},
   "source": [
    "### Let's now analyse flats that are available immediately and flats that you need to wait for:"
   ]
  },
  {
   "cell_type": "code",
   "execution_count": 242,
   "metadata": {},
   "outputs": [],
   "source": [
    "#Creating new dataframes filtering on availability\n",
    "available_now = df[df['Available']=='Available immediately']\n",
    "available_later = df[df['Available']!='Available immediately']"
   ]
  },
  {
   "cell_type": "code",
   "execution_count": 241,
   "metadata": {},
   "outputs": [
    {
     "name": "stdout",
     "output_type": "stream",
     "text": [
      "available_now: 1776\n",
      "available later: 2169\n"
     ]
    }
   ],
   "source": [
    "print('available_now: ' +str(available_now.shape[0]))\n",
    "print('available later: '+str(available_later.shape[0]))"
   ]
  },
  {
   "cell_type": "code",
   "execution_count": 252,
   "metadata": {},
   "outputs": [
    {
     "data": {
      "image/png": "[encoded data removed]",
      "text/plain": [
       "<Figure size 936x432 with 2 Axes>"
      ]
     },
     "metadata": {},
     "output_type": "display_data"
    }
   ],
   "source": [
    "#Creating boxplots for flats available now and later\n",
    "fig, ax =plt.subplots(2,1,figsize=(13,6),constrained_layout=True)\n",
    "sns.boxplot(x='Bedrooms', y='Rent', data=available_now, ax=ax[0])\n",
    "sns.boxplot(x='Bedrooms', y='Rent', data=available_later, ax=ax[1])\n",
    "ax[0].set_title('Places available now')\n",
    "ax[1].set_title('Places available later')\n",
    "plt.show()"
   ]
  },
  {
   "cell_type": "code",
   "execution_count": 253,
   "metadata": {
    "scrolled": true
   },
   "outputs": [
    {
     "data": {
      "text/plain": [
       "Rent              0\n",
       "Bedrooms          0\n",
       "Bathrooms         0\n",
       "Receptions      573\n",
       "Description       0\n",
       "Location          0\n",
       "Available      1258\n",
       "Link              0\n",
       "dtype: int64"
      ]
     },
     "execution_count": 253,
     "metadata": {},
     "output_type": "execute_result"
    }
   ],
   "source": [
    "df.isna().sum()"
   ]
  },
  {
   "cell_type": "markdown",
   "metadata": {},
   "source": [
    "### Lots of information about availability is missing. Same for receptions:"
   ]
  },
  {
   "cell_type": "code",
   "execution_count": 254,
   "metadata": {},
   "outputs": [
    {
     "data": {
      "text/html": [
       "<div>\n",
       "<style scoped>\n",
       "    .dataframe tbody tr th:only-of-type {\n",
       "        vertical-align: middle;\n",
       "    }\n",
       "\n",
       "    .dataframe tbody tr th {\n",
       "        vertical-align: top;\n",
       "    }\n",
       "\n",
       "    .dataframe thead th {\n",
       "        text-align: right;\n",
       "    }\n",
       "</style>\n",
       "<table border=\"1\" class=\"dataframe\">\n",
       "  <thead>\n",
       "    <tr style=\"text-align: right;\">\n",
       "      <th></th>\n",
       "      <th>Rent</th>\n",
       "      <th>Bedrooms</th>\n",
       "      <th>Bathrooms</th>\n",
       "      <th>Receptions</th>\n",
       "      <th>Description</th>\n",
       "      <th>Location</th>\n",
       "      <th>Available</th>\n",
       "      <th>Link</th>\n",
       "    </tr>\n",
       "  </thead>\n",
       "  <tbody>\n",
       "    <tr>\n",
       "      <th>7</th>\n",
       "      <td>2275.0</td>\n",
       "      <td>2.0</td>\n",
       "      <td>1.0</td>\n",
       "      <td>NaN</td>\n",
       "      <td>house</td>\n",
       "      <td>Birley Street, London SW11</td>\n",
       "      <td>Available immediately</td>\n",
       "      <td>https://www.zoopla.co.uk/to-rent/details/46845981</td>\n",
       "    </tr>\n",
       "    <tr>\n",
       "      <th>10</th>\n",
       "      <td>1733.0</td>\n",
       "      <td>2.0</td>\n",
       "      <td>1.0</td>\n",
       "      <td>NaN</td>\n",
       "      <td>flat</td>\n",
       "      <td>Mayflower Road, London SW9</td>\n",
       "      <td>Available from 16th Feb 2019</td>\n",
       "      <td>https://www.zoopla.co.uk/to-rent/details/49447854</td>\n",
       "    </tr>\n",
       "    <tr>\n",
       "      <th>25</th>\n",
       "      <td>1500.0</td>\n",
       "      <td>1.0</td>\n",
       "      <td>2.0</td>\n",
       "      <td>NaN</td>\n",
       "      <td>flat</td>\n",
       "      <td>Trinity Road, London SW17</td>\n",
       "      <td>Available from 17th Mar 2019</td>\n",
       "      <td>https://www.zoopla.co.uk/to-rent/details/50404351</td>\n",
       "    </tr>\n",
       "    <tr>\n",
       "      <th>29</th>\n",
       "      <td>3250.0</td>\n",
       "      <td>3.0</td>\n",
       "      <td>1.0</td>\n",
       "      <td>NaN</td>\n",
       "      <td>house</td>\n",
       "      <td>Elmfield Road, London SW17</td>\n",
       "      <td>Available from  2nd Mar 2019</td>\n",
       "      <td>https://www.zoopla.co.uk/to-rent/details/50403459</td>\n",
       "    </tr>\n",
       "    <tr>\n",
       "      <th>39</th>\n",
       "      <td>1600.0</td>\n",
       "      <td>2.0</td>\n",
       "      <td>1.0</td>\n",
       "      <td>NaN</td>\n",
       "      <td>flat</td>\n",
       "      <td>Earsfield Road, London SW18</td>\n",
       "      <td>Available immediately</td>\n",
       "      <td>https://www.zoopla.co.uk/to-rent/details/50402756</td>\n",
       "    </tr>\n",
       "    <tr>\n",
       "      <th>40</th>\n",
       "      <td>1650.0</td>\n",
       "      <td>2.0</td>\n",
       "      <td>2.0</td>\n",
       "      <td>NaN</td>\n",
       "      <td>flat</td>\n",
       "      <td>Brixton Road, London SW9</td>\n",
       "      <td>Available from  5th Apr 2019</td>\n",
       "      <td>https://www.zoopla.co.uk/to-rent/details/50402624</td>\n",
       "    </tr>\n",
       "    <tr>\n",
       "      <th>41</th>\n",
       "      <td>1500.0</td>\n",
       "      <td>1.0</td>\n",
       "      <td>1.0</td>\n",
       "      <td>NaN</td>\n",
       "      <td>flat</td>\n",
       "      <td>Eckstein Road, London SW11</td>\n",
       "      <td>Available from 16th Feb 2019</td>\n",
       "      <td>https://www.zoopla.co.uk/to-rent/details/50402634</td>\n",
       "    </tr>\n",
       "    <tr>\n",
       "      <th>42</th>\n",
       "      <td>1755.0</td>\n",
       "      <td>2.0</td>\n",
       "      <td>1.0</td>\n",
       "      <td>NaN</td>\n",
       "      <td>flat</td>\n",
       "      <td>Clapham South, London SW12</td>\n",
       "      <td>Available immediately</td>\n",
       "      <td>https://www.zoopla.co.uk/to-rent/details/50402604</td>\n",
       "    </tr>\n",
       "    <tr>\n",
       "      <th>43</th>\n",
       "      <td>1600.0</td>\n",
       "      <td>2.0</td>\n",
       "      <td>1.0</td>\n",
       "      <td>NaN</td>\n",
       "      <td>flat</td>\n",
       "      <td>Brixton Road, London SW9</td>\n",
       "      <td>Available from  5th Apr 2019</td>\n",
       "      <td>https://www.zoopla.co.uk/to-rent/details/50402587</td>\n",
       "    </tr>\n",
       "    <tr>\n",
       "      <th>61</th>\n",
       "      <td>2384.0</td>\n",
       "      <td>2.0</td>\n",
       "      <td>1.0</td>\n",
       "      <td>NaN</td>\n",
       "      <td>flat</td>\n",
       "      <td>Vauxhall Bridge Road, Westminster SW1V</td>\n",
       "      <td>NaN</td>\n",
       "      <td>https://www.zoopla.co.uk/to-rent/details/50401734</td>\n",
       "    </tr>\n",
       "    <tr>\n",
       "      <th>70</th>\n",
       "      <td>1842.0</td>\n",
       "      <td>1.0</td>\n",
       "      <td>1.0</td>\n",
       "      <td>NaN</td>\n",
       "      <td>flat</td>\n",
       "      <td>Octavia House, Fulham, London SW6</td>\n",
       "      <td>Available from  2nd Apr 2019</td>\n",
       "      <td>https://www.zoopla.co.uk/to-rent/details/50401598</td>\n",
       "    </tr>\n",
       "    <tr>\n",
       "      <th>79</th>\n",
       "      <td>1800.0</td>\n",
       "      <td>2.0</td>\n",
       "      <td>1.0</td>\n",
       "      <td>NaN</td>\n",
       "      <td>house</td>\n",
       "      <td>Cavendish Road, London SW12</td>\n",
       "      <td>Available from  9th Feb 2019</td>\n",
       "      <td>https://www.zoopla.co.uk/to-rent/details/50401187</td>\n",
       "    </tr>\n",
       "    <tr>\n",
       "      <th>80</th>\n",
       "      <td>2200.0</td>\n",
       "      <td>3.0</td>\n",
       "      <td>1.0</td>\n",
       "      <td>NaN</td>\n",
       "      <td>flat</td>\n",
       "      <td>Endlesham Rd, London SW12</td>\n",
       "      <td>Available from  1st Apr 2019</td>\n",
       "      <td>https://www.zoopla.co.uk/to-rent/details/50401137</td>\n",
       "    </tr>\n",
       "    <tr>\n",
       "      <th>112</th>\n",
       "      <td>1625.0</td>\n",
       "      <td>0.0</td>\n",
       "      <td>1.0</td>\n",
       "      <td>NaN</td>\n",
       "      <td>flat</td>\n",
       "      <td>Sloane Avenue, London SW3</td>\n",
       "      <td>NaN</td>\n",
       "      <td>https://www.zoopla.co.uk/to-rent/details/50398325</td>\n",
       "    </tr>\n",
       "    <tr>\n",
       "      <th>114</th>\n",
       "      <td>1209.0</td>\n",
       "      <td>0.0</td>\n",
       "      <td>1.0</td>\n",
       "      <td>NaN</td>\n",
       "      <td>flat</td>\n",
       "      <td>Kennington Ln, Vauxhall SE11</td>\n",
       "      <td>Available immediately</td>\n",
       "      <td>https://www.zoopla.co.uk/to-rent/details/50398221</td>\n",
       "    </tr>\n",
       "    <tr>\n",
       "      <th>131</th>\n",
       "      <td>2578.0</td>\n",
       "      <td>2.0</td>\n",
       "      <td>2.0</td>\n",
       "      <td>NaN</td>\n",
       "      <td>flat</td>\n",
       "      <td>Peabody Estate, Vauxhall Bridge Road, London SW1V</td>\n",
       "      <td>Available immediately</td>\n",
       "      <td>https://www.zoopla.co.uk/to-rent/details/48423820</td>\n",
       "    </tr>\n",
       "    <tr>\n",
       "      <th>132</th>\n",
       "      <td>800.0</td>\n",
       "      <td>3.0</td>\n",
       "      <td>1.0</td>\n",
       "      <td>NaN</td>\n",
       "      <td>house</td>\n",
       "      <td>Pimlico, London SW1V</td>\n",
       "      <td>Available from 20th Feb 2019</td>\n",
       "      <td>https://www.zoopla.co.uk/to-rent/details/50397001</td>\n",
       "    </tr>\n",
       "    <tr>\n",
       "      <th>135</th>\n",
       "      <td>3402.0</td>\n",
       "      <td>2.0</td>\n",
       "      <td>2.0</td>\n",
       "      <td>NaN</td>\n",
       "      <td>flat</td>\n",
       "      <td>Fulham Road, London SW3</td>\n",
       "      <td>NaN</td>\n",
       "      <td>https://www.zoopla.co.uk/to-rent/details/50396833</td>\n",
       "    </tr>\n",
       "    <tr>\n",
       "      <th>137</th>\n",
       "      <td>1027.0</td>\n",
       "      <td>1.0</td>\n",
       "      <td>1.0</td>\n",
       "      <td>NaN</td>\n",
       "      <td>house</td>\n",
       "      <td>Zachary Court, London SW1P</td>\n",
       "      <td>Available immediately</td>\n",
       "      <td>https://www.zoopla.co.uk/to-rent/details/50396589</td>\n",
       "    </tr>\n",
       "    <tr>\n",
       "      <th>139</th>\n",
       "      <td>498.0</td>\n",
       "      <td>0.0</td>\n",
       "      <td>1.0</td>\n",
       "      <td>NaN</td>\n",
       "      <td>flat</td>\n",
       "      <td>Trinity Road, Tooting Bec SW17</td>\n",
       "      <td>Available from  1st Mar 2019</td>\n",
       "      <td>https://www.zoopla.co.uk/to-rent/details/50396323</td>\n",
       "    </tr>\n",
       "    <tr>\n",
       "      <th>141</th>\n",
       "      <td>2475.0</td>\n",
       "      <td>2.0</td>\n",
       "      <td>2.0</td>\n",
       "      <td>NaN</td>\n",
       "      <td>flat</td>\n",
       "      <td>Hebden Place, London SW8</td>\n",
       "      <td>Available from  9th Feb 2019</td>\n",
       "      <td>https://www.zoopla.co.uk/to-rent/details/50396253</td>\n",
       "    </tr>\n",
       "    <tr>\n",
       "      <th>154</th>\n",
       "      <td>1450.0</td>\n",
       "      <td>1.0</td>\n",
       "      <td>1.0</td>\n",
       "      <td>NaN</td>\n",
       "      <td>flat</td>\n",
       "      <td>Station Parade, Balham SW12</td>\n",
       "      <td>Available from 31st Mar 2019</td>\n",
       "      <td>https://www.zoopla.co.uk/to-rent/details/50395256</td>\n",
       "    </tr>\n",
       "    <tr>\n",
       "      <th>161</th>\n",
       "      <td>3250.0</td>\n",
       "      <td>2.0</td>\n",
       "      <td>2.0</td>\n",
       "      <td>NaN</td>\n",
       "      <td>flat</td>\n",
       "      <td>Fulham Road, London SW3</td>\n",
       "      <td>NaN</td>\n",
       "      <td>https://www.zoopla.co.uk/to-rent/details/49147944</td>\n",
       "    </tr>\n",
       "    <tr>\n",
       "      <th>174</th>\n",
       "      <td>1800.0</td>\n",
       "      <td>3.0</td>\n",
       "      <td>1.0</td>\n",
       "      <td>NaN</td>\n",
       "      <td>flat</td>\n",
       "      <td>Camberwell Road, London SE5</td>\n",
       "      <td>Available from 18th Mar 2019</td>\n",
       "      <td>https://www.zoopla.co.uk/to-rent/details/44489202</td>\n",
       "    </tr>\n",
       "    <tr>\n",
       "      <th>193</th>\n",
       "      <td>2513.0</td>\n",
       "      <td>1.0</td>\n",
       "      <td>1.0</td>\n",
       "      <td>NaN</td>\n",
       "      <td>flat</td>\n",
       "      <td>Evelyn Gardens, London SW7</td>\n",
       "      <td>Available from  1st Mar 2019</td>\n",
       "      <td>https://www.zoopla.co.uk/to-rent/details/50390629</td>\n",
       "    </tr>\n",
       "    <tr>\n",
       "      <th>194</th>\n",
       "      <td>1200.0</td>\n",
       "      <td>0.0</td>\n",
       "      <td>1.0</td>\n",
       "      <td>NaN</td>\n",
       "      <td>flat</td>\n",
       "      <td>Fernlea Road, London SW12</td>\n",
       "      <td>Available from 17th Feb 2019</td>\n",
       "      <td>https://www.zoopla.co.uk/to-rent/details/50390596</td>\n",
       "    </tr>\n",
       "    <tr>\n",
       "      <th>213</th>\n",
       "      <td>3142.0</td>\n",
       "      <td>4.0</td>\n",
       "      <td>2.0</td>\n",
       "      <td>NaN</td>\n",
       "      <td>terraced</td>\n",
       "      <td>Allfarthing Lane, London SW18</td>\n",
       "      <td>Available from 25th Mar 2019</td>\n",
       "      <td>https://www.zoopla.co.uk/to-rent/details/50389520</td>\n",
       "    </tr>\n",
       "    <tr>\n",
       "      <th>216</th>\n",
       "      <td>1668.0</td>\n",
       "      <td>2.0</td>\n",
       "      <td>1.0</td>\n",
       "      <td>NaN</td>\n",
       "      <td>flat</td>\n",
       "      <td>New Kings Road, London SW6</td>\n",
       "      <td>Available immediately</td>\n",
       "      <td>https://www.zoopla.co.uk/to-rent/details/50389382</td>\n",
       "    </tr>\n",
       "    <tr>\n",
       "      <th>227</th>\n",
       "      <td>2708.0</td>\n",
       "      <td>2.0</td>\n",
       "      <td>1.0</td>\n",
       "      <td>NaN</td>\n",
       "      <td>flat</td>\n",
       "      <td>Churchfield Mansions, London SW6</td>\n",
       "      <td>Available immediately</td>\n",
       "      <td>https://www.zoopla.co.uk/to-rent/details/50387952</td>\n",
       "    </tr>\n",
       "    <tr>\n",
       "      <th>228</th>\n",
       "      <td>2400.0</td>\n",
       "      <td>3.0</td>\n",
       "      <td>1.0</td>\n",
       "      <td>NaN</td>\n",
       "      <td>flat</td>\n",
       "      <td>Laker Court, London SW4</td>\n",
       "      <td>Available from 10th Feb 2019</td>\n",
       "      <td>https://www.zoopla.co.uk/to-rent/details/50387939</td>\n",
       "    </tr>\n",
       "    <tr>\n",
       "      <th>...</th>\n",
       "      <td>...</td>\n",
       "      <td>...</td>\n",
       "      <td>...</td>\n",
       "      <td>...</td>\n",
       "      <td>...</td>\n",
       "      <td>...</td>\n",
       "      <td>...</td>\n",
       "      <td>...</td>\n",
       "    </tr>\n",
       "    <tr>\n",
       "      <th>4453</th>\n",
       "      <td>3141.0</td>\n",
       "      <td>2.0</td>\n",
       "      <td>1.0</td>\n",
       "      <td>NaN</td>\n",
       "      <td>flat</td>\n",
       "      <td>Fulham Road, Chelsea SW3</td>\n",
       "      <td>NaN</td>\n",
       "      <td>https://www.zoopla.co.uk/to-rent/details/42410143</td>\n",
       "    </tr>\n",
       "    <tr>\n",
       "      <th>4454</th>\n",
       "      <td>3358.0</td>\n",
       "      <td>2.0</td>\n",
       "      <td>2.0</td>\n",
       "      <td>NaN</td>\n",
       "      <td>flat</td>\n",
       "      <td>Fulham Road, Chelsea SW3</td>\n",
       "      <td>NaN</td>\n",
       "      <td>https://www.zoopla.co.uk/to-rent/details/42410146</td>\n",
       "    </tr>\n",
       "    <tr>\n",
       "      <th>4485</th>\n",
       "      <td>1100.0</td>\n",
       "      <td>0.0</td>\n",
       "      <td>1.0</td>\n",
       "      <td>NaN</td>\n",
       "      <td>flat</td>\n",
       "      <td>Clapham High Street, London SW4</td>\n",
       "      <td>NaN</td>\n",
       "      <td>https://www.zoopla.co.uk/to-rent/details/45657393</td>\n",
       "    </tr>\n",
       "    <tr>\n",
       "      <th>4490</th>\n",
       "      <td>3683.0</td>\n",
       "      <td>2.0</td>\n",
       "      <td>2.0</td>\n",
       "      <td>NaN</td>\n",
       "      <td>flat</td>\n",
       "      <td>St Johns Building, Marsham Street, London SW1P</td>\n",
       "      <td>NaN</td>\n",
       "      <td>https://www.zoopla.co.uk/to-rent/details/45500877</td>\n",
       "    </tr>\n",
       "    <tr>\n",
       "      <th>4524</th>\n",
       "      <td>1625.0</td>\n",
       "      <td>1.0</td>\n",
       "      <td>1.0</td>\n",
       "      <td>NaN</td>\n",
       "      <td>flat</td>\n",
       "      <td>Fulham Road, London SW3</td>\n",
       "      <td>NaN</td>\n",
       "      <td>https://www.zoopla.co.uk/to-rent/details/45880879</td>\n",
       "    </tr>\n",
       "    <tr>\n",
       "      <th>4544</th>\n",
       "      <td>3500.0</td>\n",
       "      <td>2.0</td>\n",
       "      <td>1.0</td>\n",
       "      <td>NaN</td>\n",
       "      <td>flat</td>\n",
       "      <td>Sloane Avenue, Chelsea, London SW3</td>\n",
       "      <td>Available from 23rd Feb 2019</td>\n",
       "      <td>https://www.zoopla.co.uk/to-rent/details/45807799</td>\n",
       "    </tr>\n",
       "    <tr>\n",
       "      <th>4553</th>\n",
       "      <td>3900.0</td>\n",
       "      <td>2.0</td>\n",
       "      <td>2.0</td>\n",
       "      <td>NaN</td>\n",
       "      <td>flat</td>\n",
       "      <td>Battersea, London SW11</td>\n",
       "      <td>Available immediately</td>\n",
       "      <td>https://www.zoopla.co.uk/to-rent/details/44316870</td>\n",
       "    </tr>\n",
       "    <tr>\n",
       "      <th>4558</th>\n",
       "      <td>2860.0</td>\n",
       "      <td>1.0</td>\n",
       "      <td>1.0</td>\n",
       "      <td>NaN</td>\n",
       "      <td>flat</td>\n",
       "      <td>Fulham Road, London SW3</td>\n",
       "      <td>NaN</td>\n",
       "      <td>https://www.zoopla.co.uk/to-rent/details/45880902</td>\n",
       "    </tr>\n",
       "    <tr>\n",
       "      <th>4559</th>\n",
       "      <td>2518.0</td>\n",
       "      <td>0.0</td>\n",
       "      <td>1.0</td>\n",
       "      <td>NaN</td>\n",
       "      <td>flat</td>\n",
       "      <td>Roland House, Old Brompton Road, South Kensing...</td>\n",
       "      <td>NaN</td>\n",
       "      <td>https://www.zoopla.co.uk/to-rent/details/20860449</td>\n",
       "    </tr>\n",
       "    <tr>\n",
       "      <th>4571</th>\n",
       "      <td>2400.0</td>\n",
       "      <td>4.0</td>\n",
       "      <td>2.0</td>\n",
       "      <td>NaN</td>\n",
       "      <td>flat</td>\n",
       "      <td>Chelsea, London SW10</td>\n",
       "      <td>Available immediately</td>\n",
       "      <td>https://www.zoopla.co.uk/to-rent/details/43518052</td>\n",
       "    </tr>\n",
       "    <tr>\n",
       "      <th>4572</th>\n",
       "      <td>3337.0</td>\n",
       "      <td>2.0</td>\n",
       "      <td>2.0</td>\n",
       "      <td>NaN</td>\n",
       "      <td>flat</td>\n",
       "      <td>Pelham Court, Fulham Road, South Kensington, L...</td>\n",
       "      <td>Available immediately</td>\n",
       "      <td>https://www.zoopla.co.uk/to-rent/details/43486350</td>\n",
       "    </tr>\n",
       "    <tr>\n",
       "      <th>4578</th>\n",
       "      <td>2491.0</td>\n",
       "      <td>2.0</td>\n",
       "      <td>2.0</td>\n",
       "      <td>NaN</td>\n",
       "      <td>flat</td>\n",
       "      <td>Park Street, Chelsea SW6</td>\n",
       "      <td>NaN</td>\n",
       "      <td>https://www.zoopla.co.uk/to-rent/details/43389516</td>\n",
       "    </tr>\n",
       "    <tr>\n",
       "      <th>4579</th>\n",
       "      <td>2275.0</td>\n",
       "      <td>1.0</td>\n",
       "      <td>1.0</td>\n",
       "      <td>NaN</td>\n",
       "      <td>flat</td>\n",
       "      <td>Monck Street, Westminster SW1P</td>\n",
       "      <td>NaN</td>\n",
       "      <td>https://www.zoopla.co.uk/to-rent/details/43384314</td>\n",
       "    </tr>\n",
       "    <tr>\n",
       "      <th>4586</th>\n",
       "      <td>3402.0</td>\n",
       "      <td>2.0</td>\n",
       "      <td>2.0</td>\n",
       "      <td>NaN</td>\n",
       "      <td>flat</td>\n",
       "      <td>Fulham Road, London SW3</td>\n",
       "      <td>NaN</td>\n",
       "      <td>https://www.zoopla.co.uk/to-rent/details/45880894</td>\n",
       "    </tr>\n",
       "    <tr>\n",
       "      <th>4595</th>\n",
       "      <td>2253.0</td>\n",
       "      <td>2.0</td>\n",
       "      <td>2.0</td>\n",
       "      <td>NaN</td>\n",
       "      <td>flat</td>\n",
       "      <td>St. George Wharf, London SW8</td>\n",
       "      <td>NaN</td>\n",
       "      <td>https://www.zoopla.co.uk/to-rent/details/42675314</td>\n",
       "    </tr>\n",
       "    <tr>\n",
       "      <th>4598</th>\n",
       "      <td>3250.0</td>\n",
       "      <td>1.0</td>\n",
       "      <td>1.0</td>\n",
       "      <td>NaN</td>\n",
       "      <td>flat</td>\n",
       "      <td>Sloane Avenue, London SW3</td>\n",
       "      <td>NaN</td>\n",
       "      <td>https://www.zoopla.co.uk/to-rent/details/42564858</td>\n",
       "    </tr>\n",
       "    <tr>\n",
       "      <th>4602</th>\n",
       "      <td>3159.0</td>\n",
       "      <td>1.0</td>\n",
       "      <td>1.0</td>\n",
       "      <td>NaN</td>\n",
       "      <td>flat</td>\n",
       "      <td>Sloane Street, Knightsbridge SW1X</td>\n",
       "      <td>NaN</td>\n",
       "      <td>https://www.zoopla.co.uk/to-rent/details/42369636</td>\n",
       "    </tr>\n",
       "    <tr>\n",
       "      <th>4603</th>\n",
       "      <td>2430.0</td>\n",
       "      <td>1.0</td>\n",
       "      <td>1.0</td>\n",
       "      <td>NaN</td>\n",
       "      <td>flat</td>\n",
       "      <td>79 Marsham Street, Westminster SW1P</td>\n",
       "      <td>NaN</td>\n",
       "      <td>https://www.zoopla.co.uk/to-rent/details/42369611</td>\n",
       "    </tr>\n",
       "    <tr>\n",
       "      <th>4604</th>\n",
       "      <td>1798.0</td>\n",
       "      <td>1.0</td>\n",
       "      <td>1.0</td>\n",
       "      <td>NaN</td>\n",
       "      <td>flat</td>\n",
       "      <td>Page Street, London SW1P</td>\n",
       "      <td>NaN</td>\n",
       "      <td>https://www.zoopla.co.uk/to-rent/details/42188680</td>\n",
       "    </tr>\n",
       "    <tr>\n",
       "      <th>4605</th>\n",
       "      <td>1755.0</td>\n",
       "      <td>1.0</td>\n",
       "      <td>1.0</td>\n",
       "      <td>NaN</td>\n",
       "      <td>flat</td>\n",
       "      <td>X Page Street, London SW1P</td>\n",
       "      <td>NaN</td>\n",
       "      <td>https://www.zoopla.co.uk/to-rent/details/42087686</td>\n",
       "    </tr>\n",
       "    <tr>\n",
       "      <th>4606</th>\n",
       "      <td>1798.0</td>\n",
       "      <td>1.0</td>\n",
       "      <td>1.0</td>\n",
       "      <td>NaN</td>\n",
       "      <td>flat</td>\n",
       "      <td>36 Rogers House, Page Street, London SW1P</td>\n",
       "      <td>NaN</td>\n",
       "      <td>https://www.zoopla.co.uk/to-rent/details/42109871</td>\n",
       "    </tr>\n",
       "    <tr>\n",
       "      <th>4607</th>\n",
       "      <td>1300.0</td>\n",
       "      <td>0.0</td>\n",
       "      <td>1.0</td>\n",
       "      <td>NaN</td>\n",
       "      <td>flat</td>\n",
       "      <td>495, Flat 3 Kings Road, Kings Road, London SW10</td>\n",
       "      <td>NaN</td>\n",
       "      <td>https://www.zoopla.co.uk/to-rent/details/42109861</td>\n",
       "    </tr>\n",
       "    <tr>\n",
       "      <th>4608</th>\n",
       "      <td>1560.0</td>\n",
       "      <td>1.0</td>\n",
       "      <td>1.0</td>\n",
       "      <td>NaN</td>\n",
       "      <td>flat</td>\n",
       "      <td>34 Tintern House, Abbots Manor, London SW1V</td>\n",
       "      <td>NaN</td>\n",
       "      <td>https://www.zoopla.co.uk/to-rent/details/42109860</td>\n",
       "    </tr>\n",
       "    <tr>\n",
       "      <th>4610</th>\n",
       "      <td>1625.0</td>\n",
       "      <td>1.0</td>\n",
       "      <td>1.0</td>\n",
       "      <td>NaN</td>\n",
       "      <td>flat</td>\n",
       "      <td>Fulham Road, London SW3</td>\n",
       "      <td>NaN</td>\n",
       "      <td>https://www.zoopla.co.uk/to-rent/details/45880871</td>\n",
       "    </tr>\n",
       "    <tr>\n",
       "      <th>4614</th>\n",
       "      <td>3358.0</td>\n",
       "      <td>2.0</td>\n",
       "      <td>2.0</td>\n",
       "      <td>NaN</td>\n",
       "      <td>flat</td>\n",
       "      <td>Fulham Road, London SW3</td>\n",
       "      <td>NaN</td>\n",
       "      <td>https://www.zoopla.co.uk/to-rent/details/45880895</td>\n",
       "    </tr>\n",
       "    <tr>\n",
       "      <th>4624</th>\n",
       "      <td>3250.0</td>\n",
       "      <td>2.0</td>\n",
       "      <td>2.0</td>\n",
       "      <td>NaN</td>\n",
       "      <td>flat</td>\n",
       "      <td>Fulham Road, London SW3</td>\n",
       "      <td>NaN</td>\n",
       "      <td>https://www.zoopla.co.uk/to-rent/details/45880913</td>\n",
       "    </tr>\n",
       "    <tr>\n",
       "      <th>4626</th>\n",
       "      <td>3250.0</td>\n",
       "      <td>2.0</td>\n",
       "      <td>2.0</td>\n",
       "      <td>NaN</td>\n",
       "      <td>flat</td>\n",
       "      <td>Fulham Road, London SW3</td>\n",
       "      <td>NaN</td>\n",
       "      <td>https://www.zoopla.co.uk/to-rent/details/45880916</td>\n",
       "    </tr>\n",
       "    <tr>\n",
       "      <th>4630</th>\n",
       "      <td>2600.0</td>\n",
       "      <td>1.0</td>\n",
       "      <td>1.0</td>\n",
       "      <td>NaN</td>\n",
       "      <td>flat</td>\n",
       "      <td>Fulham Road, London SW3</td>\n",
       "      <td>NaN</td>\n",
       "      <td>https://www.zoopla.co.uk/to-rent/details/45880910</td>\n",
       "    </tr>\n",
       "    <tr>\n",
       "      <th>4664</th>\n",
       "      <td>1755.0</td>\n",
       "      <td>1.0</td>\n",
       "      <td>1.0</td>\n",
       "      <td>NaN</td>\n",
       "      <td>flat</td>\n",
       "      <td>Roland House, South Kensington SW7</td>\n",
       "      <td>NaN</td>\n",
       "      <td>https://www.zoopla.co.uk/to-rent/details/38482660</td>\n",
       "    </tr>\n",
       "    <tr>\n",
       "      <th>4666</th>\n",
       "      <td>2817.0</td>\n",
       "      <td>2.0</td>\n",
       "      <td>2.0</td>\n",
       "      <td>NaN</td>\n",
       "      <td>flat</td>\n",
       "      <td>William Morris Way, South Kensington SW6</td>\n",
       "      <td>NaN</td>\n",
       "      <td>https://www.zoopla.co.uk/to-rent/details/38029287</td>\n",
       "    </tr>\n",
       "  </tbody>\n",
       "</table>\n",
       "<p>573 rows × 8 columns</p>\n",
       "</div>"
      ],
      "text/plain": [
       "        Rent  Bedrooms  Bathrooms  Receptions Description  \\\n",
       "7     2275.0       2.0        1.0         NaN       house   \n",
       "10    1733.0       2.0        1.0         NaN        flat   \n",
       "25    1500.0       1.0        2.0         NaN        flat   \n",
       "29    3250.0       3.0        1.0         NaN       house   \n",
       "39    1600.0       2.0        1.0         NaN        flat   \n",
       "40    1650.0       2.0        2.0         NaN        flat   \n",
       "41    1500.0       1.0        1.0         NaN        flat   \n",
       "42    1755.0       2.0        1.0         NaN        flat   \n",
       "43    1600.0       2.0        1.0         NaN        flat   \n",
       "61    2384.0       2.0        1.0         NaN        flat   \n",
       "70    1842.0       1.0        1.0         NaN        flat   \n",
       "79    1800.0       2.0        1.0         NaN       house   \n",
       "80    2200.0       3.0        1.0         NaN        flat   \n",
       "112   1625.0       0.0        1.0         NaN        flat   \n",
       "114   1209.0       0.0        1.0         NaN        flat   \n",
       "131   2578.0       2.0        2.0         NaN        flat   \n",
       "132    800.0       3.0        1.0         NaN       house   \n",
       "135   3402.0       2.0        2.0         NaN        flat   \n",
       "137   1027.0       1.0        1.0         NaN       house   \n",
       "139    498.0       0.0        1.0         NaN        flat   \n",
       "141   2475.0       2.0        2.0         NaN        flat   \n",
       "154   1450.0       1.0        1.0         NaN        flat   \n",
       "161   3250.0       2.0        2.0         NaN        flat   \n",
       "174   1800.0       3.0        1.0         NaN        flat   \n",
       "193   2513.0       1.0        1.0         NaN        flat   \n",
       "194   1200.0       0.0        1.0         NaN        flat   \n",
       "213   3142.0       4.0        2.0         NaN    terraced   \n",
       "216   1668.0       2.0        1.0         NaN        flat   \n",
       "227   2708.0       2.0        1.0         NaN        flat   \n",
       "228   2400.0       3.0        1.0         NaN        flat   \n",
       "...      ...       ...        ...         ...         ...   \n",
       "4453  3141.0       2.0        1.0         NaN        flat   \n",
       "4454  3358.0       2.0        2.0         NaN        flat   \n",
       "4485  1100.0       0.0        1.0         NaN        flat   \n",
       "4490  3683.0       2.0        2.0         NaN        flat   \n",
       "4524  1625.0       1.0        1.0         NaN        flat   \n",
       "4544  3500.0       2.0        1.0         NaN        flat   \n",
       "4553  3900.0       2.0        2.0         NaN        flat   \n",
       "4558  2860.0       1.0        1.0         NaN        flat   \n",
       "4559  2518.0       0.0        1.0         NaN        flat   \n",
       "4571  2400.0       4.0        2.0         NaN        flat   \n",
       "4572  3337.0       2.0        2.0         NaN        flat   \n",
       "4578  2491.0       2.0        2.0         NaN        flat   \n",
       "4579  2275.0       1.0        1.0         NaN        flat   \n",
       "4586  3402.0       2.0        2.0         NaN        flat   \n",
       "4595  2253.0       2.0        2.0         NaN        flat   \n",
       "4598  3250.0       1.0        1.0         NaN        flat   \n",
       "4602  3159.0       1.0        1.0         NaN        flat   \n",
       "4603  2430.0       1.0        1.0         NaN        flat   \n",
       "4604  1798.0       1.0        1.0         NaN        flat   \n",
       "4605  1755.0       1.0        1.0         NaN        flat   \n",
       "4606  1798.0       1.0        1.0         NaN        flat   \n",
       "4607  1300.0       0.0        1.0         NaN        flat   \n",
       "4608  1560.0       1.0        1.0         NaN        flat   \n",
       "4610  1625.0       1.0        1.0         NaN        flat   \n",
       "4614  3358.0       2.0        2.0         NaN        flat   \n",
       "4624  3250.0       2.0        2.0         NaN        flat   \n",
       "4626  3250.0       2.0        2.0         NaN        flat   \n",
       "4630  2600.0       1.0        1.0         NaN        flat   \n",
       "4664  1755.0       1.0        1.0         NaN        flat   \n",
       "4666  2817.0       2.0        2.0         NaN        flat   \n",
       "\n",
       "                                               Location  \\\n",
       "7                            Birley Street, London SW11   \n",
       "10                           Mayflower Road, London SW9   \n",
       "25                            Trinity Road, London SW17   \n",
       "29                           Elmfield Road, London SW17   \n",
       "39                          Earsfield Road, London SW18   \n",
       "40                             Brixton Road, London SW9   \n",
       "41                           Eckstein Road, London SW11   \n",
       "42                           Clapham South, London SW12   \n",
       "43                             Brixton Road, London SW9   \n",
       "61               Vauxhall Bridge Road, Westminster SW1V   \n",
       "70                    Octavia House, Fulham, London SW6   \n",
       "79                          Cavendish Road, London SW12   \n",
       "80                            Endlesham Rd, London SW12   \n",
       "112                           Sloane Avenue, London SW3   \n",
       "114                        Kennington Ln, Vauxhall SE11   \n",
       "131   Peabody Estate, Vauxhall Bridge Road, London SW1V   \n",
       "132                                Pimlico, London SW1V   \n",
       "135                             Fulham Road, London SW3   \n",
       "137                          Zachary Court, London SW1P   \n",
       "139                      Trinity Road, Tooting Bec SW17   \n",
       "141                            Hebden Place, London SW8   \n",
       "154                         Station Parade, Balham SW12   \n",
       "161                             Fulham Road, London SW3   \n",
       "174                         Camberwell Road, London SE5   \n",
       "193                          Evelyn Gardens, London SW7   \n",
       "194                           Fernlea Road, London SW12   \n",
       "213                       Allfarthing Lane, London SW18   \n",
       "216                          New Kings Road, London SW6   \n",
       "227                    Churchfield Mansions, London SW6   \n",
       "228                             Laker Court, London SW4   \n",
       "...                                                 ...   \n",
       "4453                           Fulham Road, Chelsea SW3   \n",
       "4454                           Fulham Road, Chelsea SW3   \n",
       "4485                    Clapham High Street, London SW4   \n",
       "4490     St Johns Building, Marsham Street, London SW1P   \n",
       "4524                            Fulham Road, London SW3   \n",
       "4544                 Sloane Avenue, Chelsea, London SW3   \n",
       "4553                             Battersea, London SW11   \n",
       "4558                            Fulham Road, London SW3   \n",
       "4559  Roland House, Old Brompton Road, South Kensing...   \n",
       "4571                               Chelsea, London SW10   \n",
       "4572  Pelham Court, Fulham Road, South Kensington, L...   \n",
       "4578                           Park Street, Chelsea SW6   \n",
       "4579                     Monck Street, Westminster SW1P   \n",
       "4586                            Fulham Road, London SW3   \n",
       "4595                       St. George Wharf, London SW8   \n",
       "4598                          Sloane Avenue, London SW3   \n",
       "4602                  Sloane Street, Knightsbridge SW1X   \n",
       "4603                79 Marsham Street, Westminster SW1P   \n",
       "4604                           Page Street, London SW1P   \n",
       "4605                         X Page Street, London SW1P   \n",
       "4606          36 Rogers House, Page Street, London SW1P   \n",
       "4607    495, Flat 3 Kings Road, Kings Road, London SW10   \n",
       "4608        34 Tintern House, Abbots Manor, London SW1V   \n",
       "4610                            Fulham Road, London SW3   \n",
       "4614                            Fulham Road, London SW3   \n",
       "4624                            Fulham Road, London SW3   \n",
       "4626                            Fulham Road, London SW3   \n",
       "4630                            Fulham Road, London SW3   \n",
       "4664                 Roland House, South Kensington SW7   \n",
       "4666           William Morris Way, South Kensington SW6   \n",
       "\n",
       "                         Available  \\\n",
       "7            Available immediately   \n",
       "10    Available from 16th Feb 2019   \n",
       "25    Available from 17th Mar 2019   \n",
       "29    Available from  2nd Mar 2019   \n",
       "39           Available immediately   \n",
       "40    Available from  5th Apr 2019   \n",
       "41    Available from 16th Feb 2019   \n",
       "42           Available immediately   \n",
       "43    Available from  5th Apr 2019   \n",
       "61                             NaN   \n",
       "70    Available from  2nd Apr 2019   \n",
       "79    Available from  9th Feb 2019   \n",
       "80    Available from  1st Apr 2019   \n",
       "112                            NaN   \n",
       "114          Available immediately   \n",
       "131          Available immediately   \n",
       "132   Available from 20th Feb 2019   \n",
       "135                            NaN   \n",
       "137          Available immediately   \n",
       "139   Available from  1st Mar 2019   \n",
       "141   Available from  9th Feb 2019   \n",
       "154   Available from 31st Mar 2019   \n",
       "161                            NaN   \n",
       "174   Available from 18th Mar 2019   \n",
       "193   Available from  1st Mar 2019   \n",
       "194   Available from 17th Feb 2019   \n",
       "213   Available from 25th Mar 2019   \n",
       "216          Available immediately   \n",
       "227          Available immediately   \n",
       "228   Available from 10th Feb 2019   \n",
       "...                            ...   \n",
       "4453                           NaN   \n",
       "4454                           NaN   \n",
       "4485                           NaN   \n",
       "4490                           NaN   \n",
       "4524                           NaN   \n",
       "4544  Available from 23rd Feb 2019   \n",
       "4553         Available immediately   \n",
       "4558                           NaN   \n",
       "4559                           NaN   \n",
       "4571         Available immediately   \n",
       "4572         Available immediately   \n",
       "4578                           NaN   \n",
       "4579                           NaN   \n",
       "4586                           NaN   \n",
       "4595                           NaN   \n",
       "4598                           NaN   \n",
       "4602                           NaN   \n",
       "4603                           NaN   \n",
       "4604                           NaN   \n",
       "4605                           NaN   \n",
       "4606                           NaN   \n",
       "4607                           NaN   \n",
       "4608                           NaN   \n",
       "4610                           NaN   \n",
       "4614                           NaN   \n",
       "4624                           NaN   \n",
       "4626                           NaN   \n",
       "4630                           NaN   \n",
       "4664                           NaN   \n",
       "4666                           NaN   \n",
       "\n",
       "                                                   Link  \n",
       "7     https://www.zoopla.co.uk/to-rent/details/46845981  \n",
       "10    https://www.zoopla.co.uk/to-rent/details/49447854  \n",
       "25    https://www.zoopla.co.uk/to-rent/details/50404351  \n",
       "29    https://www.zoopla.co.uk/to-rent/details/50403459  \n",
       "39    https://www.zoopla.co.uk/to-rent/details/50402756  \n",
       "40    https://www.zoopla.co.uk/to-rent/details/50402624  \n",
       "41    https://www.zoopla.co.uk/to-rent/details/50402634  \n",
       "42    https://www.zoopla.co.uk/to-rent/details/50402604  \n",
       "43    https://www.zoopla.co.uk/to-rent/details/50402587  \n",
       "61    https://www.zoopla.co.uk/to-rent/details/50401734  \n",
       "70    https://www.zoopla.co.uk/to-rent/details/50401598  \n",
       "79    https://www.zoopla.co.uk/to-rent/details/50401187  \n",
       "80    https://www.zoopla.co.uk/to-rent/details/50401137  \n",
       "112   https://www.zoopla.co.uk/to-rent/details/50398325  \n",
       "114   https://www.zoopla.co.uk/to-rent/details/50398221  \n",
       "131   https://www.zoopla.co.uk/to-rent/details/48423820  \n",
       "132   https://www.zoopla.co.uk/to-rent/details/50397001  \n",
       "135   https://www.zoopla.co.uk/to-rent/details/50396833  \n",
       "137   https://www.zoopla.co.uk/to-rent/details/50396589  \n",
       "139   https://www.zoopla.co.uk/to-rent/details/50396323  \n",
       "141   https://www.zoopla.co.uk/to-rent/details/50396253  \n",
       "154   https://www.zoopla.co.uk/to-rent/details/50395256  \n",
       "161   https://www.zoopla.co.uk/to-rent/details/49147944  \n",
       "174   https://www.zoopla.co.uk/to-rent/details/44489202  \n",
       "193   https://www.zoopla.co.uk/to-rent/details/50390629  \n",
       "194   https://www.zoopla.co.uk/to-rent/details/50390596  \n",
       "213   https://www.zoopla.co.uk/to-rent/details/50389520  \n",
       "216   https://www.zoopla.co.uk/to-rent/details/50389382  \n",
       "227   https://www.zoopla.co.uk/to-rent/details/50387952  \n",
       "228   https://www.zoopla.co.uk/to-rent/details/50387939  \n",
       "...                                                 ...  \n",
       "4453  https://www.zoopla.co.uk/to-rent/details/42410143  \n",
       "4454  https://www.zoopla.co.uk/to-rent/details/42410146  \n",
       "4485  https://www.zoopla.co.uk/to-rent/details/45657393  \n",
       "4490  https://www.zoopla.co.uk/to-rent/details/45500877  \n",
       "4524  https://www.zoopla.co.uk/to-rent/details/45880879  \n",
       "4544  https://www.zoopla.co.uk/to-rent/details/45807799  \n",
       "4553  https://www.zoopla.co.uk/to-rent/details/44316870  \n",
       "4558  https://www.zoopla.co.uk/to-rent/details/45880902  \n",
       "4559  https://www.zoopla.co.uk/to-rent/details/20860449  \n",
       "4571  https://www.zoopla.co.uk/to-rent/details/43518052  \n",
       "4572  https://www.zoopla.co.uk/to-rent/details/43486350  \n",
       "4578  https://www.zoopla.co.uk/to-rent/details/43389516  \n",
       "4579  https://www.zoopla.co.uk/to-rent/details/43384314  \n",
       "4586  https://www.zoopla.co.uk/to-rent/details/45880894  \n",
       "4595  https://www.zoopla.co.uk/to-rent/details/42675314  \n",
       "4598  https://www.zoopla.co.uk/to-rent/details/42564858  \n",
       "4602  https://www.zoopla.co.uk/to-rent/details/42369636  \n",
       "4603  https://www.zoopla.co.uk/to-rent/details/42369611  \n",
       "4604  https://www.zoopla.co.uk/to-rent/details/42188680  \n",
       "4605  https://www.zoopla.co.uk/to-rent/details/42087686  \n",
       "4606  https://www.zoopla.co.uk/to-rent/details/42109871  \n",
       "4607  https://www.zoopla.co.uk/to-rent/details/42109861  \n",
       "4608  https://www.zoopla.co.uk/to-rent/details/42109860  \n",
       "4610  https://www.zoopla.co.uk/to-rent/details/45880871  \n",
       "4614  https://www.zoopla.co.uk/to-rent/details/45880895  \n",
       "4624  https://www.zoopla.co.uk/to-rent/details/45880913  \n",
       "4626  https://www.zoopla.co.uk/to-rent/details/45880916  \n",
       "4630  https://www.zoopla.co.uk/to-rent/details/45880910  \n",
       "4664  https://www.zoopla.co.uk/to-rent/details/38482660  \n",
       "4666  https://www.zoopla.co.uk/to-rent/details/38029287  \n",
       "\n",
       "[573 rows x 8 columns]"
      ]
     },
     "execution_count": 254,
     "metadata": {},
     "output_type": "execute_result"
    }
   ],
   "source": [
    "df[df.Receptions.isna()]"
   ]
  },
  {
   "cell_type": "code",
   "execution_count": 255,
   "metadata": {
    "scrolled": false
   },
   "outputs": [
    {
     "data": {
      "text/plain": [
       "Bedrooms  Bathrooms\n",
       "0.0       1.0          1718.783270\n",
       "1.0       1.0          2153.564831\n",
       "          2.0          2001.285714\n",
       "          3.0          1187.500000\n",
       "2.0       1.0          2561.041975\n",
       "          2.0          3179.940185\n",
       "          3.0          2898.000000\n",
       "3.0       1.0          2457.874016\n",
       "          2.0          3439.050691\n",
       "          3.0          3774.951220\n",
       "4.0       1.0          2522.125000\n",
       "          2.0          3417.115942\n",
       "          3.0          4156.416667\n",
       "          4.0          4037.333333\n",
       "5.0       1.0           650.000000\n",
       "          2.0          4073.705882\n",
       "          3.0          3994.600000\n",
       "Name: Rent, dtype: float64"
      ]
     },
     "execution_count": 255,
     "metadata": {},
     "output_type": "execute_result"
    }
   ],
   "source": [
    "df.groupby(['Bedrooms', 'Bathrooms'])['Rent'].mean()"
   ]
  },
  {
   "cell_type": "code",
   "execution_count": 265,
   "metadata": {
    "scrolled": true
   },
   "outputs": [
    {
     "data": {
      "image/png": "[encoded data removed]",
      "text/plain": [
       "<Figure size 1080x360 with 1 Axes>"
      ]
     },
     "metadata": {},
     "output_type": "display_data"
    }
   ],
   "source": [
    "plt.figure(figsize=(15,5))\n",
    "sns.boxplot(x='Bedrooms', y='Rent', hue='Bathrooms', data=df, palette='pastel')\n",
    "plt.title('Number of bedrooms and bathrooms vs Rent');"
   ]
  },
  {
   "cell_type": "markdown",
   "metadata": {},
   "source": [
    "### Higher number of bathrooms doesn't always mean higher rent - places with 2 bedrooms and 3 bathrooms are, on average, cheaper than places with 2 bathrooms."
   ]
  },
  {
   "cell_type": "markdown",
   "metadata": {},
   "source": [
    "### How number of receptions influences the rent price"
   ]
  },
  {
   "cell_type": "code",
   "execution_count": 264,
   "metadata": {
    "scrolled": true
   },
   "outputs": [
    {
     "data": {
      "image/png": "[encoded data removed]",
      "text/plain": [
       "<Figure size 720x360 with 1 Axes>"
      ]
     },
     "metadata": {},
     "output_type": "display_data"
    }
   ],
   "source": [
    "plt.figure(figsize=(10,5))\n",
    "sns.boxplot(x='Receptions', y='Rent',data=df, palette='pastel')\n",
    "plt.title('Number of receptions vs Rent');"
   ]
  },
  {
   "cell_type": "markdown",
   "metadata": {},
   "source": [
    "## Best way would be to fill the missing values with means for specific number of bedrooms - can't figure out how."
   ]
  },
  {
   "cell_type": "code",
   "execution_count": 267,
   "metadata": {},
   "outputs": [],
   "source": [
    "from sklearn.linear_model import LinearRegression"
   ]
  },
  {
   "cell_type": "code",
   "execution_count": 268,
   "metadata": {},
   "outputs": [],
   "source": [
    "lr = LinearRegression()"
   ]
  },
  {
   "cell_type": "code",
   "execution_count": 269,
   "metadata": {},
   "outputs": [],
   "source": [
    "from sklearn.model_selection import train_test_split"
   ]
  },
  {
   "cell_type": "code",
   "execution_count": 270,
   "metadata": {},
   "outputs": [
    {
     "data": {
      "text/plain": [
       "Index(['Rent', 'Bedrooms', 'Bathrooms', 'Receptions', 'Description',\n",
       "       'Location', 'Available', 'Link'],\n",
       "      dtype='object')"
      ]
     },
     "execution_count": 270,
     "metadata": {},
     "output_type": "execute_result"
    }
   ],
   "source": [
    "df.columns"
   ]
  },
  {
   "cell_type": "code",
   "execution_count": 271,
   "metadata": {},
   "outputs": [],
   "source": [
    "X = df[['Bedrooms', 'Bathrooms']]\n",
    "y=df['Rent']\n",
    "X_train, X_test, y_train, y_test = train_test_split(X, y, test_size=0.3, random_state=42)"
   ]
  },
  {
   "cell_type": "code",
   "execution_count": 272,
   "metadata": {},
   "outputs": [
    {
     "data": {
      "text/plain": [
       "LinearRegression(copy_X=True, fit_intercept=True, n_jobs=None,\n",
       "         normalize=False)"
      ]
     },
     "execution_count": 272,
     "metadata": {},
     "output_type": "execute_result"
    }
   ],
   "source": [
    "lr.fit(X_train, y_train)"
   ]
  },
  {
   "cell_type": "code",
   "execution_count": 273,
   "metadata": {},
   "outputs": [],
   "source": [
    "predict = lr.predict(X_test)"
   ]
  },
  {
   "cell_type": "code",
   "execution_count": 274,
   "metadata": {},
   "outputs": [],
   "source": [
    "from sklearn.metrics import classification_report"
   ]
  },
  {
   "cell_type": "code",
   "execution_count": 275,
   "metadata": {
    "scrolled": true
   },
   "outputs": [
    {
     "data": {
      "text/plain": [
       "array([296.87412408, 648.8499204 ])"
      ]
     },
     "execution_count": 275,
     "metadata": {},
     "output_type": "execute_result"
    }
   ],
   "source": [
    "lr.coef_"
   ]
  },
  {
   "cell_type": "code",
   "execution_count": 276,
   "metadata": {},
   "outputs": [
    {
     "data": {
      "text/plain": [
       "<matplotlib.axes._subplots.AxesSubplot at 0x1a1d5f8a20>"
      ]
     },
     "execution_count": 276,
     "metadata": {},
     "output_type": "execute_result"
    },
    {
     "data": {
      "image/png": "[encoded data removed]",
      "text/plain": [
       "<Figure size 432x288 with 1 Axes>"
      ]
     },
     "metadata": {},
     "output_type": "display_data"
    }
   ],
   "source": [
    "sns.scatterplot(y_test, predict)"
   ]
  },
  {
   "cell_type": "code",
   "execution_count": 277,
   "metadata": {},
   "outputs": [
    {
     "data": {
      "text/plain": [
       "614.6155736010444"
      ]
     },
     "execution_count": 277,
     "metadata": {},
     "output_type": "execute_result"
    }
   ],
   "source": [
    "#Mean Absolute Error\n",
    "from sklearn.metrics import mean_absolute_error\n",
    "mean_absolute_error(y_test, predict)"
   ]
  },
  {
   "cell_type": "code",
   "execution_count": 278,
   "metadata": {},
   "outputs": [
    {
     "data": {
      "text/plain": [
       "595976.6333091635"
      ]
     },
     "execution_count": 278,
     "metadata": {},
     "output_type": "execute_result"
    }
   ],
   "source": [
    "#Mean Squared Error\n",
    "from sklearn.metrics import mean_squared_error\n",
    "mean_squared_error(y_test, predict)"
   ]
  },
  {
   "cell_type": "code",
   "execution_count": 279,
   "metadata": {},
   "outputs": [
    {
     "data": {
      "text/plain": [
       "771.9952288124348"
      ]
     },
     "execution_count": 279,
     "metadata": {},
     "output_type": "execute_result"
    }
   ],
   "source": [
    "#Root Mean Squared Error\n",
    "np.sqrt(mean_squared_error(y_test, predict))"
   ]
  },
  {
   "cell_type": "code",
   "execution_count": 280,
   "metadata": {},
   "outputs": [
    {
     "data": {
      "text/plain": [
       "<matplotlib.axes._subplots.AxesSubplot at 0x1a1d6af908>"
      ]
     },
     "execution_count": 280,
     "metadata": {},
     "output_type": "execute_result"
    },
    {
     "data": {
      "image/png": "[encoded data removed]",
      "text/plain": [
       "<Figure size 432x288 with 1 Axes>"
      ]
     },
     "metadata": {},
     "output_type": "display_data"
    }
   ],
   "source": [
    "sns.distplot(y_test - predict, bins=40, kde=False)"
   ]
  },
  {
   "cell_type": "code",
   "execution_count": 281,
   "metadata": {},
   "outputs": [
    {
     "data": {
      "text/html": [
       "<div>\n",
       "<style scoped>\n",
       "    .dataframe tbody tr th:only-of-type {\n",
       "        vertical-align: middle;\n",
       "    }\n",
       "\n",
       "    .dataframe tbody tr th {\n",
       "        vertical-align: top;\n",
       "    }\n",
       "\n",
       "    .dataframe thead th {\n",
       "        text-align: right;\n",
       "    }\n",
       "</style>\n",
       "<table border=\"1\" class=\"dataframe\">\n",
       "  <thead>\n",
       "    <tr style=\"text-align: right;\">\n",
       "      <th></th>\n",
       "      <th>Coefficient</th>\n",
       "    </tr>\n",
       "  </thead>\n",
       "  <tbody>\n",
       "    <tr>\n",
       "      <th>Bedrooms</th>\n",
       "      <td>296.874124</td>\n",
       "    </tr>\n",
       "    <tr>\n",
       "      <th>Bathrooms</th>\n",
       "      <td>648.849920</td>\n",
       "    </tr>\n",
       "  </tbody>\n",
       "</table>\n",
       "</div>"
      ],
      "text/plain": [
       "           Coefficient\n",
       "Bedrooms    296.874124\n",
       "Bathrooms   648.849920"
      ]
     },
     "execution_count": 281,
     "metadata": {},
     "output_type": "execute_result"
    }
   ],
   "source": [
    "pd.DataFrame(lr.coef_, X.columns, columns=['Coefficient'])"
   ]
  },
  {
   "cell_type": "markdown",
   "metadata": {},
   "source": [
    "## To do: \n",
    "- check other areas, compare them\n"
   ]
  },
  {
   "cell_type": "code",
   "execution_count": null,
   "metadata": {},
   "outputs": [],
   "source": []
  }
 ],
 "metadata": {
  "kernelspec": {
   "display_name": "Python 3",
   "language": "python",
   "name": "python3"
  },
  "language_info": {
   "codemirror_mode": {
    "name": "ipython",
    "version": 3
   },
   "file_extension": ".py",
   "mimetype": "text/x-python",
   "name": "python",
   "nbconvert_exporter": "python",
   "pygments_lexer": "ipython3",
   "version": "3.7.2"
  }
 },
 "nbformat": 4,
 "nbformat_minor": 2
}
