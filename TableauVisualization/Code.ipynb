{
 "cells": [
  {
   "cell_type": "markdown",
   "metadata": {},
   "source": [
    "# Following code was used to explore and clean datasets used for data visualization in Tableau"
   ]
  },
  {
   "cell_type": "code",
   "execution_count": 3,
   "metadata": {},
   "outputs": [],
   "source": [
    "#Importing libraries\n",
    "import pandas as pd\n",
    "import matplotlib as plt\n",
    "%matplotlib inline"
   ]
  },
  {
   "cell_type": "markdown",
   "metadata": {},
   "source": [
    "# Global hunger\n",
    "\n",
    "Data was downloaded from https://datasource.kapsarc.org/explore/dataset/global-hunger-index-2015/information/?disjunctive.country&disjunctive.indicator"
   ]
  },
  {
   "cell_type": "code",
   "execution_count": 5,
   "metadata": {},
   "outputs": [],
   "source": [
    "df = pd.read_csv('global-hunger-index-2015.csv', sep=';')"
   ]
  },
  {
   "cell_type": "code",
   "execution_count": 6,
   "metadata": {},
   "outputs": [
    {
     "data": {
      "text/html": [
       "<div>\n",
       "<style scoped>\n",
       "    .dataframe tbody tr th:only-of-type {\n",
       "        vertical-align: middle;\n",
       "    }\n",
       "\n",
       "    .dataframe tbody tr th {\n",
       "        vertical-align: top;\n",
       "    }\n",
       "\n",
       "    .dataframe thead th {\n",
       "        text-align: right;\n",
       "    }\n",
       "</style>\n",
       "<table border=\"1\" class=\"dataframe\">\n",
       "  <thead>\n",
       "    <tr style=\"text-align: right;\">\n",
       "      <th></th>\n",
       "      <th>Year</th>\n",
       "      <th>COUNTRY</th>\n",
       "      <th>INDICATOR</th>\n",
       "      <th>FREQ</th>\n",
       "      <th>OBS_VALUE</th>\n",
       "      <th>UNIT_MULT</th>\n",
       "      <th>TIME_FORMAT</th>\n",
       "      <th>UNIT_MEASURE</th>\n",
       "    </tr>\n",
       "  </thead>\n",
       "  <tbody>\n",
       "    <tr>\n",
       "      <th>0</th>\n",
       "      <td>2008</td>\n",
       "      <td>Burkina Faso</td>\n",
       "      <td>Global Hunger Index Scores</td>\n",
       "      <td>Annual</td>\n",
       "      <td>37.1</td>\n",
       "      <td>Units</td>\n",
       "      <td>Annual</td>\n",
       "      <td>Index, 0=No hunger , 100=worst hunger</td>\n",
       "    </tr>\n",
       "    <tr>\n",
       "      <th>1</th>\n",
       "      <td>2016</td>\n",
       "      <td>Burkina Faso</td>\n",
       "      <td>Global Hunger Index Scores</td>\n",
       "      <td>Annual</td>\n",
       "      <td>31.0</td>\n",
       "      <td>Units</td>\n",
       "      <td>Annual</td>\n",
       "      <td>Index, 0=No hunger , 100=worst hunger</td>\n",
       "    </tr>\n",
       "    <tr>\n",
       "      <th>2</th>\n",
       "      <td>2000</td>\n",
       "      <td>Chad</td>\n",
       "      <td>Global Hunger Index Scores</td>\n",
       "      <td>Annual</td>\n",
       "      <td>51.9</td>\n",
       "      <td>Units</td>\n",
       "      <td>Annual</td>\n",
       "      <td>Index, 0=No hunger , 100=worst hunger</td>\n",
       "    </tr>\n",
       "    <tr>\n",
       "      <th>3</th>\n",
       "      <td>2005</td>\n",
       "      <td>Chad</td>\n",
       "      <td>Global Hunger Index Scores</td>\n",
       "      <td>Annual</td>\n",
       "      <td>53.1</td>\n",
       "      <td>Units</td>\n",
       "      <td>Annual</td>\n",
       "      <td>Index, 0=No hunger , 100=worst hunger</td>\n",
       "    </tr>\n",
       "    <tr>\n",
       "      <th>4</th>\n",
       "      <td>1994</td>\n",
       "      <td>Bolivia</td>\n",
       "      <td>Prevalence of Wasting in Children Under Five Y...</td>\n",
       "      <td>Annual</td>\n",
       "      <td>3.6</td>\n",
       "      <td>Units</td>\n",
       "      <td>Annual</td>\n",
       "      <td>%</td>\n",
       "    </tr>\n",
       "  </tbody>\n",
       "</table>\n",
       "</div>"
      ],
      "text/plain": [
       "   Year       COUNTRY                                          INDICATOR  \\\n",
       "0  2008  Burkina Faso                         Global Hunger Index Scores   \n",
       "1  2016  Burkina Faso                         Global Hunger Index Scores   \n",
       "2  2000          Chad                         Global Hunger Index Scores   \n",
       "3  2005          Chad                         Global Hunger Index Scores   \n",
       "4  1994       Bolivia  Prevalence of Wasting in Children Under Five Y...   \n",
       "\n",
       "     FREQ  OBS_VALUE UNIT_MULT TIME_FORMAT  \\\n",
       "0  Annual       37.1     Units      Annual   \n",
       "1  Annual       31.0     Units      Annual   \n",
       "2  Annual       51.9     Units      Annual   \n",
       "3  Annual       53.1     Units      Annual   \n",
       "4  Annual        3.6     Units      Annual   \n",
       "\n",
       "                            UNIT_MEASURE  \n",
       "0  Index, 0=No hunger , 100=worst hunger  \n",
       "1  Index, 0=No hunger , 100=worst hunger  \n",
       "2  Index, 0=No hunger , 100=worst hunger  \n",
       "3  Index, 0=No hunger , 100=worst hunger  \n",
       "4                                      %  "
      ]
     },
     "execution_count": 6,
     "metadata": {},
     "output_type": "execute_result"
    }
   ],
   "source": [
    "df.head()"
   ]
  },
  {
   "cell_type": "code",
   "execution_count": 7,
   "metadata": {},
   "outputs": [
    {
     "data": {
      "text/plain": [
       "Annual    4650\n",
       "Name: TIME_FORMAT, dtype: int64"
      ]
     },
     "execution_count": 7,
     "metadata": {},
     "output_type": "execute_result"
    }
   ],
   "source": [
    "df['TIME_FORMAT'].value_counts()"
   ]
  },
  {
   "cell_type": "code",
   "execution_count": 8,
   "metadata": {},
   "outputs": [
    {
     "data": {
      "text/plain": [
       "Units    4650\n",
       "Name: UNIT_MULT, dtype: int64"
      ]
     },
     "execution_count": 8,
     "metadata": {},
     "output_type": "execute_result"
    }
   ],
   "source": [
    "df['UNIT_MULT'].value_counts()"
   ]
  },
  {
   "cell_type": "code",
   "execution_count": 9,
   "metadata": {},
   "outputs": [
    {
     "data": {
      "text/plain": [
       "Annual    4650\n",
       "Name: FREQ, dtype: int64"
      ]
     },
     "execution_count": 9,
     "metadata": {},
     "output_type": "execute_result"
    }
   ],
   "source": [
    "df['FREQ'].value_counts()"
   ]
  },
  {
   "cell_type": "markdown",
   "metadata": {},
   "source": [
    "As all values are given in an annual format and unit_mult column only contains 'Units', these columns aren't needed. Let's drop them. Column FREQ has the same value 'Annual' so isn't needed either."
   ]
  },
  {
   "cell_type": "code",
   "execution_count": 10,
   "metadata": {},
   "outputs": [],
   "source": [
    "df.drop(['TIME_FORMAT','UNIT_MULT','FREQ'], axis=1, inplace=True)"
   ]
  },
  {
   "cell_type": "code",
   "execution_count": 8,
   "metadata": {},
   "outputs": [],
   "source": [
    "df.drop(['FREQ'], axis=1, inplace=True)"
   ]
  },
  {
   "cell_type": "code",
   "execution_count": 11,
   "metadata": {},
   "outputs": [
    {
     "data": {
      "text/html": [
       "<div>\n",
       "<style scoped>\n",
       "    .dataframe tbody tr th:only-of-type {\n",
       "        vertical-align: middle;\n",
       "    }\n",
       "\n",
       "    .dataframe tbody tr th {\n",
       "        vertical-align: top;\n",
       "    }\n",
       "\n",
       "    .dataframe thead th {\n",
       "        text-align: right;\n",
       "    }\n",
       "</style>\n",
       "<table border=\"1\" class=\"dataframe\">\n",
       "  <thead>\n",
       "    <tr style=\"text-align: right;\">\n",
       "      <th></th>\n",
       "      <th>Year</th>\n",
       "      <th>COUNTRY</th>\n",
       "      <th>INDICATOR</th>\n",
       "      <th>OBS_VALUE</th>\n",
       "      <th>UNIT_MEASURE</th>\n",
       "    </tr>\n",
       "  </thead>\n",
       "  <tbody>\n",
       "    <tr>\n",
       "      <th>0</th>\n",
       "      <td>2008</td>\n",
       "      <td>Burkina Faso</td>\n",
       "      <td>Global Hunger Index Scores</td>\n",
       "      <td>37.1</td>\n",
       "      <td>Index, 0=No hunger , 100=worst hunger</td>\n",
       "    </tr>\n",
       "    <tr>\n",
       "      <th>1</th>\n",
       "      <td>2016</td>\n",
       "      <td>Burkina Faso</td>\n",
       "      <td>Global Hunger Index Scores</td>\n",
       "      <td>31.0</td>\n",
       "      <td>Index, 0=No hunger , 100=worst hunger</td>\n",
       "    </tr>\n",
       "    <tr>\n",
       "      <th>2</th>\n",
       "      <td>2000</td>\n",
       "      <td>Chad</td>\n",
       "      <td>Global Hunger Index Scores</td>\n",
       "      <td>51.9</td>\n",
       "      <td>Index, 0=No hunger , 100=worst hunger</td>\n",
       "    </tr>\n",
       "    <tr>\n",
       "      <th>3</th>\n",
       "      <td>2005</td>\n",
       "      <td>Chad</td>\n",
       "      <td>Global Hunger Index Scores</td>\n",
       "      <td>53.1</td>\n",
       "      <td>Index, 0=No hunger , 100=worst hunger</td>\n",
       "    </tr>\n",
       "    <tr>\n",
       "      <th>4</th>\n",
       "      <td>1994</td>\n",
       "      <td>Bolivia</td>\n",
       "      <td>Prevalence of Wasting in Children Under Five Y...</td>\n",
       "      <td>3.6</td>\n",
       "      <td>%</td>\n",
       "    </tr>\n",
       "  </tbody>\n",
       "</table>\n",
       "</div>"
      ],
      "text/plain": [
       "   Year       COUNTRY                                          INDICATOR  \\\n",
       "0  2008  Burkina Faso                         Global Hunger Index Scores   \n",
       "1  2016  Burkina Faso                         Global Hunger Index Scores   \n",
       "2  2000          Chad                         Global Hunger Index Scores   \n",
       "3  2005          Chad                         Global Hunger Index Scores   \n",
       "4  1994       Bolivia  Prevalence of Wasting in Children Under Five Y...   \n",
       "\n",
       "   OBS_VALUE                           UNIT_MEASURE  \n",
       "0       37.1  Index, 0=No hunger , 100=worst hunger  \n",
       "1       31.0  Index, 0=No hunger , 100=worst hunger  \n",
       "2       51.9  Index, 0=No hunger , 100=worst hunger  \n",
       "3       53.1  Index, 0=No hunger , 100=worst hunger  \n",
       "4        3.6                                      %  "
      ]
     },
     "execution_count": 11,
     "metadata": {},
     "output_type": "execute_result"
    }
   ],
   "source": [
    "df.head()"
   ]
  },
  {
   "cell_type": "code",
   "execution_count": 12,
   "metadata": {},
   "outputs": [
    {
     "name": "stdout",
     "output_type": "stream",
     "text": [
      "<class 'pandas.core.frame.DataFrame'>\n",
      "RangeIndex: 4650 entries, 0 to 4649\n",
      "Data columns (total 5 columns):\n",
      "Year            4650 non-null int64\n",
      "COUNTRY         4650 non-null object\n",
      "INDICATOR       4650 non-null object\n",
      "OBS_VALUE       4650 non-null float64\n",
      "UNIT_MEASURE    4650 non-null object\n",
      "dtypes: float64(1), int64(1), object(3)\n",
      "memory usage: 181.7+ KB\n"
     ]
    }
   ],
   "source": [
    "df.info()"
   ]
  },
  {
   "cell_type": "markdown",
   "metadata": {},
   "source": [
    "Year column should be represented as as a datetime object"
   ]
  },
  {
   "cell_type": "code",
   "execution_count": 13,
   "metadata": {},
   "outputs": [],
   "source": [
    "df['Year'] = pd.to_datetime(df['Year'], format='%Y')"
   ]
  },
  {
   "cell_type": "code",
   "execution_count": 14,
   "metadata": {},
   "outputs": [
    {
     "data": {
      "text/html": [
       "<div>\n",
       "<style scoped>\n",
       "    .dataframe tbody tr th:only-of-type {\n",
       "        vertical-align: middle;\n",
       "    }\n",
       "\n",
       "    .dataframe tbody tr th {\n",
       "        vertical-align: top;\n",
       "    }\n",
       "\n",
       "    .dataframe thead th {\n",
       "        text-align: right;\n",
       "    }\n",
       "</style>\n",
       "<table border=\"1\" class=\"dataframe\">\n",
       "  <thead>\n",
       "    <tr style=\"text-align: right;\">\n",
       "      <th></th>\n",
       "      <th>Year</th>\n",
       "      <th>COUNTRY</th>\n",
       "      <th>INDICATOR</th>\n",
       "      <th>OBS_VALUE</th>\n",
       "      <th>UNIT_MEASURE</th>\n",
       "    </tr>\n",
       "  </thead>\n",
       "  <tbody>\n",
       "    <tr>\n",
       "      <th>0</th>\n",
       "      <td>2008-01-01</td>\n",
       "      <td>Burkina Faso</td>\n",
       "      <td>Global Hunger Index Scores</td>\n",
       "      <td>37.1</td>\n",
       "      <td>Index, 0=No hunger , 100=worst hunger</td>\n",
       "    </tr>\n",
       "    <tr>\n",
       "      <th>1</th>\n",
       "      <td>2016-01-01</td>\n",
       "      <td>Burkina Faso</td>\n",
       "      <td>Global Hunger Index Scores</td>\n",
       "      <td>31.0</td>\n",
       "      <td>Index, 0=No hunger , 100=worst hunger</td>\n",
       "    </tr>\n",
       "    <tr>\n",
       "      <th>2</th>\n",
       "      <td>2000-01-01</td>\n",
       "      <td>Chad</td>\n",
       "      <td>Global Hunger Index Scores</td>\n",
       "      <td>51.9</td>\n",
       "      <td>Index, 0=No hunger , 100=worst hunger</td>\n",
       "    </tr>\n",
       "    <tr>\n",
       "      <th>3</th>\n",
       "      <td>2005-01-01</td>\n",
       "      <td>Chad</td>\n",
       "      <td>Global Hunger Index Scores</td>\n",
       "      <td>53.1</td>\n",
       "      <td>Index, 0=No hunger , 100=worst hunger</td>\n",
       "    </tr>\n",
       "    <tr>\n",
       "      <th>4</th>\n",
       "      <td>1994-01-01</td>\n",
       "      <td>Bolivia</td>\n",
       "      <td>Prevalence of Wasting in Children Under Five Y...</td>\n",
       "      <td>3.6</td>\n",
       "      <td>%</td>\n",
       "    </tr>\n",
       "  </tbody>\n",
       "</table>\n",
       "</div>"
      ],
      "text/plain": [
       "        Year       COUNTRY                                          INDICATOR  \\\n",
       "0 2008-01-01  Burkina Faso                         Global Hunger Index Scores   \n",
       "1 2016-01-01  Burkina Faso                         Global Hunger Index Scores   \n",
       "2 2000-01-01          Chad                         Global Hunger Index Scores   \n",
       "3 2005-01-01          Chad                         Global Hunger Index Scores   \n",
       "4 1994-01-01       Bolivia  Prevalence of Wasting in Children Under Five Y...   \n",
       "\n",
       "   OBS_VALUE                           UNIT_MEASURE  \n",
       "0       37.1  Index, 0=No hunger , 100=worst hunger  \n",
       "1       31.0  Index, 0=No hunger , 100=worst hunger  \n",
       "2       51.9  Index, 0=No hunger , 100=worst hunger  \n",
       "3       53.1  Index, 0=No hunger , 100=worst hunger  \n",
       "4        3.6                                      %  "
      ]
     },
     "execution_count": 14,
     "metadata": {},
     "output_type": "execute_result"
    }
   ],
   "source": [
    "df.head()"
   ]
  },
  {
   "cell_type": "code",
   "execution_count": 15,
   "metadata": {},
   "outputs": [
    {
     "data": {
      "text/plain": [
       "Under-five Mortality  Rate(%)                              999\n",
       "Prevalence of Wasting in Children Under Five Years(%)      993\n",
       "Prevalence of Stunting in Children Under Five Years (%)    993\n",
       "Global Hunger Index Scores                                 891\n",
       "Proportion of Undernourished in the Population (%)         774\n",
       "Name: INDICATOR, dtype: int64"
      ]
     },
     "execution_count": 15,
     "metadata": {},
     "output_type": "execute_result"
    }
   ],
   "source": [
    "df['INDICATOR'].value_counts()"
   ]
  },
  {
   "cell_type": "code",
   "execution_count": 17,
   "metadata": {},
   "outputs": [
    {
     "data": {
      "text/plain": [
       "COUNTRY        INDICATOR                                              \n",
       "Afghanistan    Global Hunger Index Scores                                 8\n",
       "               Prevalence of Stunting in Children Under Five Years (%)    8\n",
       "               Prevalence of Wasting in Children Under Five Years(%)      8\n",
       "               Under-five Mortality  Rate(%)                              8\n",
       "               Proportion of Undernourished in the Population (%)         7\n",
       "Albania        Global Hunger Index Scores                                 8\n",
       "               Prevalence of Stunting in Children Under Five Years (%)    8\n",
       "               Prevalence of Wasting in Children Under Five Years(%)      8\n",
       "               Under-five Mortality  Rate(%)                              8\n",
       "               Proportion of Undernourished in the Population (%)         7\n",
       "Algeria        Global Hunger Index Scores                                 8\n",
       "               Prevalence of Stunting in Children Under Five Years (%)    8\n",
       "               Prevalence of Wasting in Children Under Five Years(%)      8\n",
       "               Under-five Mortality  Rate(%)                              8\n",
       "               Proportion of Undernourished in the Population (%)         7\n",
       "Angola         Global Hunger Index Scores                                 8\n",
       "               Prevalence of Stunting in Children Under Five Years (%)    8\n",
       "               Prevalence of Wasting in Children Under Five Years(%)      8\n",
       "               Under-five Mortality  Rate(%)                              8\n",
       "               Proportion of Undernourished in the Population (%)         7\n",
       "Argentina      Global Hunger Index Scores                                 8\n",
       "               Prevalence of Stunting in Children Under Five Years (%)    8\n",
       "               Prevalence of Wasting in Children Under Five Years(%)      8\n",
       "               Under-five Mortality  Rate(%)                              8\n",
       "               Proportion of Undernourished in the Population (%)         7\n",
       "Armenia        Prevalence of Stunting in Children Under Five Years (%)    7\n",
       "               Prevalence of Wasting in Children Under Five Years(%)      7\n",
       "               Under-five Mortality  Rate(%)                              7\n",
       "               Global Hunger Index Scores                                 6\n",
       "               Proportion of Undernourished in the Population (%)         5\n",
       "                                                                         ..\n",
       "Uzbekistan     Prevalence of Stunting in Children Under Five Years (%)    7\n",
       "               Prevalence of Wasting in Children Under Five Years(%)      7\n",
       "               Under-five Mortality  Rate(%)                              7\n",
       "               Global Hunger Index Scores                                 6\n",
       "               Proportion of Undernourished in the Population (%)         5\n",
       "Venezuela, RB  Global Hunger Index Scores                                 8\n",
       "               Prevalence of Stunting in Children Under Five Years (%)    8\n",
       "               Prevalence of Wasting in Children Under Five Years(%)      8\n",
       "               Under-five Mortality  Rate(%)                              8\n",
       "               Proportion of Undernourished in the Population (%)         7\n",
       "Vietnam        Global Hunger Index Scores                                 8\n",
       "               Prevalence of Stunting in Children Under Five Years (%)    8\n",
       "               Prevalence of Wasting in Children Under Five Years(%)      8\n",
       "               Under-five Mortality  Rate(%)                              8\n",
       "               Proportion of Undernourished in the Population (%)         7\n",
       "Yemen, Rep.    Global Hunger Index Scores                                 8\n",
       "               Prevalence of Stunting in Children Under Five Years (%)    8\n",
       "               Prevalence of Wasting in Children Under Five Years(%)      8\n",
       "               Under-five Mortality  Rate(%)                              8\n",
       "               Proportion of Undernourished in the Population (%)         7\n",
       "Zambia         Global Hunger Index Scores                                 8\n",
       "               Prevalence of Stunting in Children Under Five Years (%)    8\n",
       "               Prevalence of Wasting in Children Under Five Years(%)      8\n",
       "               Under-five Mortality  Rate(%)                              8\n",
       "               Proportion of Undernourished in the Population (%)         7\n",
       "Zimbabwe       Global Hunger Index Scores                                 8\n",
       "               Prevalence of Stunting in Children Under Five Years (%)    8\n",
       "               Prevalence of Wasting in Children Under Five Years(%)      8\n",
       "               Under-five Mortality  Rate(%)                              8\n",
       "               Proportion of Undernourished in the Population (%)         7\n",
       "Name: INDICATOR, Length: 629, dtype: int64"
      ]
     },
     "execution_count": 17,
     "metadata": {},
     "output_type": "execute_result"
    }
   ],
   "source": [
    "df.groupby(['COUNTRY'])['INDICATOR'].value_counts()"
   ]
  },
  {
   "cell_type": "markdown",
   "metadata": {},
   "source": [
    "There are a lot of indicators, but our interest is in the Global Hunger Index. Let's create a seperate dataset and save it to work with it in Tableau."
   ]
  },
  {
   "cell_type": "code",
   "execution_count": 18,
   "metadata": {},
   "outputs": [],
   "source": [
    "gl_hunger = df.query('INDICATOR==\"Global Hunger Index Scores\"')"
   ]
  },
  {
   "cell_type": "markdown",
   "metadata": {},
   "source": [
    "Let's sort the dataset by Year."
   ]
  },
  {
   "cell_type": "code",
   "execution_count": 19,
   "metadata": {},
   "outputs": [
    {
     "name": "stderr",
     "output_type": "stream",
     "text": [
      "/Users/jankierzyk/anaconda3/lib/python3.7/site-packages/ipykernel_launcher.py:1: SettingWithCopyWarning: \n",
      "A value is trying to be set on a copy of a slice from a DataFrame\n",
      "\n",
      "See the caveats in the documentation: http://pandas.pydata.org/pandas-docs/stable/indexing.html#indexing-view-versus-copy\n",
      "  \"\"\"Entry point for launching an IPython kernel.\n"
     ]
    }
   ],
   "source": [
    "gl_hunger.sort_values(['Year'], inplace=True)"
   ]
  },
  {
   "cell_type": "code",
   "execution_count": 20,
   "metadata": {},
   "outputs": [],
   "source": [
    "gl_hunger.reset_index(drop=True, inplace=True)"
   ]
  },
  {
   "cell_type": "code",
   "execution_count": 21,
   "metadata": {},
   "outputs": [
    {
     "data": {
      "text/html": [
       "<div>\n",
       "<style scoped>\n",
       "    .dataframe tbody tr th:only-of-type {\n",
       "        vertical-align: middle;\n",
       "    }\n",
       "\n",
       "    .dataframe tbody tr th {\n",
       "        vertical-align: top;\n",
       "    }\n",
       "\n",
       "    .dataframe thead th {\n",
       "        text-align: right;\n",
       "    }\n",
       "</style>\n",
       "<table border=\"1\" class=\"dataframe\">\n",
       "  <thead>\n",
       "    <tr style=\"text-align: right;\">\n",
       "      <th></th>\n",
       "      <th>Year</th>\n",
       "      <th>COUNTRY</th>\n",
       "      <th>INDICATOR</th>\n",
       "      <th>OBS_VALUE</th>\n",
       "      <th>UNIT_MEASURE</th>\n",
       "    </tr>\n",
       "  </thead>\n",
       "  <tbody>\n",
       "    <tr>\n",
       "      <th>0</th>\n",
       "      <td>1990-01-01</td>\n",
       "      <td>Turkey</td>\n",
       "      <td>Global Hunger Index Scores</td>\n",
       "      <td>14.5</td>\n",
       "      <td>Index, 0=No hunger , 100=worst hunger</td>\n",
       "    </tr>\n",
       "    <tr>\n",
       "      <th>1</th>\n",
       "      <td>1990-01-01</td>\n",
       "      <td>Paraguay</td>\n",
       "      <td>Global Hunger Index Scores</td>\n",
       "      <td>17.2</td>\n",
       "      <td>Index, 0=No hunger , 100=worst hunger</td>\n",
       "    </tr>\n",
       "    <tr>\n",
       "      <th>2</th>\n",
       "      <td>1990-01-01</td>\n",
       "      <td>Panama</td>\n",
       "      <td>Global Hunger Index Scores</td>\n",
       "      <td>21.5</td>\n",
       "      <td>Index, 0=No hunger , 100=worst hunger</td>\n",
       "    </tr>\n",
       "    <tr>\n",
       "      <th>3</th>\n",
       "      <td>1990-01-01</td>\n",
       "      <td>India</td>\n",
       "      <td>Global Hunger Index Scores</td>\n",
       "      <td>48.1</td>\n",
       "      <td>Index, 0=No hunger , 100=worst hunger</td>\n",
       "    </tr>\n",
       "    <tr>\n",
       "      <th>4</th>\n",
       "      <td>1990-01-01</td>\n",
       "      <td>Colombia</td>\n",
       "      <td>Global Hunger Index Scores</td>\n",
       "      <td>16.7</td>\n",
       "      <td>Index, 0=No hunger , 100=worst hunger</td>\n",
       "    </tr>\n",
       "  </tbody>\n",
       "</table>\n",
       "</div>"
      ],
      "text/plain": [
       "        Year   COUNTRY                   INDICATOR  OBS_VALUE  \\\n",
       "0 1990-01-01    Turkey  Global Hunger Index Scores       14.5   \n",
       "1 1990-01-01  Paraguay  Global Hunger Index Scores       17.2   \n",
       "2 1990-01-01    Panama  Global Hunger Index Scores       21.5   \n",
       "3 1990-01-01     India  Global Hunger Index Scores       48.1   \n",
       "4 1990-01-01  Colombia  Global Hunger Index Scores       16.7   \n",
       "\n",
       "                            UNIT_MEASURE  \n",
       "0  Index, 0=No hunger , 100=worst hunger  \n",
       "1  Index, 0=No hunger , 100=worst hunger  \n",
       "2  Index, 0=No hunger , 100=worst hunger  \n",
       "3  Index, 0=No hunger , 100=worst hunger  \n",
       "4  Index, 0=No hunger , 100=worst hunger  "
      ]
     },
     "execution_count": 21,
     "metadata": {},
     "output_type": "execute_result"
    }
   ],
   "source": [
    "gl_hunger.head()"
   ]
  },
  {
   "cell_type": "markdown",
   "metadata": {},
   "source": [
    "As all values use the same unit to measure the hunger, last column isn't needed. We'll just make a note of the fact that 0 represents no hunger and 100 represents the worst hunger in a given country."
   ]
  },
  {
   "cell_type": "code",
   "execution_count": 22,
   "metadata": {},
   "outputs": [
    {
     "name": "stderr",
     "output_type": "stream",
     "text": [
      "/Users/jankierzyk/anaconda3/lib/python3.7/site-packages/pandas/core/frame.py:3697: SettingWithCopyWarning: \n",
      "A value is trying to be set on a copy of a slice from a DataFrame\n",
      "\n",
      "See the caveats in the documentation: http://pandas.pydata.org/pandas-docs/stable/indexing.html#indexing-view-versus-copy\n",
      "  errors=errors)\n"
     ]
    }
   ],
   "source": [
    "gl_hunger.drop(['UNIT_MEASURE'], axis=1, inplace=True)"
   ]
  },
  {
   "cell_type": "code",
   "execution_count": 23,
   "metadata": {},
   "outputs": [
    {
     "data": {
      "text/html": [
       "<div>\n",
       "<style scoped>\n",
       "    .dataframe tbody tr th:only-of-type {\n",
       "        vertical-align: middle;\n",
       "    }\n",
       "\n",
       "    .dataframe tbody tr th {\n",
       "        vertical-align: top;\n",
       "    }\n",
       "\n",
       "    .dataframe thead th {\n",
       "        text-align: right;\n",
       "    }\n",
       "</style>\n",
       "<table border=\"1\" class=\"dataframe\">\n",
       "  <thead>\n",
       "    <tr style=\"text-align: right;\">\n",
       "      <th></th>\n",
       "      <th>Year</th>\n",
       "      <th>COUNTRY</th>\n",
       "      <th>INDICATOR</th>\n",
       "      <th>OBS_VALUE</th>\n",
       "    </tr>\n",
       "  </thead>\n",
       "  <tbody>\n",
       "    <tr>\n",
       "      <th>0</th>\n",
       "      <td>1990-01-01</td>\n",
       "      <td>Turkey</td>\n",
       "      <td>Global Hunger Index Scores</td>\n",
       "      <td>14.5</td>\n",
       "    </tr>\n",
       "    <tr>\n",
       "      <th>1</th>\n",
       "      <td>1990-01-01</td>\n",
       "      <td>Paraguay</td>\n",
       "      <td>Global Hunger Index Scores</td>\n",
       "      <td>17.2</td>\n",
       "    </tr>\n",
       "    <tr>\n",
       "      <th>2</th>\n",
       "      <td>1990-01-01</td>\n",
       "      <td>Panama</td>\n",
       "      <td>Global Hunger Index Scores</td>\n",
       "      <td>21.5</td>\n",
       "    </tr>\n",
       "    <tr>\n",
       "      <th>3</th>\n",
       "      <td>1990-01-01</td>\n",
       "      <td>India</td>\n",
       "      <td>Global Hunger Index Scores</td>\n",
       "      <td>48.1</td>\n",
       "    </tr>\n",
       "    <tr>\n",
       "      <th>4</th>\n",
       "      <td>1990-01-01</td>\n",
       "      <td>Colombia</td>\n",
       "      <td>Global Hunger Index Scores</td>\n",
       "      <td>16.7</td>\n",
       "    </tr>\n",
       "  </tbody>\n",
       "</table>\n",
       "</div>"
      ],
      "text/plain": [
       "        Year   COUNTRY                   INDICATOR  OBS_VALUE\n",
       "0 1990-01-01    Turkey  Global Hunger Index Scores       14.5\n",
       "1 1990-01-01  Paraguay  Global Hunger Index Scores       17.2\n",
       "2 1990-01-01    Panama  Global Hunger Index Scores       21.5\n",
       "3 1990-01-01     India  Global Hunger Index Scores       48.1\n",
       "4 1990-01-01  Colombia  Global Hunger Index Scores       16.7"
      ]
     },
     "execution_count": 23,
     "metadata": {},
     "output_type": "execute_result"
    }
   ],
   "source": [
    "gl_hunger.head()"
   ]
  },
  {
   "cell_type": "code",
   "execution_count": 24,
   "metadata": {},
   "outputs": [
    {
     "name": "stdout",
     "output_type": "stream",
     "text": [
      "<class 'pandas.core.frame.DataFrame'>\n",
      "RangeIndex: 891 entries, 0 to 890\n",
      "Data columns (total 4 columns):\n",
      "Year         891 non-null datetime64[ns]\n",
      "COUNTRY      891 non-null object\n",
      "INDICATOR    891 non-null object\n",
      "OBS_VALUE    891 non-null float64\n",
      "dtypes: datetime64[ns](1), float64(1), object(2)\n",
      "memory usage: 27.9+ KB\n"
     ]
    }
   ],
   "source": [
    "gl_hunger.info()"
   ]
  },
  {
   "cell_type": "code",
   "execution_count": 25,
   "metadata": {},
   "outputs": [],
   "source": [
    "#Saving dataset to excel file\n",
    "writer = pd.ExcelWriter('global_hunger.xlsx', engine='xlsxwriter')\n",
    "\n",
    "# Convert the dataframe to an XlsxWriter Excel object.\n",
    "gl_hunger.to_excel(writer, sheet_name='Sheet1')\n",
    "\n",
    "# Close the Pandas Excel writer and output the Excel file.\n",
    "writer.save()"
   ]
  },
  {
   "cell_type": "markdown",
   "metadata": {},
   "source": [
    "# Energy"
   ]
  },
  {
   "cell_type": "markdown",
   "metadata": {},
   "source": [
    "File was downloaded from: https://datasource.kapsarc.org/explore/dataset/world-renewable-capacity-2000-2015/information/?disjunctive.country_area&disjunctive.technology&disjunctive.indicator and represents the energy produced by a specific technology for all countries in different years."
   ]
  },
  {
   "cell_type": "code",
   "execution_count": 44,
   "metadata": {},
   "outputs": [],
   "source": [
    "energy = pd.read_csv('world-renewable-capacity-2000-2015.csv', sep=';')"
   ]
  },
  {
   "cell_type": "code",
   "execution_count": 45,
   "metadata": {},
   "outputs": [
    {
     "data": {
      "text/html": [
       "<div>\n",
       "<style scoped>\n",
       "    .dataframe tbody tr th:only-of-type {\n",
       "        vertical-align: middle;\n",
       "    }\n",
       "\n",
       "    .dataframe tbody tr th {\n",
       "        vertical-align: top;\n",
       "    }\n",
       "\n",
       "    .dataframe thead th {\n",
       "        text-align: right;\n",
       "    }\n",
       "</style>\n",
       "<table border=\"1\" class=\"dataframe\">\n",
       "  <thead>\n",
       "    <tr style=\"text-align: right;\">\n",
       "      <th></th>\n",
       "      <th>Country/area</th>\n",
       "      <th>Technology</th>\n",
       "      <th>Indicator</th>\n",
       "      <th>Year</th>\n",
       "      <th>Value</th>\n",
       "    </tr>\n",
       "  </thead>\n",
       "  <tbody>\n",
       "    <tr>\n",
       "      <th>0</th>\n",
       "      <td>World</td>\n",
       "      <td>Total renewable energy</td>\n",
       "      <td>Electricity capacity (MW)</td>\n",
       "      <td>2000.0</td>\n",
       "      <td>755068.818</td>\n",
       "    </tr>\n",
       "    <tr>\n",
       "      <th>1</th>\n",
       "      <td>Algeria</td>\n",
       "      <td>Total renewable energy</td>\n",
       "      <td>Electricity capacity (MW)</td>\n",
       "      <td>2012.0</td>\n",
       "      <td>252.600</td>\n",
       "    </tr>\n",
       "    <tr>\n",
       "      <th>2</th>\n",
       "      <td>Algeria</td>\n",
       "      <td>Total renewable energy</td>\n",
       "      <td>Electricity capacity (MW)</td>\n",
       "      <td>2011.0</td>\n",
       "      <td>252.600</td>\n",
       "    </tr>\n",
       "    <tr>\n",
       "      <th>3</th>\n",
       "      <td>Algeria</td>\n",
       "      <td>Total renewable energy</td>\n",
       "      <td>Electricity capacity (MW)</td>\n",
       "      <td>2000.0</td>\n",
       "      <td>276.600</td>\n",
       "    </tr>\n",
       "    <tr>\n",
       "      <th>4</th>\n",
       "      <td>Algeria</td>\n",
       "      <td>Hydropower</td>\n",
       "      <td>Electricity capacity (MW)</td>\n",
       "      <td>2008.0</td>\n",
       "      <td>230.600</td>\n",
       "    </tr>\n",
       "  </tbody>\n",
       "</table>\n",
       "</div>"
      ],
      "text/plain": [
       "  Country/area              Technology                  Indicator    Year  \\\n",
       "0        World  Total renewable energy  Electricity capacity (MW)  2000.0   \n",
       "1      Algeria  Total renewable energy  Electricity capacity (MW)  2012.0   \n",
       "2      Algeria  Total renewable energy  Electricity capacity (MW)  2011.0   \n",
       "3      Algeria  Total renewable energy  Electricity capacity (MW)  2000.0   \n",
       "4      Algeria              Hydropower  Electricity capacity (MW)  2008.0   \n",
       "\n",
       "        Value  \n",
       "0  755068.818  \n",
       "1     252.600  \n",
       "2     252.600  \n",
       "3     276.600  \n",
       "4     230.600  "
      ]
     },
     "execution_count": 45,
     "metadata": {},
     "output_type": "execute_result"
    }
   ],
   "source": [
    "energy.head()"
   ]
  },
  {
   "cell_type": "code",
   "execution_count": 46,
   "metadata": {},
   "outputs": [
    {
     "name": "stdout",
     "output_type": "stream",
     "text": [
      "<class 'pandas.core.frame.DataFrame'>\n",
      "RangeIndex: 39492 entries, 0 to 39491\n",
      "Data columns (total 5 columns):\n",
      "Country/area    39492 non-null object\n",
      "Technology      39492 non-null object\n",
      "Indicator       39492 non-null object\n",
      "Year            36807 non-null float64\n",
      "Value           36807 non-null float64\n",
      "dtypes: float64(2), object(3)\n",
      "memory usage: 1.5+ MB\n"
     ]
    }
   ],
   "source": [
    "energy.info()"
   ]
  },
  {
   "cell_type": "markdown",
   "metadata": {},
   "source": [
    "Some of the rows are missing values, let's investigate them"
   ]
  },
  {
   "cell_type": "code",
   "execution_count": 47,
   "metadata": {},
   "outputs": [
    {
     "data": {
      "text/html": [
       "<div>\n",
       "<style scoped>\n",
       "    .dataframe tbody tr th:only-of-type {\n",
       "        vertical-align: middle;\n",
       "    }\n",
       "\n",
       "    .dataframe tbody tr th {\n",
       "        vertical-align: top;\n",
       "    }\n",
       "\n",
       "    .dataframe thead th {\n",
       "        text-align: right;\n",
       "    }\n",
       "</style>\n",
       "<table border=\"1\" class=\"dataframe\">\n",
       "  <thead>\n",
       "    <tr style=\"text-align: right;\">\n",
       "      <th></th>\n",
       "      <th>Country/area</th>\n",
       "      <th>Technology</th>\n",
       "      <th>Indicator</th>\n",
       "      <th>Year</th>\n",
       "      <th>Value</th>\n",
       "    </tr>\n",
       "  </thead>\n",
       "  <tbody>\n",
       "    <tr>\n",
       "      <th>152</th>\n",
       "      <td>Africa</td>\n",
       "      <td>Offshore wind energy</td>\n",
       "      <td>Electricity capacity (MW)</td>\n",
       "      <td>NaN</td>\n",
       "      <td>NaN</td>\n",
       "    </tr>\n",
       "    <tr>\n",
       "      <th>527</th>\n",
       "      <td>Africa</td>\n",
       "      <td>Renewable municipal waste</td>\n",
       "      <td>Electricity capacity (MW)</td>\n",
       "      <td>NaN</td>\n",
       "      <td>NaN</td>\n",
       "    </tr>\n",
       "    <tr>\n",
       "      <th>536</th>\n",
       "      <td>Algeria</td>\n",
       "      <td>Marine</td>\n",
       "      <td>Electricity capacity (MW)</td>\n",
       "      <td>NaN</td>\n",
       "      <td>NaN</td>\n",
       "    </tr>\n",
       "    <tr>\n",
       "      <th>544</th>\n",
       "      <td>Angola</td>\n",
       "      <td>Offshore wind energy</td>\n",
       "      <td>Electricity capacity (MW)</td>\n",
       "      <td>NaN</td>\n",
       "      <td>NaN</td>\n",
       "    </tr>\n",
       "    <tr>\n",
       "      <th>545</th>\n",
       "      <td>Angola</td>\n",
       "      <td>Pumped storage</td>\n",
       "      <td>Electricity capacity (MW)</td>\n",
       "      <td>NaN</td>\n",
       "      <td>NaN</td>\n",
       "    </tr>\n",
       "    <tr>\n",
       "      <th>561</th>\n",
       "      <td>Algeria</td>\n",
       "      <td>Liquid biofuels</td>\n",
       "      <td>Electricity capacity (MW)</td>\n",
       "      <td>NaN</td>\n",
       "      <td>NaN</td>\n",
       "    </tr>\n",
       "    <tr>\n",
       "      <th>562</th>\n",
       "      <td>Algeria</td>\n",
       "      <td>Geothermal</td>\n",
       "      <td>Electricity capacity (MW)</td>\n",
       "      <td>NaN</td>\n",
       "      <td>NaN</td>\n",
       "    </tr>\n",
       "    <tr>\n",
       "      <th>563</th>\n",
       "      <td>Algeria</td>\n",
       "      <td>Bagasse</td>\n",
       "      <td>Electricity capacity (MW)</td>\n",
       "      <td>NaN</td>\n",
       "      <td>NaN</td>\n",
       "    </tr>\n",
       "    <tr>\n",
       "      <th>564</th>\n",
       "      <td>Algeria</td>\n",
       "      <td>Biogas</td>\n",
       "      <td>Electricity capacity (MW)</td>\n",
       "      <td>NaN</td>\n",
       "      <td>NaN</td>\n",
       "    </tr>\n",
       "    <tr>\n",
       "      <th>591</th>\n",
       "      <td>Angola</td>\n",
       "      <td>Liquid biofuels</td>\n",
       "      <td>Electricity capacity (MW)</td>\n",
       "      <td>NaN</td>\n",
       "      <td>NaN</td>\n",
       "    </tr>\n",
       "    <tr>\n",
       "      <th>592</th>\n",
       "      <td>Angola</td>\n",
       "      <td>Biogas</td>\n",
       "      <td>Electricity capacity (MW)</td>\n",
       "      <td>NaN</td>\n",
       "      <td>NaN</td>\n",
       "    </tr>\n",
       "    <tr>\n",
       "      <th>613</th>\n",
       "      <td>Algeria</td>\n",
       "      <td>Offshore wind energy</td>\n",
       "      <td>Electricity capacity (MW)</td>\n",
       "      <td>NaN</td>\n",
       "      <td>NaN</td>\n",
       "    </tr>\n",
       "    <tr>\n",
       "      <th>622</th>\n",
       "      <td>Angola</td>\n",
       "      <td>Marine</td>\n",
       "      <td>Electricity capacity (MW)</td>\n",
       "      <td>NaN</td>\n",
       "      <td>NaN</td>\n",
       "    </tr>\n",
       "    <tr>\n",
       "      <th>677</th>\n",
       "      <td>Angola</td>\n",
       "      <td>Onshore wind energy</td>\n",
       "      <td>Electricity capacity (MW)</td>\n",
       "      <td>NaN</td>\n",
       "      <td>NaN</td>\n",
       "    </tr>\n",
       "    <tr>\n",
       "      <th>696</th>\n",
       "      <td>Algeria</td>\n",
       "      <td>Bioenergy</td>\n",
       "      <td>Electricity capacity (MW)</td>\n",
       "      <td>NaN</td>\n",
       "      <td>NaN</td>\n",
       "    </tr>\n",
       "    <tr>\n",
       "      <th>742</th>\n",
       "      <td>Angola</td>\n",
       "      <td>Renewable municipal waste</td>\n",
       "      <td>Electricity capacity (MW)</td>\n",
       "      <td>NaN</td>\n",
       "      <td>NaN</td>\n",
       "    </tr>\n",
       "    <tr>\n",
       "      <th>788</th>\n",
       "      <td>Algeria</td>\n",
       "      <td>Renewable municipal waste</td>\n",
       "      <td>Electricity capacity (MW)</td>\n",
       "      <td>NaN</td>\n",
       "      <td>NaN</td>\n",
       "    </tr>\n",
       "    <tr>\n",
       "      <th>789</th>\n",
       "      <td>Algeria</td>\n",
       "      <td>Other solid biofuels</td>\n",
       "      <td>Electricity capacity (MW)</td>\n",
       "      <td>NaN</td>\n",
       "      <td>NaN</td>\n",
       "    </tr>\n",
       "    <tr>\n",
       "      <th>829</th>\n",
       "      <td>Algeria</td>\n",
       "      <td>Solid biofuels</td>\n",
       "      <td>Electricity capacity (MW)</td>\n",
       "      <td>NaN</td>\n",
       "      <td>NaN</td>\n",
       "    </tr>\n",
       "    <tr>\n",
       "      <th>865</th>\n",
       "      <td>Angola</td>\n",
       "      <td>Concentrated solar power</td>\n",
       "      <td>Electricity capacity (MW)</td>\n",
       "      <td>NaN</td>\n",
       "      <td>NaN</td>\n",
       "    </tr>\n",
       "    <tr>\n",
       "      <th>866</th>\n",
       "      <td>Angola</td>\n",
       "      <td>Wind</td>\n",
       "      <td>Electricity capacity (MW)</td>\n",
       "      <td>NaN</td>\n",
       "      <td>NaN</td>\n",
       "    </tr>\n",
       "    <tr>\n",
       "      <th>949</th>\n",
       "      <td>Algeria</td>\n",
       "      <td>Pumped storage</td>\n",
       "      <td>Electricity capacity (MW)</td>\n",
       "      <td>NaN</td>\n",
       "      <td>NaN</td>\n",
       "    </tr>\n",
       "    <tr>\n",
       "      <th>978</th>\n",
       "      <td>Angola</td>\n",
       "      <td>Other solid biofuels</td>\n",
       "      <td>Electricity capacity (MW)</td>\n",
       "      <td>NaN</td>\n",
       "      <td>NaN</td>\n",
       "    </tr>\n",
       "    <tr>\n",
       "      <th>1008</th>\n",
       "      <td>Botswana</td>\n",
       "      <td>Solid biofuels</td>\n",
       "      <td>Electricity capacity (MW)</td>\n",
       "      <td>NaN</td>\n",
       "      <td>NaN</td>\n",
       "    </tr>\n",
       "    <tr>\n",
       "      <th>1018</th>\n",
       "      <td>Burkina Faso</td>\n",
       "      <td>Pumped storage</td>\n",
       "      <td>Electricity capacity (MW)</td>\n",
       "      <td>NaN</td>\n",
       "      <td>NaN</td>\n",
       "    </tr>\n",
       "    <tr>\n",
       "      <th>1028</th>\n",
       "      <td>Burkina Faso</td>\n",
       "      <td>Solid biofuels</td>\n",
       "      <td>Electricity capacity (MW)</td>\n",
       "      <td>NaN</td>\n",
       "      <td>NaN</td>\n",
       "    </tr>\n",
       "    <tr>\n",
       "      <th>1048</th>\n",
       "      <td>Burundi</td>\n",
       "      <td>Marine</td>\n",
       "      <td>Electricity capacity (MW)</td>\n",
       "      <td>NaN</td>\n",
       "      <td>NaN</td>\n",
       "    </tr>\n",
       "    <tr>\n",
       "      <th>1071</th>\n",
       "      <td>Burundi</td>\n",
       "      <td>Renewable municipal waste</td>\n",
       "      <td>Electricity capacity (MW)</td>\n",
       "      <td>NaN</td>\n",
       "      <td>NaN</td>\n",
       "    </tr>\n",
       "    <tr>\n",
       "      <th>1072</th>\n",
       "      <td>Cabo Verde</td>\n",
       "      <td>Marine</td>\n",
       "      <td>Electricity capacity (MW)</td>\n",
       "      <td>NaN</td>\n",
       "      <td>NaN</td>\n",
       "    </tr>\n",
       "    <tr>\n",
       "      <th>1081</th>\n",
       "      <td>Botswana</td>\n",
       "      <td>Renewable hydropower</td>\n",
       "      <td>Electricity capacity (MW)</td>\n",
       "      <td>NaN</td>\n",
       "      <td>NaN</td>\n",
       "    </tr>\n",
       "    <tr>\n",
       "      <th>...</th>\n",
       "      <td>...</td>\n",
       "      <td>...</td>\n",
       "      <td>...</td>\n",
       "      <td>...</td>\n",
       "      <td>...</td>\n",
       "    </tr>\n",
       "    <tr>\n",
       "      <th>39049</th>\n",
       "      <td>Bulgaria</td>\n",
       "      <td>Geothermal</td>\n",
       "      <td>Electricity capacity (MW)</td>\n",
       "      <td>NaN</td>\n",
       "      <td>NaN</td>\n",
       "    </tr>\n",
       "    <tr>\n",
       "      <th>39064</th>\n",
       "      <td>Croatia</td>\n",
       "      <td>Marine</td>\n",
       "      <td>Electricity capacity (MW)</td>\n",
       "      <td>NaN</td>\n",
       "      <td>NaN</td>\n",
       "    </tr>\n",
       "    <tr>\n",
       "      <th>39071</th>\n",
       "      <td>Croatia</td>\n",
       "      <td>Offshore wind energy</td>\n",
       "      <td>Electricity capacity (MW)</td>\n",
       "      <td>NaN</td>\n",
       "      <td>NaN</td>\n",
       "    </tr>\n",
       "    <tr>\n",
       "      <th>39084</th>\n",
       "      <td>Croatia</td>\n",
       "      <td>Bagasse</td>\n",
       "      <td>Electricity capacity (MW)</td>\n",
       "      <td>NaN</td>\n",
       "      <td>NaN</td>\n",
       "    </tr>\n",
       "    <tr>\n",
       "      <th>39085</th>\n",
       "      <td>Croatia</td>\n",
       "      <td>Renewable municipal waste</td>\n",
       "      <td>Electricity capacity (MW)</td>\n",
       "      <td>NaN</td>\n",
       "      <td>NaN</td>\n",
       "    </tr>\n",
       "    <tr>\n",
       "      <th>39164</th>\n",
       "      <td>Chile</td>\n",
       "      <td>Bagasse</td>\n",
       "      <td>Electricity capacity (MW)</td>\n",
       "      <td>NaN</td>\n",
       "      <td>NaN</td>\n",
       "    </tr>\n",
       "    <tr>\n",
       "      <th>39185</th>\n",
       "      <td>Colombia</td>\n",
       "      <td>Pumped storage</td>\n",
       "      <td>Electricity capacity (MW)</td>\n",
       "      <td>NaN</td>\n",
       "      <td>NaN</td>\n",
       "    </tr>\n",
       "    <tr>\n",
       "      <th>39186</th>\n",
       "      <td>Colombia</td>\n",
       "      <td>Marine</td>\n",
       "      <td>Electricity capacity (MW)</td>\n",
       "      <td>NaN</td>\n",
       "      <td>NaN</td>\n",
       "    </tr>\n",
       "    <tr>\n",
       "      <th>39220</th>\n",
       "      <td>Kuwait</td>\n",
       "      <td>Liquid biofuels</td>\n",
       "      <td>Electricity capacity (MW)</td>\n",
       "      <td>NaN</td>\n",
       "      <td>NaN</td>\n",
       "    </tr>\n",
       "    <tr>\n",
       "      <th>39227</th>\n",
       "      <td>Lebanon</td>\n",
       "      <td>Marine</td>\n",
       "      <td>Electricity capacity (MW)</td>\n",
       "      <td>NaN</td>\n",
       "      <td>NaN</td>\n",
       "    </tr>\n",
       "    <tr>\n",
       "      <th>39246</th>\n",
       "      <td>Lebanon</td>\n",
       "      <td>Other solid biofuels</td>\n",
       "      <td>Electricity capacity (MW)</td>\n",
       "      <td>NaN</td>\n",
       "      <td>NaN</td>\n",
       "    </tr>\n",
       "    <tr>\n",
       "      <th>39264</th>\n",
       "      <td>Oman</td>\n",
       "      <td>Biogas</td>\n",
       "      <td>Electricity capacity (MW)</td>\n",
       "      <td>NaN</td>\n",
       "      <td>NaN</td>\n",
       "    </tr>\n",
       "    <tr>\n",
       "      <th>39284</th>\n",
       "      <td>Palestine</td>\n",
       "      <td>Renewable municipal waste</td>\n",
       "      <td>Electricity capacity (MW)</td>\n",
       "      <td>NaN</td>\n",
       "      <td>NaN</td>\n",
       "    </tr>\n",
       "    <tr>\n",
       "      <th>39290</th>\n",
       "      <td>Palestine</td>\n",
       "      <td>Geothermal</td>\n",
       "      <td>Electricity capacity (MW)</td>\n",
       "      <td>NaN</td>\n",
       "      <td>NaN</td>\n",
       "    </tr>\n",
       "    <tr>\n",
       "      <th>39294</th>\n",
       "      <td>Qatar</td>\n",
       "      <td>Marine</td>\n",
       "      <td>Electricity capacity (MW)</td>\n",
       "      <td>NaN</td>\n",
       "      <td>NaN</td>\n",
       "    </tr>\n",
       "    <tr>\n",
       "      <th>39295</th>\n",
       "      <td>Qatar</td>\n",
       "      <td>Wind</td>\n",
       "      <td>Electricity capacity (MW)</td>\n",
       "      <td>NaN</td>\n",
       "      <td>NaN</td>\n",
       "    </tr>\n",
       "    <tr>\n",
       "      <th>39319</th>\n",
       "      <td>Brazil</td>\n",
       "      <td>Renewable municipal waste</td>\n",
       "      <td>Electricity capacity (MW)</td>\n",
       "      <td>NaN</td>\n",
       "      <td>NaN</td>\n",
       "    </tr>\n",
       "    <tr>\n",
       "      <th>39325</th>\n",
       "      <td>Brazil</td>\n",
       "      <td>Geothermal</td>\n",
       "      <td>Electricity capacity (MW)</td>\n",
       "      <td>NaN</td>\n",
       "      <td>NaN</td>\n",
       "    </tr>\n",
       "    <tr>\n",
       "      <th>39365</th>\n",
       "      <td>Chile</td>\n",
       "      <td>Renewable municipal waste</td>\n",
       "      <td>Electricity capacity (MW)</td>\n",
       "      <td>NaN</td>\n",
       "      <td>NaN</td>\n",
       "    </tr>\n",
       "    <tr>\n",
       "      <th>39404</th>\n",
       "      <td>Cyprus</td>\n",
       "      <td>Solid biofuels</td>\n",
       "      <td>Electricity capacity (MW)</td>\n",
       "      <td>NaN</td>\n",
       "      <td>NaN</td>\n",
       "    </tr>\n",
       "    <tr>\n",
       "      <th>39424</th>\n",
       "      <td>Colombia</td>\n",
       "      <td>Liquid biofuels</td>\n",
       "      <td>Electricity capacity (MW)</td>\n",
       "      <td>NaN</td>\n",
       "      <td>NaN</td>\n",
       "    </tr>\n",
       "    <tr>\n",
       "      <th>39427</th>\n",
       "      <td>Qatar</td>\n",
       "      <td>Geothermal</td>\n",
       "      <td>Electricity capacity (MW)</td>\n",
       "      <td>NaN</td>\n",
       "      <td>NaN</td>\n",
       "    </tr>\n",
       "    <tr>\n",
       "      <th>39435</th>\n",
       "      <td>Saudi Arabia</td>\n",
       "      <td>Marine</td>\n",
       "      <td>Electricity capacity (MW)</td>\n",
       "      <td>NaN</td>\n",
       "      <td>NaN</td>\n",
       "    </tr>\n",
       "    <tr>\n",
       "      <th>39454</th>\n",
       "      <td>Saudi Arabia</td>\n",
       "      <td>Solid biofuels</td>\n",
       "      <td>Electricity capacity (MW)</td>\n",
       "      <td>NaN</td>\n",
       "      <td>NaN</td>\n",
       "    </tr>\n",
       "    <tr>\n",
       "      <th>39481</th>\n",
       "      <td>Syrian AR</td>\n",
       "      <td>Concentrated solar power</td>\n",
       "      <td>Electricity capacity (MW)</td>\n",
       "      <td>NaN</td>\n",
       "      <td>NaN</td>\n",
       "    </tr>\n",
       "    <tr>\n",
       "      <th>39482</th>\n",
       "      <td>Syrian AR</td>\n",
       "      <td>Solid biofuels</td>\n",
       "      <td>Electricity capacity (MW)</td>\n",
       "      <td>NaN</td>\n",
       "      <td>NaN</td>\n",
       "    </tr>\n",
       "    <tr>\n",
       "      <th>39483</th>\n",
       "      <td>Syrian AR</td>\n",
       "      <td>Bagasse</td>\n",
       "      <td>Electricity capacity (MW)</td>\n",
       "      <td>NaN</td>\n",
       "      <td>NaN</td>\n",
       "    </tr>\n",
       "    <tr>\n",
       "      <th>39484</th>\n",
       "      <td>Syrian AR</td>\n",
       "      <td>Other solid biofuels</td>\n",
       "      <td>Electricity capacity (MW)</td>\n",
       "      <td>NaN</td>\n",
       "      <td>NaN</td>\n",
       "    </tr>\n",
       "    <tr>\n",
       "      <th>39485</th>\n",
       "      <td>Syrian AR</td>\n",
       "      <td>Liquid biofuels</td>\n",
       "      <td>Electricity capacity (MW)</td>\n",
       "      <td>NaN</td>\n",
       "      <td>NaN</td>\n",
       "    </tr>\n",
       "    <tr>\n",
       "      <th>39489</th>\n",
       "      <td>Syrian AR</td>\n",
       "      <td>Geothermal</td>\n",
       "      <td>Electricity capacity (MW)</td>\n",
       "      <td>NaN</td>\n",
       "      <td>NaN</td>\n",
       "    </tr>\n",
       "  </tbody>\n",
       "</table>\n",
       "<p>2685 rows × 5 columns</p>\n",
       "</div>"
      ],
      "text/plain": [
       "       Country/area                 Technology                  Indicator  \\\n",
       "152          Africa       Offshore wind energy  Electricity capacity (MW)   \n",
       "527          Africa  Renewable municipal waste  Electricity capacity (MW)   \n",
       "536         Algeria                     Marine  Electricity capacity (MW)   \n",
       "544          Angola       Offshore wind energy  Electricity capacity (MW)   \n",
       "545          Angola             Pumped storage  Electricity capacity (MW)   \n",
       "561         Algeria            Liquid biofuels  Electricity capacity (MW)   \n",
       "562         Algeria                 Geothermal  Electricity capacity (MW)   \n",
       "563         Algeria                    Bagasse  Electricity capacity (MW)   \n",
       "564         Algeria                     Biogas  Electricity capacity (MW)   \n",
       "591          Angola            Liquid biofuels  Electricity capacity (MW)   \n",
       "592          Angola                     Biogas  Electricity capacity (MW)   \n",
       "613         Algeria       Offshore wind energy  Electricity capacity (MW)   \n",
       "622          Angola                     Marine  Electricity capacity (MW)   \n",
       "677          Angola        Onshore wind energy  Electricity capacity (MW)   \n",
       "696         Algeria                  Bioenergy  Electricity capacity (MW)   \n",
       "742          Angola  Renewable municipal waste  Electricity capacity (MW)   \n",
       "788         Algeria  Renewable municipal waste  Electricity capacity (MW)   \n",
       "789         Algeria       Other solid biofuels  Electricity capacity (MW)   \n",
       "829         Algeria             Solid biofuels  Electricity capacity (MW)   \n",
       "865          Angola   Concentrated solar power  Electricity capacity (MW)   \n",
       "866          Angola                       Wind  Electricity capacity (MW)   \n",
       "949         Algeria             Pumped storage  Electricity capacity (MW)   \n",
       "978          Angola       Other solid biofuels  Electricity capacity (MW)   \n",
       "1008       Botswana             Solid biofuels  Electricity capacity (MW)   \n",
       "1018   Burkina Faso             Pumped storage  Electricity capacity (MW)   \n",
       "1028   Burkina Faso             Solid biofuels  Electricity capacity (MW)   \n",
       "1048        Burundi                     Marine  Electricity capacity (MW)   \n",
       "1071        Burundi  Renewable municipal waste  Electricity capacity (MW)   \n",
       "1072     Cabo Verde                     Marine  Electricity capacity (MW)   \n",
       "1081       Botswana       Renewable hydropower  Electricity capacity (MW)   \n",
       "...             ...                        ...                        ...   \n",
       "39049      Bulgaria                 Geothermal  Electricity capacity (MW)   \n",
       "39064       Croatia                     Marine  Electricity capacity (MW)   \n",
       "39071       Croatia       Offshore wind energy  Electricity capacity (MW)   \n",
       "39084       Croatia                    Bagasse  Electricity capacity (MW)   \n",
       "39085       Croatia  Renewable municipal waste  Electricity capacity (MW)   \n",
       "39164         Chile                    Bagasse  Electricity capacity (MW)   \n",
       "39185      Colombia             Pumped storage  Electricity capacity (MW)   \n",
       "39186      Colombia                     Marine  Electricity capacity (MW)   \n",
       "39220        Kuwait            Liquid biofuels  Electricity capacity (MW)   \n",
       "39227       Lebanon                     Marine  Electricity capacity (MW)   \n",
       "39246       Lebanon       Other solid biofuels  Electricity capacity (MW)   \n",
       "39264          Oman                     Biogas  Electricity capacity (MW)   \n",
       "39284     Palestine  Renewable municipal waste  Electricity capacity (MW)   \n",
       "39290     Palestine                 Geothermal  Electricity capacity (MW)   \n",
       "39294         Qatar                     Marine  Electricity capacity (MW)   \n",
       "39295         Qatar                       Wind  Electricity capacity (MW)   \n",
       "39319        Brazil  Renewable municipal waste  Electricity capacity (MW)   \n",
       "39325        Brazil                 Geothermal  Electricity capacity (MW)   \n",
       "39365         Chile  Renewable municipal waste  Electricity capacity (MW)   \n",
       "39404        Cyprus             Solid biofuels  Electricity capacity (MW)   \n",
       "39424      Colombia            Liquid biofuels  Electricity capacity (MW)   \n",
       "39427         Qatar                 Geothermal  Electricity capacity (MW)   \n",
       "39435  Saudi Arabia                     Marine  Electricity capacity (MW)   \n",
       "39454  Saudi Arabia             Solid biofuels  Electricity capacity (MW)   \n",
       "39481     Syrian AR   Concentrated solar power  Electricity capacity (MW)   \n",
       "39482     Syrian AR             Solid biofuels  Electricity capacity (MW)   \n",
       "39483     Syrian AR                    Bagasse  Electricity capacity (MW)   \n",
       "39484     Syrian AR       Other solid biofuels  Electricity capacity (MW)   \n",
       "39485     Syrian AR            Liquid biofuels  Electricity capacity (MW)   \n",
       "39489     Syrian AR                 Geothermal  Electricity capacity (MW)   \n",
       "\n",
       "       Year  Value  \n",
       "152     NaN    NaN  \n",
       "527     NaN    NaN  \n",
       "536     NaN    NaN  \n",
       "544     NaN    NaN  \n",
       "545     NaN    NaN  \n",
       "561     NaN    NaN  \n",
       "562     NaN    NaN  \n",
       "563     NaN    NaN  \n",
       "564     NaN    NaN  \n",
       "591     NaN    NaN  \n",
       "592     NaN    NaN  \n",
       "613     NaN    NaN  \n",
       "622     NaN    NaN  \n",
       "677     NaN    NaN  \n",
       "696     NaN    NaN  \n",
       "742     NaN    NaN  \n",
       "788     NaN    NaN  \n",
       "789     NaN    NaN  \n",
       "829     NaN    NaN  \n",
       "865     NaN    NaN  \n",
       "866     NaN    NaN  \n",
       "949     NaN    NaN  \n",
       "978     NaN    NaN  \n",
       "1008    NaN    NaN  \n",
       "1018    NaN    NaN  \n",
       "1028    NaN    NaN  \n",
       "1048    NaN    NaN  \n",
       "1071    NaN    NaN  \n",
       "1072    NaN    NaN  \n",
       "1081    NaN    NaN  \n",
       "...     ...    ...  \n",
       "39049   NaN    NaN  \n",
       "39064   NaN    NaN  \n",
       "39071   NaN    NaN  \n",
       "39084   NaN    NaN  \n",
       "39085   NaN    NaN  \n",
       "39164   NaN    NaN  \n",
       "39185   NaN    NaN  \n",
       "39186   NaN    NaN  \n",
       "39220   NaN    NaN  \n",
       "39227   NaN    NaN  \n",
       "39246   NaN    NaN  \n",
       "39264   NaN    NaN  \n",
       "39284   NaN    NaN  \n",
       "39290   NaN    NaN  \n",
       "39294   NaN    NaN  \n",
       "39295   NaN    NaN  \n",
       "39319   NaN    NaN  \n",
       "39325   NaN    NaN  \n",
       "39365   NaN    NaN  \n",
       "39404   NaN    NaN  \n",
       "39424   NaN    NaN  \n",
       "39427   NaN    NaN  \n",
       "39435   NaN    NaN  \n",
       "39454   NaN    NaN  \n",
       "39481   NaN    NaN  \n",
       "39482   NaN    NaN  \n",
       "39483   NaN    NaN  \n",
       "39484   NaN    NaN  \n",
       "39485   NaN    NaN  \n",
       "39489   NaN    NaN  \n",
       "\n",
       "[2685 rows x 5 columns]"
      ]
     },
     "execution_count": 47,
     "metadata": {},
     "output_type": "execute_result"
    }
   ],
   "source": [
    "energy[energy['Value'].isnull()]"
   ]
  },
  {
   "cell_type": "markdown",
   "metadata": {},
   "source": [
    "Even though it's a lot of rows, they don't represent anything as have null as Year and Value. Let's drop them"
   ]
  },
  {
   "cell_type": "code",
   "execution_count": 48,
   "metadata": {},
   "outputs": [],
   "source": [
    "energy.dropna(inplace=True)"
   ]
  },
  {
   "cell_type": "code",
   "execution_count": 49,
   "metadata": {},
   "outputs": [
    {
     "name": "stdout",
     "output_type": "stream",
     "text": [
      "<class 'pandas.core.frame.DataFrame'>\n",
      "Int64Index: 36807 entries, 0 to 39491\n",
      "Data columns (total 5 columns):\n",
      "Country/area    36807 non-null object\n",
      "Technology      36807 non-null object\n",
      "Indicator       36807 non-null object\n",
      "Year            36807 non-null float64\n",
      "Value           36807 non-null float64\n",
      "dtypes: float64(2), object(3)\n",
      "memory usage: 1.7+ MB\n"
     ]
    }
   ],
   "source": [
    "energy.info()"
   ]
  },
  {
   "cell_type": "markdown",
   "metadata": {},
   "source": [
    "Let's transform Year column to datetype. First float needs to be changed to integer and then to a datetime format."
   ]
  },
  {
   "cell_type": "code",
   "execution_count": 50,
   "metadata": {},
   "outputs": [],
   "source": [
    "energy['Year']=energy['Year'].astype(int)"
   ]
  },
  {
   "cell_type": "code",
   "execution_count": 51,
   "metadata": {},
   "outputs": [],
   "source": [
    "energy['Year'] = pd.to_datetime(energy['Year'], format='%Y')"
   ]
  },
  {
   "cell_type": "code",
   "execution_count": 52,
   "metadata": {},
   "outputs": [
    {
     "name": "stdout",
     "output_type": "stream",
     "text": [
      "<class 'pandas.core.frame.DataFrame'>\n",
      "Int64Index: 36807 entries, 0 to 39491\n",
      "Data columns (total 5 columns):\n",
      "Country/area    36807 non-null object\n",
      "Technology      36807 non-null object\n",
      "Indicator       36807 non-null object\n",
      "Year            36807 non-null datetime64[ns]\n",
      "Value           36807 non-null float64\n",
      "dtypes: datetime64[ns](1), float64(1), object(3)\n",
      "memory usage: 1.7+ MB\n"
     ]
    }
   ],
   "source": [
    "energy.info()"
   ]
  },
  {
   "cell_type": "code",
   "execution_count": 53,
   "metadata": {},
   "outputs": [],
   "source": [
    "writer = pd.ExcelWriter('energy.xlsx', engine='xlsxwriter')\n",
    "\n",
    "# Convert the dataframe to an XlsxWriter Excel object.\n",
    "energy.to_excel(writer, sheet_name='Sheet1')\n",
    "\n",
    "# Close the Pandas Excel writer and output the Excel file.\n",
    "writer.save()"
   ]
  },
  {
   "cell_type": "markdown",
   "metadata": {},
   "source": [
    "# Poverty"
   ]
  },
  {
   "cell_type": "markdown",
   "metadata": {},
   "source": [
    "The poverty data was downloaded from http://databank.worldbank.org/data/reports.aspx?source=poverty-and-equity-database#"
   ]
  },
  {
   "cell_type": "code",
   "execution_count": 59,
   "metadata": {},
   "outputs": [],
   "source": [
    "poverty = pd.read_csv(\"Poverty.csv\")"
   ]
  },
  {
   "cell_type": "code",
   "execution_count": 60,
   "metadata": {},
   "outputs": [
    {
     "data": {
      "text/html": [
       "<div>\n",
       "<style scoped>\n",
       "    .dataframe tbody tr th:only-of-type {\n",
       "        vertical-align: middle;\n",
       "    }\n",
       "\n",
       "    .dataframe tbody tr th {\n",
       "        vertical-align: top;\n",
       "    }\n",
       "\n",
       "    .dataframe thead th {\n",
       "        text-align: right;\n",
       "    }\n",
       "</style>\n",
       "<table border=\"1\" class=\"dataframe\">\n",
       "  <thead>\n",
       "    <tr style=\"text-align: right;\">\n",
       "      <th></th>\n",
       "      <th>Year</th>\n",
       "      <th>Year Code</th>\n",
       "      <th>Country</th>\n",
       "      <th>Country Code</th>\n",
       "      <th>Number of poor at $1.90 a day (2011 PPP) (millions) [SI.POV.NOP1]</th>\n",
       "      <th>Number of poor at $3.20 a day (2011 PPP) (millions) [SI.POV.LMIC.NO]</th>\n",
       "      <th>Number of poor at $5.50 a day (2011 PPP) (millions) [SI.POV.UMIC.NO]</th>\n",
       "      <th>Population, total [SP.POP.TOTL]</th>\n",
       "    </tr>\n",
       "  </thead>\n",
       "  <tbody>\n",
       "    <tr>\n",
       "      <th>0</th>\n",
       "      <td>1974</td>\n",
       "      <td>YR1974</td>\n",
       "      <td>Afghanistan</td>\n",
       "      <td>AFG</td>\n",
       "      <td>..</td>\n",
       "      <td>..</td>\n",
       "      <td>..</td>\n",
       "      <td>12321541</td>\n",
       "    </tr>\n",
       "    <tr>\n",
       "      <th>1</th>\n",
       "      <td>1974</td>\n",
       "      <td>YR1974</td>\n",
       "      <td>Albania</td>\n",
       "      <td>ALB</td>\n",
       "      <td>..</td>\n",
       "      <td>..</td>\n",
       "      <td>..</td>\n",
       "      <td>2350124</td>\n",
       "    </tr>\n",
       "    <tr>\n",
       "      <th>2</th>\n",
       "      <td>1974</td>\n",
       "      <td>YR1974</td>\n",
       "      <td>Algeria</td>\n",
       "      <td>DZA</td>\n",
       "      <td>..</td>\n",
       "      <td>..</td>\n",
       "      <td>..</td>\n",
       "      <td>16247113</td>\n",
       "    </tr>\n",
       "    <tr>\n",
       "      <th>3</th>\n",
       "      <td>1974</td>\n",
       "      <td>YR1974</td>\n",
       "      <td>Angola</td>\n",
       "      <td>AGO</td>\n",
       "      <td>..</td>\n",
       "      <td>..</td>\n",
       "      <td>..</td>\n",
       "      <td>7474338</td>\n",
       "    </tr>\n",
       "    <tr>\n",
       "      <th>4</th>\n",
       "      <td>1974</td>\n",
       "      <td>YR1974</td>\n",
       "      <td>Argentina</td>\n",
       "      <td>ARG</td>\n",
       "      <td>..</td>\n",
       "      <td>..</td>\n",
       "      <td>..</td>\n",
       "      <td>25644506</td>\n",
       "    </tr>\n",
       "  </tbody>\n",
       "</table>\n",
       "</div>"
      ],
      "text/plain": [
       "   Year Year Code      Country Country Code  \\\n",
       "0  1974    YR1974  Afghanistan          AFG   \n",
       "1  1974    YR1974      Albania          ALB   \n",
       "2  1974    YR1974      Algeria          DZA   \n",
       "3  1974    YR1974       Angola          AGO   \n",
       "4  1974    YR1974    Argentina          ARG   \n",
       "\n",
       "  Number of poor at $1.90 a day (2011 PPP) (millions) [SI.POV.NOP1]  \\\n",
       "0                                                 ..                  \n",
       "1                                                 ..                  \n",
       "2                                                 ..                  \n",
       "3                                                 ..                  \n",
       "4                                                 ..                  \n",
       "\n",
       "  Number of poor at $3.20 a day (2011 PPP) (millions) [SI.POV.LMIC.NO]  \\\n",
       "0                                                 ..                     \n",
       "1                                                 ..                     \n",
       "2                                                 ..                     \n",
       "3                                                 ..                     \n",
       "4                                                 ..                     \n",
       "\n",
       "  Number of poor at $5.50 a day (2011 PPP) (millions) [SI.POV.UMIC.NO]  \\\n",
       "0                                                 ..                     \n",
       "1                                                 ..                     \n",
       "2                                                 ..                     \n",
       "3                                                 ..                     \n",
       "4                                                 ..                     \n",
       "\n",
       "  Population, total [SP.POP.TOTL]  \n",
       "0                        12321541  \n",
       "1                         2350124  \n",
       "2                        16247113  \n",
       "3                         7474338  \n",
       "4                        25644506  "
      ]
     },
     "execution_count": 60,
     "metadata": {},
     "output_type": "execute_result"
    }
   ],
   "source": [
    "poverty.head()"
   ]
  },
  {
   "cell_type": "markdown",
   "metadata": {},
   "source": [
    "Some of the columns won't be needed - Year Code and Country Code can definitely be removed"
   ]
  },
  {
   "cell_type": "code",
   "execution_count": 61,
   "metadata": {},
   "outputs": [],
   "source": [
    "poverty.drop(['Year Code', 'Country Code'], axis=1, inplace=True)"
   ]
  },
  {
   "cell_type": "code",
   "execution_count": 62,
   "metadata": {},
   "outputs": [
    {
     "data": {
      "text/html": [
       "<div>\n",
       "<style scoped>\n",
       "    .dataframe tbody tr th:only-of-type {\n",
       "        vertical-align: middle;\n",
       "    }\n",
       "\n",
       "    .dataframe tbody tr th {\n",
       "        vertical-align: top;\n",
       "    }\n",
       "\n",
       "    .dataframe thead th {\n",
       "        text-align: right;\n",
       "    }\n",
       "</style>\n",
       "<table border=\"1\" class=\"dataframe\">\n",
       "  <thead>\n",
       "    <tr style=\"text-align: right;\">\n",
       "      <th></th>\n",
       "      <th>Year</th>\n",
       "      <th>Country</th>\n",
       "      <th>Number of poor at $1.90 a day (2011 PPP) (millions) [SI.POV.NOP1]</th>\n",
       "      <th>Number of poor at $3.20 a day (2011 PPP) (millions) [SI.POV.LMIC.NO]</th>\n",
       "      <th>Number of poor at $5.50 a day (2011 PPP) (millions) [SI.POV.UMIC.NO]</th>\n",
       "      <th>Population, total [SP.POP.TOTL]</th>\n",
       "    </tr>\n",
       "  </thead>\n",
       "  <tbody>\n",
       "    <tr>\n",
       "      <th>0</th>\n",
       "      <td>1974</td>\n",
       "      <td>Afghanistan</td>\n",
       "      <td>..</td>\n",
       "      <td>..</td>\n",
       "      <td>..</td>\n",
       "      <td>12321541</td>\n",
       "    </tr>\n",
       "    <tr>\n",
       "      <th>1</th>\n",
       "      <td>1974</td>\n",
       "      <td>Albania</td>\n",
       "      <td>..</td>\n",
       "      <td>..</td>\n",
       "      <td>..</td>\n",
       "      <td>2350124</td>\n",
       "    </tr>\n",
       "    <tr>\n",
       "      <th>2</th>\n",
       "      <td>1974</td>\n",
       "      <td>Algeria</td>\n",
       "      <td>..</td>\n",
       "      <td>..</td>\n",
       "      <td>..</td>\n",
       "      <td>16247113</td>\n",
       "    </tr>\n",
       "    <tr>\n",
       "      <th>3</th>\n",
       "      <td>1974</td>\n",
       "      <td>Angola</td>\n",
       "      <td>..</td>\n",
       "      <td>..</td>\n",
       "      <td>..</td>\n",
       "      <td>7474338</td>\n",
       "    </tr>\n",
       "    <tr>\n",
       "      <th>4</th>\n",
       "      <td>1974</td>\n",
       "      <td>Argentina</td>\n",
       "      <td>..</td>\n",
       "      <td>..</td>\n",
       "      <td>..</td>\n",
       "      <td>25644506</td>\n",
       "    </tr>\n",
       "  </tbody>\n",
       "</table>\n",
       "</div>"
      ],
      "text/plain": [
       "   Year      Country  \\\n",
       "0  1974  Afghanistan   \n",
       "1  1974      Albania   \n",
       "2  1974      Algeria   \n",
       "3  1974       Angola   \n",
       "4  1974    Argentina   \n",
       "\n",
       "  Number of poor at $1.90 a day (2011 PPP) (millions) [SI.POV.NOP1]  \\\n",
       "0                                                 ..                  \n",
       "1                                                 ..                  \n",
       "2                                                 ..                  \n",
       "3                                                 ..                  \n",
       "4                                                 ..                  \n",
       "\n",
       "  Number of poor at $3.20 a day (2011 PPP) (millions) [SI.POV.LMIC.NO]  \\\n",
       "0                                                 ..                     \n",
       "1                                                 ..                     \n",
       "2                                                 ..                     \n",
       "3                                                 ..                     \n",
       "4                                                 ..                     \n",
       "\n",
       "  Number of poor at $5.50 a day (2011 PPP) (millions) [SI.POV.UMIC.NO]  \\\n",
       "0                                                 ..                     \n",
       "1                                                 ..                     \n",
       "2                                                 ..                     \n",
       "3                                                 ..                     \n",
       "4                                                 ..                     \n",
       "\n",
       "  Population, total [SP.POP.TOTL]  \n",
       "0                        12321541  \n",
       "1                         2350124  \n",
       "2                        16247113  \n",
       "3                         7474338  \n",
       "4                        25644506  "
      ]
     },
     "execution_count": 62,
     "metadata": {},
     "output_type": "execute_result"
    }
   ],
   "source": [
    "poverty.head()"
   ]
  },
  {
   "cell_type": "code",
   "execution_count": 63,
   "metadata": {},
   "outputs": [
    {
     "data": {
      "text/plain": [
       "2008                                      176\n",
       "2016                                      176\n",
       "1987                                      176\n",
       "2013                                      176\n",
       "1977                                      176\n",
       "1983                                      176\n",
       "1976                                      176\n",
       "1991                                      176\n",
       "1988                                      176\n",
       "1984                                      176\n",
       "1994                                      176\n",
       "1974                                      176\n",
       "2010                                      176\n",
       "2009                                      176\n",
       "1980                                      176\n",
       "1986                                      176\n",
       "1990                                      176\n",
       "1981                                      176\n",
       "1982                                      176\n",
       "2015                                      176\n",
       "1995                                      176\n",
       "1998                                      176\n",
       "2000                                      176\n",
       "2001                                      176\n",
       "1997                                      176\n",
       "1979                                      176\n",
       "2011                                      176\n",
       "2017                                      176\n",
       "2014                                      176\n",
       "2003                                      176\n",
       "1975                                      176\n",
       "2004                                      176\n",
       "1993                                      176\n",
       "1985                                      176\n",
       "2006                                      176\n",
       "1989                                      176\n",
       "1996                                      176\n",
       "2005                                      176\n",
       "2002                                      176\n",
       "2007                                      176\n",
       "1992                                      176\n",
       "1978                                      176\n",
       "2012                                      176\n",
       "1999                                      176\n",
       "Data from database: Poverty and Equity      1\n",
       "Last Updated: 09/21/2018                    1\n",
       "Name: Year, dtype: int64"
      ]
     },
     "execution_count": 63,
     "metadata": {},
     "output_type": "execute_result"
    }
   ],
   "source": [
    "poverty.Year.value_counts()"
   ]
  },
  {
   "cell_type": "markdown",
   "metadata": {},
   "source": [
    "The Year column has Last Updated: 09/21/2018 and Data from database: Poverty and Equity wchich don't represent time. They should be removed."
   ]
  },
  {
   "cell_type": "code",
   "execution_count": 64,
   "metadata": {},
   "outputs": [],
   "source": [
    "poverty = poverty[(poverty['Year']!='Last Updated: 09/21/2018') &\n",
    "                  (poverty['Year']!='Data from database: Poverty and Equity')]"
   ]
  },
  {
   "cell_type": "code",
   "execution_count": 65,
   "metadata": {},
   "outputs": [
    {
     "data": {
      "text/plain": [
       "2008    176\n",
       "1998    176\n",
       "1987    176\n",
       "2013    176\n",
       "1977    176\n",
       "1983    176\n",
       "1976    176\n",
       "1991    176\n",
       "1988    176\n",
       "1984    176\n",
       "1994    176\n",
       "1974    176\n",
       "2010    176\n",
       "2009    176\n",
       "1980    176\n",
       "1986    176\n",
       "1990    176\n",
       "1981    176\n",
       "1982    176\n",
       "2015    176\n",
       "1995    176\n",
       "2000    176\n",
       "2016    176\n",
       "2001    176\n",
       "1997    176\n",
       "1979    176\n",
       "2011    176\n",
       "2017    176\n",
       "2014    176\n",
       "2003    176\n",
       "1975    176\n",
       "2004    176\n",
       "1993    176\n",
       "1985    176\n",
       "2012    176\n",
       "2006    176\n",
       "1989    176\n",
       "1996    176\n",
       "2005    176\n",
       "2002    176\n",
       "2007    176\n",
       "1992    176\n",
       "1978    176\n",
       "1999    176\n",
       "Name: Year, dtype: int64"
      ]
     },
     "execution_count": 65,
     "metadata": {},
     "output_type": "execute_result"
    }
   ],
   "source": [
    "poverty['Year'].value_counts()"
   ]
  },
  {
   "cell_type": "code",
   "execution_count": 66,
   "metadata": {},
   "outputs": [],
   "source": [
    "#Converting Year column to a datetime format\n",
    "poverty['Year'] = pd.to_datetime(poverty['Year'])"
   ]
  },
  {
   "cell_type": "code",
   "execution_count": 67,
   "metadata": {},
   "outputs": [
    {
     "data": {
      "text/plain": [
       "Index(['Year', 'Country',\n",
       "       'Number of poor at $1.90 a day (2011 PPP) (millions) [SI.POV.NOP1]',\n",
       "       'Number of poor at $3.20 a day (2011 PPP) (millions) [SI.POV.LMIC.NO]',\n",
       "       'Number of poor at $5.50 a day (2011 PPP) (millions) [SI.POV.UMIC.NO]',\n",
       "       'Population, total [SP.POP.TOTL]'],\n",
       "      dtype='object')"
      ]
     },
     "execution_count": 67,
     "metadata": {},
     "output_type": "execute_result"
    }
   ],
   "source": [
    "poverty.columns"
   ]
  },
  {
   "cell_type": "markdown",
   "metadata": {},
   "source": [
    "The names of columns are quite complicated with category codes. Renaming them:"
   ]
  },
  {
   "cell_type": "code",
   "execution_count": 68,
   "metadata": {},
   "outputs": [],
   "source": [
    "poverty.rename(columns = {'Number of poor at $1.90 a day (2011 PPP) (millions) [SI.POV.NOP1]': '$1.90 a day (millions)',\n",
    "                          'Number of poor at $3.20 a day (2011 PPP) (millions) [SI.POV.LMIC.NO]': '$3.20 a day (millions)',\n",
    "                          'Number of poor at $5.50 a day (2011 PPP) (millions) [SI.POV.UMIC.NO]': '$5.50 a day (millions)',\n",
    "                          'Population, total [SP.POP.TOTL]': 'Population'},inplace=True)"
   ]
  },
  {
   "cell_type": "code",
   "execution_count": 69,
   "metadata": {},
   "outputs": [],
   "source": [
    "poverty.dropna(inplace=True)"
   ]
  },
  {
   "cell_type": "code",
   "execution_count": 70,
   "metadata": {},
   "outputs": [
    {
     "name": "stdout",
     "output_type": "stream",
     "text": [
      "<class 'pandas.core.frame.DataFrame'>\n",
      "Int64Index: 7744 entries, 0 to 7743\n",
      "Data columns (total 6 columns):\n",
      "Year                      7744 non-null datetime64[ns]\n",
      "Country                   7744 non-null object\n",
      "$1.90 a day (millions)    7744 non-null object\n",
      "$3.20 a day (millions)    7744 non-null object\n",
      "$5.50 a day (millions)    7744 non-null object\n",
      "Population                7744 non-null object\n",
      "dtypes: datetime64[ns](1), object(5)\n",
      "memory usage: 423.5+ KB\n"
     ]
    }
   ],
   "source": [
    "poverty.info()"
   ]
  },
  {
   "cell_type": "markdown",
   "metadata": {},
   "source": [
    "Dataset instead of using nulls uses '..' to represent missing data. Let's get rid of rows that have no data."
   ]
  },
  {
   "cell_type": "code",
   "execution_count": 71,
   "metadata": {},
   "outputs": [],
   "source": [
    "poverty = poverty[(poverty['$1.90 a day (millions)'] != '..') & (poverty['$3.20 a day (millions)'] != '..') & (poverty['$5.50 a day (millions)']!='..')]"
   ]
  },
  {
   "cell_type": "code",
   "execution_count": 72,
   "metadata": {},
   "outputs": [],
   "source": [
    "#Reseting index\n",
    "poverty.reset_index(drop=True, inplace=True)"
   ]
  },
  {
   "cell_type": "code",
   "execution_count": 73,
   "metadata": {},
   "outputs": [],
   "source": [
    "#All of the columns were represented as strings, it's now time to change them to floats\n",
    "poverty['$1.90 a day (millions)'] = poverty['$1.90 a day (millions)'].astype(float)"
   ]
  },
  {
   "cell_type": "code",
   "execution_count": 74,
   "metadata": {},
   "outputs": [],
   "source": [
    "poverty['$3.20 a day (millions)'] = poverty['$3.20 a day (millions)'].astype(float)"
   ]
  },
  {
   "cell_type": "code",
   "execution_count": 75,
   "metadata": {},
   "outputs": [],
   "source": [
    "poverty['$5.50 a day (millions)'] = poverty['$5.50 a day (millions)'].astype(float)"
   ]
  },
  {
   "cell_type": "code",
   "execution_count": 76,
   "metadata": {},
   "outputs": [],
   "source": [
    "poverty['Population'] = poverty['Population'].astype(float)"
   ]
  },
  {
   "cell_type": "markdown",
   "metadata": {},
   "source": [
    "Let's now transform the number of poor (remembering that the number represents millions of people) to a proportion of the entire population."
   ]
  },
  {
   "cell_type": "code",
   "execution_count": 77,
   "metadata": {},
   "outputs": [],
   "source": [
    "poverty['$1.90 a day (millions)'] = (poverty['$1.90 a day (millions)'] *1000000)/ poverty['Population']"
   ]
  },
  {
   "cell_type": "code",
   "execution_count": 78,
   "metadata": {},
   "outputs": [],
   "source": [
    "poverty['$3.20 a day (millions)'] = (poverty['$3.20 a day (millions)'] *1000000)/ poverty['Population']\n",
    "poverty['$5.50 a day (millions)'] = (poverty['$5.50 a day (millions)'] *1000000)/ poverty['Population']"
   ]
  },
  {
   "cell_type": "markdown",
   "metadata": {},
   "source": [
    "Columns need to be renamed again as they no longer represent millions but proportion."
   ]
  },
  {
   "cell_type": "code",
   "execution_count": 79,
   "metadata": {},
   "outputs": [],
   "source": [
    "poverty.rename(columns = {'$1.90 a day (millions)': '$1.90 a day',\n",
    "                          '$3.20 a day (millions)': '$3.20 a day',\n",
    "                          '$5.50 a day (millions)': '$5.50 a day'}, inplace=True)"
   ]
  },
  {
   "cell_type": "code",
   "execution_count": 80,
   "metadata": {},
   "outputs": [],
   "source": [
    "writer = pd.ExcelWriter('poverty.xlsx', engine='xlsxwriter')\n",
    "\n",
    "# Convert the dataframe to an XlsxWriter Excel object.\n",
    "poverty.to_excel(writer, sheet_name='Sheet1', header=True)\n",
    "\n",
    "# Close the Pandas Excel writer and output the Excel file.\n",
    "writer.save()"
   ]
  },
  {
   "cell_type": "code",
   "execution_count": null,
   "metadata": {},
   "outputs": [],
   "source": []
  }
 ],
 "metadata": {
  "kernelspec": {
   "display_name": "Python 3",
   "language": "python",
   "name": "python3"
  },
  "language_info": {
   "codemirror_mode": {
    "name": "ipython",
    "version": 3
   },
   "file_extension": ".py",
   "mimetype": "text/x-python",
   "name": "python",
   "nbconvert_exporter": "python",
   "pygments_lexer": "ipython3",
   "version": "3.7.2"
  }
 },
 "nbformat": 4,
 "nbformat_minor": 2
}
